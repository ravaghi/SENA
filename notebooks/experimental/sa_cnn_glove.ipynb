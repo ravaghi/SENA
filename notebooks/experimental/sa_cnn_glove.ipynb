{
 "cells": [
  {
   "cell_type": "markdown",
   "source": [
    "### Hyperparameters"
   ],
   "metadata": {
    "collapsed": false,
    "pycharm": {
     "name": "#%% md\n"
    }
   }
  },
  {
   "cell_type": "code",
   "execution_count": 1,
   "outputs": [],
   "source": [
    "from keras.callbacks import EarlyStopping\n",
    "\n",
    "# Stopping training when validation loss does not improve\n",
    "callbacks = [EarlyStopping(monitor=\"val_accuracy\", patience=3),\n",
    "             EarlyStopping(monitor=\"val_loss\", patience=3)]\n",
    "\n",
    "EPOCHS = 20\n",
    "BATCH_SIZE = 32"
   ],
   "metadata": {
    "collapsed": false,
    "pycharm": {
     "name": "#%%\n"
    }
   }
  },
  {
   "cell_type": "markdown",
   "source": [
    "### Loading data"
   ],
   "metadata": {
    "collapsed": false,
    "pycharm": {
     "name": "#%% md\n"
    }
   }
  },
  {
   "cell_type": "code",
   "execution_count": 2,
   "outputs": [
    {
     "name": "stdout",
     "output_type": "stream",
     "text": [
      "Cleaning text...\n",
      "Fitting tokenizer...\n",
      "Converting texts to sequences...\n",
      "Padding sequences...\n",
      "One-hot encoding labels...\n",
      "Done!\n",
      "Cleaning text...\n",
      "Fitting tokenizer...\n",
      "Converting texts to sequences...\n",
      "Padding sequences...\n",
      "One-hot encoding labels...\n",
      "Done!\n"
     ]
    }
   ],
   "source": [
    "from data.norec.dataloader import load_full_dataset\n",
    "from data.dataloader import load_data\n",
    "\n",
    "# Load binary data\n",
    "binary_dataset = load_full_dataset(binary=True)\n",
    "binary_data = load_data(binary_dataset)\n",
    "\n",
    "# Load multiclass data\n",
    "multiclass_dataset = load_full_dataset()\n",
    "multiclass_data = load_data(multiclass_dataset)"
   ],
   "metadata": {
    "collapsed": false,
    "pycharm": {
     "name": "#%%\n"
    }
   }
  },
  {
   "cell_type": "markdown",
   "source": [
    "# Classifying with multiclass dataset"
   ],
   "metadata": {
    "collapsed": false,
    "pycharm": {
     "name": "#%% md\n"
    }
   }
  },
  {
   "cell_type": "code",
   "execution_count": 3,
   "outputs": [
    {
     "name": "stdout",
     "output_type": "stream",
     "text": [
      "X_train shape: (34903, 210)\n",
      "X_val shape: (4360, 210)\n",
      "X_test shape: (4351, 210)\n",
      "y_train shape: (34903, 3)\n",
      "y_val shape: (4360, 3)\n",
      "y_test shape: (4351, 3)\n",
      "num_words: 26000\n",
      "maxlen: 210\n",
      "num_classes: 3\n"
     ]
    }
   ],
   "source": [
    "X_train = multiclass_data['X_train']\n",
    "X_val = multiclass_data['X_val']\n",
    "X_test = multiclass_data['X_test']\n",
    "y_train = multiclass_data['y_train']\n",
    "y_val = multiclass_data['y_val']\n",
    "y_test = multiclass_data['y_test']\n",
    "num_words = multiclass_data['num_words']\n",
    "maxlen = multiclass_data['maxlen']\n",
    "num_classes = multiclass_data['num_classes']\n",
    "multiclass_tokenizer = multiclass_data['tokenizer']\n",
    "\n",
    "print('X_train shape:', X_train.shape)\n",
    "print('X_val shape:', X_val.shape)\n",
    "print('X_test shape:', X_test.shape)\n",
    "print('y_train shape:', y_train.shape)\n",
    "print('y_val shape:', y_val.shape)\n",
    "print('y_test shape:', y_test.shape)\n",
    "print('num_words:', num_words)\n",
    "print('maxlen:', maxlen)\n",
    "print('num_classes:', num_classes)"
   ],
   "metadata": {
    "collapsed": false,
    "pycharm": {
     "name": "#%%\n"
    }
   }
  },
  {
   "cell_type": "markdown",
   "source": [
    "### Load embeddings"
   ],
   "metadata": {
    "collapsed": false
   }
  },
  {
   "cell_type": "code",
   "execution_count": 4,
   "outputs": [
    {
     "name": "stdout",
     "output_type": "stream",
     "text": [
      "Downloading embeddings ...\n",
      "Extracting embeddings...\n"
     ]
    },
    {
     "name": "stderr",
     "output_type": "stream",
     "text": [
      "Loading embeddings: 100%|██████████| 4480047/4480047 [07:57<00:00, 9381.23it/s] \n",
      "Creating embedding matrix: 100%|██████████| 388411/388411 [00:02<00:00, 179971.43it/s]\n"
     ]
    }
   ],
   "source": [
    "from utils.embeddings import load_embeddings\n",
    "import numpy as np\n",
    "from tqdm import tqdm\n",
    "\n",
    "embeddings_index = load_embeddings()\n",
    "\n",
    "word_index = multiclass_tokenizer.word_index\n",
    "\n",
    "embedding_dim = 100\n",
    "vocab_size = len(word_index) + 1\n",
    "\n",
    "embedding_matrix = np.zeros((vocab_size, embedding_dim))\n",
    "for word, i in tqdm(word_index.items(), desc=\"Creating embedding matrix\"):\n",
    "    embedding_vector = embeddings_index.item().get(word)\n",
    "    if embedding_vector is not None:\n",
    "        embedding_matrix[i] = embedding_vector"
   ],
   "metadata": {
    "collapsed": false,
    "pycharm": {
     "name": "#%%\n"
    }
   }
  },
  {
   "cell_type": "code",
   "execution_count": 5,
   "outputs": [
    {
     "name": "stdout",
     "output_type": "stream",
     "text": [
      "Model: \"sequential\"\n",
      "_________________________________________________________________\n",
      " Layer (type)                Output Shape              Param #   \n",
      "=================================================================\n",
      " embedding (Embedding)       (None, 210, 100)          38841200  \n",
      "                                                                 \n",
      " input_1 (InputLayer)        multiple                  0         \n",
      "                                                                 \n",
      " conv1d (Conv1D)             (None, 206, 256)          128256    \n",
      "                                                                 \n",
      " max_pooling1d (MaxPooling1D  (None, 41, 256)          0         \n",
      " )                                                               \n",
      "                                                                 \n",
      " conv1d_1 (Conv1D)           (None, 37, 128)           163968    \n",
      "                                                                 \n",
      " global_max_pooling1d (Globa  (None, 128)              0         \n",
      " lMaxPooling1D)                                                  \n",
      "                                                                 \n",
      " flatten (Flatten)           (None, 128)               0         \n",
      "                                                                 \n",
      " dense (Dense)               (None, 64)                8256      \n",
      "                                                                 \n",
      " dense_1 (Dense)             (None, 3)                 195       \n",
      "                                                                 \n",
      "=================================================================\n",
      "Total params: 39,141,875\n",
      "Trainable params: 300,675\n",
      "Non-trainable params: 38,841,200\n",
      "_________________________________________________________________\n"
     ]
    }
   ],
   "source": [
    "from keras import Input\n",
    "from keras.layers import Embedding, Flatten, Dense, Conv1D, MaxPooling1D, GlobalMaxPooling1D\n",
    "from keras.models import Sequential\n",
    "\n",
    "model = Sequential()\n",
    "model.add(Embedding(vocab_size, embedding_dim, input_length=maxlen, weights=[embedding_matrix], trainable=False))\n",
    "model.add(Input(shape=(maxlen,), dtype=\"float32\"))\n",
    "model.add(Conv1D(256, 5, activation='relu'))\n",
    "model.add(MaxPooling1D(5))\n",
    "model.add(Conv1D(128, 5, activation='relu'))\n",
    "model.add(GlobalMaxPooling1D())\n",
    "model.add(Flatten())\n",
    "model.add(Dense(64, activation='relu'))\n",
    "model.add(Dense(num_classes, activation='softmax'))\n",
    "\n",
    "model.compile(loss=\"categorical_crossentropy\", optimizer=\"adam\", metrics=[\"accuracy\"])\n",
    "model.summary()"
   ],
   "metadata": {
    "collapsed": false,
    "pycharm": {
     "name": "#%%\n"
    }
   }
  },
  {
   "cell_type": "code",
   "execution_count": 6,
   "outputs": [
    {
     "name": "stdout",
     "output_type": "stream",
     "text": [
      "Epoch 1/20\n",
      "1091/1091 [==============================] - 93s 83ms/step - loss: 0.6632 - accuracy: 0.7505 - val_loss: 0.5799 - val_accuracy: 0.7706\n",
      "Epoch 2/20\n",
      "1091/1091 [==============================] - 84s 77ms/step - loss: 0.5912 - accuracy: 0.7651 - val_loss: 0.5562 - val_accuracy: 0.7768\n",
      "Epoch 3/20\n",
      "1091/1091 [==============================] - 86s 79ms/step - loss: 0.5237 - accuracy: 0.7900 - val_loss: 0.5557 - val_accuracy: 0.7757\n",
      "Epoch 4/20\n",
      "1091/1091 [==============================] - 86s 78ms/step - loss: 0.4195 - accuracy: 0.8333 - val_loss: 0.6050 - val_accuracy: 0.7603\n",
      "Epoch 5/20\n",
      "1091/1091 [==============================] - 85s 78ms/step - loss: 0.2956 - accuracy: 0.8861 - val_loss: 0.7627 - val_accuracy: 0.7686\n"
     ]
    }
   ],
   "source": [
    "history = model.fit(X_train, y_train, epochs=EPOCHS, batch_size=BATCH_SIZE,\n",
    "                    validation_data=(X_val, y_val), verbose=1, callbacks=callbacks)"
   ],
   "metadata": {
    "collapsed": false,
    "pycharm": {
     "name": "#%%\n"
    }
   }
  },
  {
   "cell_type": "code",
   "execution_count": 7,
   "outputs": [
    {
     "name": "stdout",
     "output_type": "stream",
     "text": [
      "136/136 [==============================] - 3s 25ms/step - loss: 0.7779 - accuracy: 0.7679\n",
      "Validation loss: 0.7778910398483276\n",
      "Validation accuracy: 0.7678694725036621\n"
     ]
    }
   ],
   "source": [
    "val_loss, val_acc = model.evaluate(X_test, y_test)\n",
    "print(\"Validation loss:\", val_loss)\n",
    "print(\"Validation accuracy:\", val_acc)"
   ],
   "metadata": {
    "collapsed": false,
    "pycharm": {
     "name": "#%%\n"
    }
   }
  },
  {
   "cell_type": "code",
   "execution_count": 8,
   "outputs": [
    {
     "data": {
      "text/plain": "<Figure size 1296x432 with 2 Axes>",
      "image/png": "[encoded data removed]"
     },
     "metadata": {},
     "output_type": "display_data"
    }
   ],
   "source": [
    "from utils.visualization import plot_history\n",
    "\n",
    "plot_history(history, save=False, show=True)"
   ],
   "metadata": {
    "collapsed": false,
    "pycharm": {
     "name": "#%%\n"
    }
   }
  },
  {
   "cell_type": "markdown",
   "source": [
    "# Classifying with binary dataset"
   ],
   "metadata": {
    "collapsed": false,
    "pycharm": {
     "name": "#%% md\n"
    }
   }
  },
  {
   "cell_type": "code",
   "execution_count": 13,
   "outputs": [
    {
     "name": "stdout",
     "output_type": "stream",
     "text": [
      "X_train shape: (34903, 210)\n",
      "X_val shape: (4360, 210)\n",
      "X_test shape: (4351, 210)\n",
      "y_train shape: (34903, 2)\n",
      "y_val shape: (4360, 2)\n",
      "y_test shape: (4351, 2)\n",
      "num_words: 26000\n",
      "maxlen: 210\n",
      "num_classes: 2\n"
     ]
    }
   ],
   "source": [
    "X_train = binary_data['X_train']\n",
    "X_val = binary_data['X_val']\n",
    "X_test = binary_data['X_test']\n",
    "y_train = binary_data['y_train']\n",
    "y_val = binary_data['y_val']\n",
    "y_test = binary_data['y_test']\n",
    "num_words = binary_data['num_words']\n",
    "maxlen = binary_data['maxlen']\n",
    "num_classes = binary_data['num_classes']\n",
    "binary_tokenizer = binary_data['tokenizer']\n",
    "\n",
    "print('X_train shape:', X_train.shape)\n",
    "print('X_val shape:', X_val.shape)\n",
    "print('X_test shape:', X_test.shape)\n",
    "print('y_train shape:', y_train.shape)\n",
    "print('y_val shape:', y_val.shape)\n",
    "print('y_test shape:', y_test.shape)\n",
    "print('num_words:', num_words)\n",
    "print('maxlen:', maxlen)\n",
    "print('num_classes:', num_classes)"
   ],
   "metadata": {
    "collapsed": false,
    "pycharm": {
     "name": "#%%\n"
    }
   }
  },
  {
   "cell_type": "markdown",
   "source": [
    "### Load embeddings"
   ],
   "metadata": {
    "collapsed": false,
    "pycharm": {
     "name": "#%% md\n"
    }
   }
  },
  {
   "cell_type": "code",
   "execution_count": 14,
   "outputs": [
    {
     "name": "stderr",
     "output_type": "stream",
     "text": [
      "Creating embedding matrix: 100%|██████████| 388411/388411 [00:00<00:00, 408790.98it/s]\n"
     ]
    }
   ],
   "source": [
    "word_index = binary_tokenizer.word_index\n",
    "\n",
    "embedding_dim = 100\n",
    "vocab_size = len(word_index) + 1\n",
    "\n",
    "embedding_matrix = np.zeros((vocab_size, embedding_dim))\n",
    "for word, i in tqdm(word_index.items(), desc=\"Creating embedding matrix\"):\n",
    "    embedding_vector = embeddings_index.item().get(word)\n",
    "    if embedding_vector is not None:\n",
    "        embedding_matrix[i] = embedding_vector"
   ],
   "metadata": {
    "collapsed": false,
    "pycharm": {
     "name": "#%%\n"
    }
   }
  },
  {
   "cell_type": "code",
   "execution_count": 15,
   "outputs": [
    {
     "name": "stdout",
     "output_type": "stream",
     "text": [
      "Model: \"sequential_2\"\n",
      "_________________________________________________________________\n",
      " Layer (type)                Output Shape              Param #   \n",
      "=================================================================\n",
      " embedding_2 (Embedding)     (None, 210, 100)          38841200  \n",
      "                                                                 \n",
      " input_3 (InputLayer)        multiple                  0         \n",
      "                                                                 \n",
      " conv1d_4 (Conv1D)           (None, 206, 256)          128256    \n",
      "                                                                 \n",
      " max_pooling1d_2 (MaxPooling  (None, 41, 256)          0         \n",
      " 1D)                                                             \n",
      "                                                                 \n",
      " conv1d_5 (Conv1D)           (None, 37, 128)           163968    \n",
      "                                                                 \n",
      " global_max_pooling1d_2 (Glo  (None, 128)              0         \n",
      " balMaxPooling1D)                                                \n",
      "                                                                 \n",
      " flatten_2 (Flatten)         (None, 128)               0         \n",
      "                                                                 \n",
      " dense_4 (Dense)             (None, 64)                8256      \n",
      "                                                                 \n",
      " dense_5 (Dense)             (None, 2)                 130       \n",
      "                                                                 \n",
      "=================================================================\n",
      "Total params: 39,141,810\n",
      "Trainable params: 300,610\n",
      "Non-trainable params: 38,841,200\n",
      "_________________________________________________________________\n"
     ]
    }
   ],
   "source": [
    "model = Sequential()\n",
    "model.add(Embedding(vocab_size, embedding_dim, input_length=maxlen, weights=[embedding_matrix], trainable=False))\n",
    "model.add(Input(shape=(maxlen,), dtype=\"float32\"))\n",
    "model.add(Conv1D(256, 5, activation='relu'))\n",
    "model.add(MaxPooling1D(5))\n",
    "model.add(Conv1D(128, 5, activation='relu'))\n",
    "model.add(GlobalMaxPooling1D())\n",
    "model.add(Flatten())\n",
    "model.add(Dense(64, activation='relu'))\n",
    "model.add(Dense(num_classes, activation='softmax'))\n",
    "\n",
    "model.compile(loss=\"categorical_crossentropy\", optimizer=\"adam\", metrics=[\"accuracy\"])\n",
    "model.summary()"
   ],
   "metadata": {
    "collapsed": false,
    "pycharm": {
     "name": "#%%\n"
    }
   }
  },
  {
   "cell_type": "code",
   "execution_count": 16,
   "outputs": [
    {
     "name": "stdout",
     "output_type": "stream",
     "text": [
      "Epoch 1/20\n",
      "1091/1091 [==============================] - 69s 62ms/step - loss: 0.5144 - accuracy: 0.7610 - val_loss: 0.4452 - val_accuracy: 0.7927\n",
      "Epoch 2/20\n",
      "1091/1091 [==============================] - 72s 66ms/step - loss: 0.4509 - accuracy: 0.7923 - val_loss: 0.4387 - val_accuracy: 0.7975\n",
      "Epoch 3/20\n",
      "1091/1091 [==============================] - 68s 62ms/step - loss: 0.3939 - accuracy: 0.8257 - val_loss: 0.4366 - val_accuracy: 0.8037\n",
      "Epoch 4/20\n",
      "1091/1091 [==============================] - 63s 58ms/step - loss: 0.3159 - accuracy: 0.8667 - val_loss: 0.4743 - val_accuracy: 0.7986\n",
      "Epoch 5/20\n",
      "1091/1091 [==============================] - 64s 58ms/step - loss: 0.2154 - accuracy: 0.9141 - val_loss: 0.5631 - val_accuracy: 0.7853\n",
      "Epoch 6/20\n",
      "1091/1091 [==============================] - 64s 59ms/step - loss: 0.1310 - accuracy: 0.9511 - val_loss: 0.7080 - val_accuracy: 0.7853\n"
     ]
    }
   ],
   "source": [
    "history = model.fit(X_train, y_train, epochs=EPOCHS, batch_size=BATCH_SIZE, validation_data=(X_val, y_val), verbose=1,\n",
    "                    callbacks=callbacks)"
   ],
   "metadata": {
    "collapsed": false,
    "pycharm": {
     "name": "#%%\n"
    }
   }
  },
  {
   "cell_type": "code",
   "execution_count": 17,
   "outputs": [
    {
     "name": "stdout",
     "output_type": "stream",
     "text": [
      "136/136 [==============================] - 3s 21ms/step - loss: 0.7408 - accuracy: 0.7787\n",
      "Validation loss: 0.7408137321472168\n",
      "Validation accuracy: 0.7786715626716614\n"
     ]
    }
   ],
   "source": [
    "val_loss, val_acc = model.evaluate(X_test, y_test)\n",
    "print(\"Validation loss:\", val_loss)\n",
    "print(\"Validation accuracy:\", val_acc)"
   ],
   "metadata": {
    "collapsed": false,
    "pycharm": {
     "name": "#%%\n"
    }
   }
  },
  {
   "cell_type": "code",
   "execution_count": 18,
   "outputs": [
    {
     "data": {
      "text/plain": "<Figure size 1296x432 with 2 Axes>",
      "image/png": "[encoded data removed]"
     },
     "metadata": {},
     "output_type": "display_data"
    }
   ],
   "source": [
    "plot_history(history, save=False, show=True)"
   ],
   "metadata": {
    "collapsed": false,
    "pycharm": {
     "name": "#%%\n"
    }
   }
  }
 ],
 "metadata": {
  "kernelspec": {
   "display_name": "Python 3",
   "language": "python",
   "name": "python3"
  },
  "language_info": {
   "codemirror_mode": {
    "name": "ipython",
    "version": 2
   },
   "file_extension": ".py",
   "mimetype": "text/x-python",
   "name": "python",
   "nbconvert_exporter": "python",
   "pygments_lexer": "ipython2",
   "version": "2.7.6"
  }
 },
 "nbformat": 4,
 "nbformat_minor": 0
}