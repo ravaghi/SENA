{
 "cells": [
  {
   "cell_type": "markdown",
   "source": [
    "### Hyperparameters"
   ],
   "metadata": {
    "collapsed": false,
    "pycharm": {
     "name": "#%% md\n"
    }
   }
  },
  {
   "cell_type": "code",
   "execution_count": 1,
   "outputs": [],
   "source": [
    "from keras.callbacks import EarlyStopping\n",
    "\n",
    "# Stopping training when validation loss does not improve\n",
    "callbacks = [EarlyStopping(monitor=\"val_accuracy\", patience=5),\n",
    "             EarlyStopping(monitor=\"val_loss\", patience=5)]\n",
    "\n",
    "EPOCHS = 20\n",
    "BATCH_SIZE = 32\n",
    "EMBEDDING_DIM = 100"
   ],
   "metadata": {
    "collapsed": false,
    "pycharm": {
     "name": "#%%\n"
    }
   }
  },
  {
   "cell_type": "markdown",
   "source": [
    "### Loading data"
   ],
   "metadata": {
    "collapsed": false,
    "pycharm": {
     "name": "#%% md\n"
    }
   }
  },
  {
   "cell_type": "code",
   "execution_count": 2,
   "outputs": [],
   "source": [
    "from data.uci_news_aggregator.dataloader import load_full_dataset\n",
    "import pandas as pd\n",
    "\n",
    "dataset = load_full_dataset()\n",
    "\n",
    "train = dataset[\"train\"]\n",
    "val = dataset[\"dev\"]\n",
    "test = dataset[\"test\"]\n",
    "\n",
    "# Combining data for later use\n",
    "combined_data = pd.concat([train, val, test]).reset_index(drop=True)\n",
    "\n",
    "# Separating texts and labels\n",
    "X_train, y_train = train[\"text\"], train[\"label\"]\n",
    "X_val, y_val = val[\"text\"], val[\"label\"]\n",
    "X_test, y_test = test[\"text\"], test[\"label\"]"
   ],
   "metadata": {
    "collapsed": false,
    "pycharm": {
     "name": "#%%\n"
    }
   }
  },
  {
   "cell_type": "code",
   "execution_count": 3,
   "outputs": [
    {
     "data": {
      "text/plain": "'Lisa Niemi Marries Albert DePrisco'"
     },
     "execution_count": 3,
     "metadata": {},
     "output_type": "execute_result"
    }
   ],
   "source": [
    "X_train[0]"
   ],
   "metadata": {
    "collapsed": false,
    "pycharm": {
     "name": "#%%\n"
    }
   }
  },
  {
   "cell_type": "code",
   "execution_count": 4,
   "outputs": [
    {
     "data": {
      "text/plain": "0"
     },
     "execution_count": 4,
     "metadata": {},
     "output_type": "execute_result"
    }
   ],
   "source": [
    "y_train[0]"
   ],
   "metadata": {
    "collapsed": false,
    "pycharm": {
     "name": "#%%\n"
    }
   }
  },
  {
   "cell_type": "markdown",
   "source": [
    "### Preprocessing data"
   ],
   "metadata": {
    "collapsed": false,
    "pycharm": {
     "name": "#%% md\n"
    }
   }
  },
  {
   "cell_type": "code",
   "execution_count": 5,
   "outputs": [],
   "source": [
    "from collections import Counter\n",
    "import math\n",
    "\n",
    "num_words = Counter()\n",
    "for text in combined_data[\"text\"]:\n",
    "    sentences = text.split(\" \")\n",
    "    for word in sentences:\n",
    "        num_words[word] += 1\n",
    "# Shorten the number of the words to improve training\n",
    "num_words = len(num_words) / 20\n",
    "num_words = math.ceil(num_words / 1000) * 1000"
   ],
   "metadata": {
    "collapsed": false,
    "pycharm": {
     "name": "#%%\n"
    }
   }
  },
  {
   "cell_type": "code",
   "execution_count": 6,
   "outputs": [
    {
     "name": "stdout",
     "output_type": "stream",
     "text": [
      "Converting texts to sequences...\n"
     ]
    }
   ],
   "source": [
    "from keras.preprocessing.text import Tokenizer\n",
    "\n",
    "# Tokenizing texts\n",
    "tokenizer = Tokenizer(num_words=num_words, oov_token=\"<OOV>\", filters='!\"#$%&()*+,-./:;<=>?@[\\]^_`{|}~', lower=True)\n",
    "tokenizer.fit_on_texts(combined_data[\"text\"].tolist())\n",
    "\n",
    "# Converting texts to sequences\n",
    "print(\"Converting texts to sequences...\")\n",
    "X_train = tokenizer.texts_to_sequences(X_train)\n",
    "X_val = tokenizer.texts_to_sequences(X_val)\n",
    "X_test = tokenizer.texts_to_sequences(X_test)"
   ],
   "metadata": {
    "collapsed": false,
    "pycharm": {
     "name": "#%%\n"
    }
   }
  },
  {
   "cell_type": "code",
   "execution_count": 7,
   "outputs": [
    {
     "data": {
      "text/plain": "[6927, 1, 1682, 1, 1]"
     },
     "execution_count": 7,
     "metadata": {},
     "output_type": "execute_result"
    }
   ],
   "source": [
    "X_train[0]"
   ],
   "metadata": {
    "collapsed": false,
    "pycharm": {
     "name": "#%%\n"
    }
   }
  },
  {
   "cell_type": "code",
   "execution_count": 8,
   "outputs": [
    {
     "name": "stdout",
     "output_type": "stream",
     "text": [
      "Padding sequences...\n"
     ]
    }
   ],
   "source": [
    "import numpy as np\n",
    "from keras.preprocessing.sequence import pad_sequences\n",
    "\n",
    "# Deciding embedding vector length\n",
    "maxlen = (int(np.ceil(np.mean([len(text.split()) for text in combined_data.text]))))\n",
    "\n",
    "# Padding sequences with zeros until they reach a certain length\n",
    "print(\"Padding sequences...\")\n",
    "X_train = pad_sequences(X_train, maxlen=maxlen)\n",
    "X_val = pad_sequences(X_val, maxlen=maxlen)\n",
    "X_test = pad_sequences(X_test, maxlen=maxlen)"
   ],
   "metadata": {
    "collapsed": false,
    "pycharm": {
     "name": "#%%\n"
    }
   }
  },
  {
   "cell_type": "code",
   "execution_count": 9,
   "outputs": [
    {
     "data": {
      "text/plain": "array([   0,    0,    0,    0,    0, 6927,    1, 1682,    1,    1])"
     },
     "execution_count": 9,
     "metadata": {},
     "output_type": "execute_result"
    }
   ],
   "source": [
    "X_train[0]"
   ],
   "metadata": {
    "collapsed": false,
    "pycharm": {
     "name": "#%%\n"
    }
   }
  },
  {
   "cell_type": "code",
   "execution_count": 10,
   "outputs": [
    {
     "name": "stdout",
     "output_type": "stream",
     "text": [
      "One-hot encoding labels...\n"
     ]
    }
   ],
   "source": [
    "from keras.utils.np_utils import to_categorical\n",
    "\n",
    "# Number of unique classes in the dataset\n",
    "num_classes = len(np.unique(y_train))\n",
    "\n",
    "# One-hot encoding of labels\n",
    "print(\"One-hot encoding labels...\")\n",
    "y_train = to_categorical(y_train, num_classes=num_classes)\n",
    "y_val = to_categorical(y_val, num_classes=num_classes)\n",
    "y_test = to_categorical(y_test, num_classes=num_classes)"
   ],
   "metadata": {
    "collapsed": false,
    "pycharm": {
     "name": "#%%\n"
    }
   }
  },
  {
   "cell_type": "code",
   "execution_count": 11,
   "outputs": [
    {
     "data": {
      "text/plain": "array([1., 0., 0., 0.], dtype=float32)"
     },
     "execution_count": 11,
     "metadata": {},
     "output_type": "execute_result"
    }
   ],
   "source": [
    "y_train[0]"
   ],
   "metadata": {
    "collapsed": false,
    "pycharm": {
     "name": "#%%\n"
    }
   }
  },
  {
   "cell_type": "markdown",
   "source": [
    "# Training with multiclass dataset"
   ],
   "metadata": {
    "collapsed": false
   }
  },
  {
   "cell_type": "code",
   "execution_count": 12,
   "outputs": [
    {
     "name": "stdout",
     "output_type": "stream",
     "text": [
      "X_train shape: (337935, 10)\n",
      "X_val shape: (42242, 10)\n",
      "X_test shape: (42242, 10)\n",
      "y_train shape: (337935, 4)\n",
      "y_val shape: (42242, 4)\n",
      "y_test shape: (42242, 4)\n",
      "num_words: 9000\n",
      "maxlen: 10\n",
      "num_classes: 4\n"
     ]
    }
   ],
   "source": [
    "print('X_train shape:', X_train.shape)\n",
    "print('X_val shape:', X_val.shape)\n",
    "print('X_test shape:', X_test.shape)\n",
    "print('y_train shape:', y_train.shape)\n",
    "print('y_val shape:', y_val.shape)\n",
    "print('y_test shape:', y_test.shape)\n",
    "print('num_words:', num_words)\n",
    "print('maxlen:', maxlen)\n",
    "print('num_classes:', num_classes)"
   ],
   "metadata": {
    "collapsed": false,
    "pycharm": {
     "name": "#%%\n"
    }
   }
  },
  {
   "cell_type": "code",
   "execution_count": 17,
   "outputs": [
    {
     "name": "stdout",
     "output_type": "stream",
     "text": [
      "Model: \"sequential_1\"\n",
      "_________________________________________________________________\n",
      " Layer (type)                Output Shape              Param #   \n",
      "=================================================================\n",
      " embedding_1 (Embedding)     (None, 10, 100)           900000    \n",
      "                                                                 \n",
      " spatial_dropout1d (SpatialD  (None, 10, 100)          0         \n",
      " ropout1D)                                                       \n",
      "                                                                 \n",
      " lstm_1 (LSTM)               (None, 32)                17024     \n",
      "                                                                 \n",
      " dense_1 (Dense)             (None, 4)                 132       \n",
      "                                                                 \n",
      "=================================================================\n",
      "Total params: 917,156\n",
      "Trainable params: 917,156\n",
      "Non-trainable params: 0\n",
      "_________________________________________________________________\n"
     ]
    }
   ],
   "source": [
    "from keras.models import Sequential\n",
    "from keras.layers import Dense, LSTM, Embedding, SpatialDropout1D\n",
    "from keras.optimizers import adam_v2\n",
    "\n",
    "model = Sequential()\n",
    "model.add(Embedding(num_words, EMBEDDING_DIM, input_length=X_train.shape[1]))\n",
    "model.add(SpatialDropout1D(0.3))\n",
    "model.add(LSTM(32, dropout=0.3, recurrent_dropout=0.3))\n",
    "model.add(Dense(num_classes, activation='softmax'))\n",
    "\n",
    "model.compile(loss=\"categorical_crossentropy\", optimizer=adam_v2.Adam(learning_rate=1e-4), metrics=[\"accuracy\"])\n",
    "model.summary()"
   ],
   "metadata": {
    "collapsed": false,
    "pycharm": {
     "name": "#%%\n"
    }
   }
  },
  {
   "cell_type": "code",
   "execution_count": 18,
   "outputs": [
    {
     "name": "stdout",
     "output_type": "stream",
     "text": [
      "Epoch 1/20\n",
      "10561/10561 [==============================] - 190s 18ms/step - loss: 0.4764 - accuracy: 0.8241 - val_loss: 0.2550 - val_accuracy: 0.9135\n",
      "Epoch 2/20\n",
      "10561/10561 [==============================] - 183s 17ms/step - loss: 0.2474 - accuracy: 0.9145 - val_loss: 0.2237 - val_accuracy: 0.9225\n",
      "Epoch 3/20\n",
      "10561/10561 [==============================] - 223s 21ms/step - loss: 0.2212 - accuracy: 0.9227 - val_loss: 0.2170 - val_accuracy: 0.9248\n",
      "Epoch 4/20\n",
      "10561/10561 [==============================] - 271s 26ms/step - loss: 0.2108 - accuracy: 0.9256 - val_loss: 0.2148 - val_accuracy: 0.9243\n",
      "Epoch 5/20\n",
      "10561/10561 [==============================] - 269s 25ms/step - loss: 0.2051 - accuracy: 0.9279 - val_loss: 0.2142 - val_accuracy: 0.9244\n",
      "Epoch 6/20\n",
      "10561/10561 [==============================] - 270s 26ms/step - loss: 0.2002 - accuracy: 0.9291 - val_loss: 0.2128 - val_accuracy: 0.9249\n",
      "Epoch 7/20\n",
      "10561/10561 [==============================] - 266s 25ms/step - loss: 0.1969 - accuracy: 0.9303 - val_loss: 0.2123 - val_accuracy: 0.9254\n",
      "Epoch 8/20\n",
      "10561/10561 [==============================] - 262s 25ms/step - loss: 0.1941 - accuracy: 0.9312 - val_loss: 0.2118 - val_accuracy: 0.9247\n",
      "Epoch 9/20\n",
      "10561/10561 [==============================] - 261s 25ms/step - loss: 0.1909 - accuracy: 0.9323 - val_loss: 0.2104 - val_accuracy: 0.9251\n",
      "Epoch 10/20\n",
      "10561/10561 [==============================] - 262s 25ms/step - loss: 0.1881 - accuracy: 0.9331 - val_loss: 0.2098 - val_accuracy: 0.9257\n",
      "Epoch 11/20\n",
      "10561/10561 [==============================] - 266s 25ms/step - loss: 0.1854 - accuracy: 0.9338 - val_loss: 0.2104 - val_accuracy: 0.9258\n",
      "Epoch 12/20\n",
      "10561/10561 [==============================] - 268s 25ms/step - loss: 0.1833 - accuracy: 0.9348 - val_loss: 0.2095 - val_accuracy: 0.9261\n",
      "Epoch 13/20\n",
      "10561/10561 [==============================] - 262s 25ms/step - loss: 0.1812 - accuracy: 0.9356 - val_loss: 0.2087 - val_accuracy: 0.9266\n",
      "Epoch 14/20\n",
      "10561/10561 [==============================] - 186s 18ms/step - loss: 0.1788 - accuracy: 0.9363 - val_loss: 0.2078 - val_accuracy: 0.9266\n",
      "Epoch 15/20\n",
      "10561/10561 [==============================] - 189s 18ms/step - loss: 0.1766 - accuracy: 0.9369 - val_loss: 0.2077 - val_accuracy: 0.9270\n",
      "Epoch 16/20\n",
      "10561/10561 [==============================] - 205s 19ms/step - loss: 0.1746 - accuracy: 0.9375 - val_loss: 0.2076 - val_accuracy: 0.9269\n",
      "Epoch 17/20\n",
      "10561/10561 [==============================] - 193s 18ms/step - loss: 0.1735 - accuracy: 0.9381 - val_loss: 0.2068 - val_accuracy: 0.9276\n",
      "Epoch 18/20\n",
      "10561/10561 [==============================] - 235s 22ms/step - loss: 0.1717 - accuracy: 0.9386 - val_loss: 0.2073 - val_accuracy: 0.9281\n",
      "Epoch 19/20\n",
      "10561/10561 [==============================] - 237s 22ms/step - loss: 0.1699 - accuracy: 0.9393 - val_loss: 0.2092 - val_accuracy: 0.9279\n",
      "Epoch 20/20\n",
      "10561/10561 [==============================] - 245s 23ms/step - loss: 0.1686 - accuracy: 0.9398 - val_loss: 0.2090 - val_accuracy: 0.9285\n"
     ]
    }
   ],
   "source": [
    "history = model.fit(X_train, y_train, epochs=EPOCHS, batch_size=BATCH_SIZE,\n",
    "                    validation_data=(X_val, y_val), verbose=1, callbacks=callbacks)"
   ],
   "metadata": {
    "collapsed": false,
    "pycharm": {
     "name": "#%%\n"
    }
   }
  },
  {
   "cell_type": "code",
   "execution_count": 19,
   "outputs": [
    {
     "name": "stdout",
     "output_type": "stream",
     "text": [
      "1321/1321 [==============================] - 5s 4ms/step - loss: 0.2061 - accuracy: 0.9287\n",
      "Validation loss: 0.20609325170516968\n",
      "Validation accuracy: 0.9286965727806091\n"
     ]
    }
   ],
   "source": [
    "val_loss, val_acc = model.evaluate(X_test, y_test, verbose=1)\n",
    "print(\"Validation loss:\", val_loss)\n",
    "print(\"Validation accuracy:\", val_acc)"
   ],
   "metadata": {
    "collapsed": false,
    "pycharm": {
     "name": "#%%\n"
    }
   }
  },
  {
   "cell_type": "code",
   "source": [
    "from utils.visualization import plot_history\n",
    "\n",
    "plot_history(history, save=False, show=True)"
   ],
   "metadata": {
    "collapsed": false,
    "pycharm": {
     "name": "#%%\n"
    }
   },
   "execution_count": 20,
   "outputs": [
    {
     "data": {
      "text/plain": "<Figure size 1296x432 with 2 Axes>",
      "image/png": "[encoded data removed]"
     },
     "metadata": {},
     "output_type": "display_data"
    }
   ]
  }
 ],
 "metadata": {
  "kernelspec": {
   "display_name": "Python 3",
   "language": "python",
   "name": "python3"
  },
  "language_info": {
   "codemirror_mode": {
    "name": "ipython",
    "version": 2
   },
   "file_extension": ".py",
   "mimetype": "text/x-python",
   "name": "python",
   "nbconvert_exporter": "python",
   "pygments_lexer": "ipython2",
   "version": "2.7.6"
  }
 },
 "nbformat": 4,
 "nbformat_minor": 0
}