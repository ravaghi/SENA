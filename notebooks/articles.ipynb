{
 "cells": [
  {
   "cell_type": "code",
   "execution_count": 2,
   "metadata": {
    "collapsed": true
   },
   "outputs": [],
   "source": [
    "from data.articles import load_news_articles"
   ]
  },
  {
   "cell_type": "code",
   "execution_count": 3,
   "outputs": [
    {
     "name": "stderr",
     "output_type": "stream",
     "text": [
      "Loading articles from https://www.nrk.no/: 100%|██████████| 86/86 [00:54<00:00,  1.57it/s]\n",
      "Loading articles from https://www.vg.no/: 100%|██████████| 183/183 [00:51<00:00,  3.54it/s]\n",
      "Loading articles from https://www.aftenposten.no/: 100%|██████████| 69/69 [00:28<00:00,  2.40it/s]\n",
      "Loading articles from https://www.nettavisen.no/: 100%|██████████| 26/26 [00:17<00:00,  1.53it/s]\n"
     ]
    }
   ],
   "source": [
    "articles = load_news_articles()"
   ],
   "metadata": {
    "collapsed": false,
    "pycharm": {
     "name": "#%%\n"
    }
   }
  },
  {
   "cell_type": "code",
   "execution_count": 5,
   "outputs": [
    {
     "data": {
      "text/plain": "          source                                                url  \\\n0             vg  https://www.vg.no/rampelys/tv/i/8Q8dyx/mestern...   \n1             vg  https://www.vg.no/sport/fotball/i/G3LbLl/sigru...   \n2            nrk  https://www.nrk.no/sport/graham-hansen-med-lek...   \n3    aftenposten  https://www.aftenposten.no/verden/i/QybbMW/hva...   \n4             vg  https://www.vg.no/nyheter/innenriks/i/RreMM5/r...   \n..           ...                                                ...   \n210          nrk  https://www.nrk.no/urix/russland-skal-ha-tatt-...   \n211           vg  https://www.vg.no/forbruker/livsstil/i/Jxy3OR/...   \n212           vg  https://www.vg.no/rampelys/tv/i/z7Jp19/kardash...   \n213  aftenposten  https://www.aftenposten.no/kultur/i/lVyj7G/the...   \n214           vg  https://www.vg.no/sport/fotball/i/k6r5mk/vil-h...   \n\n                                                 title  \\\n0    «Mesternes mester» – fra Sørlandet til Sandefjord   \n1    Sigrun Vedelden om Drillo: – Jeg sier ifra i k...   \n2    Graham Hansen med lekker scoring foran over 90...   \n3    Hva skjer hvis krigen låser seg fast i Øst-Ukr...   \n4    Regjeringen med klar beskjed til Vy: Vil ha le...   \n..                                                 ...   \n210  Russland skal ha teke over 40 landsbyar i Donetsk   \n211  Da Dolph Lundgren (64) fridde, var norske Emma...   \n212  Kardashian-rettssak: Hevder Kylie fikk drapstr...   \n213  «The lost city» avføder en del humring på lavb...   \n214    Vil ha Drillo på sokkel: − Ikke noe å vente med   \n\n                                                  text  \n0    FRA SØRLANDET TIL SANDEFJORD: I fjor ble «Mest...  \n1    VG har ikke ansvar for innhold på eksterne net...  \n2    For andre gang fikk Caroline Graham Hansen og ...  \n3    Hva skjer hvis krigen låser seg fast i Øst-Ukr...  \n4    TYDELIG BUDSKAP: Samferdselsminister Jon-Ivar ...  \n..                                                 ...  \n210  INSTITUTE FOR THE STUDY OF WAR AND AEI'S CRITI...  \n211  Da Dolph Lundgren (64) fridde, var norske Emma...  \n212  KRANGEL: Kylie Jenner, her på MTV Video Music ...  \n213  «The lost city» avføder en del humring på lavb...  \n214  Vil ha Drillo på sokkel: − Ikke noe å vente me...  \n\n[215 rows x 4 columns]",
      "text/html": "<div>\n<style scoped>\n    .dataframe tbody tr th:only-of-type {\n        vertical-align: middle;\n    }\n\n    .dataframe tbody tr th {\n        vertical-align: top;\n    }\n\n    .dataframe thead th {\n        text-align: right;\n    }\n</style>\n<table border=\"1\" class=\"dataframe\">\n  <thead>\n    <tr style=\"text-align: right;\">\n      <th></th>\n      <th>source</th>\n      <th>url</th>\n      <th>title</th>\n      <th>text</th>\n    </tr>\n  </thead>\n  <tbody>\n    <tr>\n      <th>0</th>\n      <td>vg</td>\n      <td>https://www.vg.no/rampelys/tv/i/8Q8dyx/mestern...</td>\n      <td>«Mesternes mester» – fra Sørlandet til Sandefjord</td>\n      <td>FRA SØRLANDET TIL SANDEFJORD: I fjor ble «Mest...</td>\n    </tr>\n    <tr>\n      <th>1</th>\n      <td>vg</td>\n      <td>https://www.vg.no/sport/fotball/i/G3LbLl/sigru...</td>\n      <td>Sigrun Vedelden om Drillo: – Jeg sier ifra i k...</td>\n      <td>VG har ikke ansvar for innhold på eksterne net...</td>\n    </tr>\n    <tr>\n      <th>2</th>\n      <td>nrk</td>\n      <td>https://www.nrk.no/sport/graham-hansen-med-lek...</td>\n      <td>Graham Hansen med lekker scoring foran over 90...</td>\n      <td>For andre gang fikk Caroline Graham Hansen og ...</td>\n    </tr>\n    <tr>\n      <th>3</th>\n      <td>aftenposten</td>\n      <td>https://www.aftenposten.no/verden/i/QybbMW/hva...</td>\n      <td>Hva skjer hvis krigen låser seg fast i Øst-Ukr...</td>\n      <td>Hva skjer hvis krigen låser seg fast i Øst-Ukr...</td>\n    </tr>\n    <tr>\n      <th>4</th>\n      <td>vg</td>\n      <td>https://www.vg.no/nyheter/innenriks/i/RreMM5/r...</td>\n      <td>Regjeringen med klar beskjed til Vy: Vil ha le...</td>\n      <td>TYDELIG BUDSKAP: Samferdselsminister Jon-Ivar ...</td>\n    </tr>\n    <tr>\n      <th>...</th>\n      <td>...</td>\n      <td>...</td>\n      <td>...</td>\n      <td>...</td>\n    </tr>\n    <tr>\n      <th>210</th>\n      <td>nrk</td>\n      <td>https://www.nrk.no/urix/russland-skal-ha-tatt-...</td>\n      <td>Russland skal ha teke over 40 landsbyar i Donetsk</td>\n      <td>INSTITUTE FOR THE STUDY OF WAR AND AEI'S CRITI...</td>\n    </tr>\n    <tr>\n      <th>211</th>\n      <td>vg</td>\n      <td>https://www.vg.no/forbruker/livsstil/i/Jxy3OR/...</td>\n      <td>Da Dolph Lundgren (64) fridde, var norske Emma...</td>\n      <td>Da Dolph Lundgren (64) fridde, var norske Emma...</td>\n    </tr>\n    <tr>\n      <th>212</th>\n      <td>vg</td>\n      <td>https://www.vg.no/rampelys/tv/i/z7Jp19/kardash...</td>\n      <td>Kardashian-rettssak: Hevder Kylie fikk drapstr...</td>\n      <td>KRANGEL: Kylie Jenner, her på MTV Video Music ...</td>\n    </tr>\n    <tr>\n      <th>213</th>\n      <td>aftenposten</td>\n      <td>https://www.aftenposten.no/kultur/i/lVyj7G/the...</td>\n      <td>«The lost city» avføder en del humring på lavb...</td>\n      <td>«The lost city» avføder en del humring på lavb...</td>\n    </tr>\n    <tr>\n      <th>214</th>\n      <td>vg</td>\n      <td>https://www.vg.no/sport/fotball/i/k6r5mk/vil-h...</td>\n      <td>Vil ha Drillo på sokkel: − Ikke noe å vente med</td>\n      <td>Vil ha Drillo på sokkel: − Ikke noe å vente me...</td>\n    </tr>\n  </tbody>\n</table>\n<p>215 rows × 4 columns</p>\n</div>"
     },
     "execution_count": 5,
     "metadata": {},
     "output_type": "execute_result"
    }
   ],
   "source": [
    "articles"
   ],
   "metadata": {
    "collapsed": false,
    "pycharm": {
     "name": "#%%\n"
    }
   }
  }
 ],
 "metadata": {
  "kernelspec": {
   "display_name": "Python 3",
   "language": "python",
   "name": "python3"
  },
  "language_info": {
   "codemirror_mode": {
    "name": "ipython",
    "version": 2
   },
   "file_extension": ".py",
   "mimetype": "text/x-python",
   "name": "python",
   "nbconvert_exporter": "python",
   "pygments_lexer": "ipython2",
   "version": "2.7.6"
  }
 },
 "nbformat": 4,
 "nbformat_minor": 0
}