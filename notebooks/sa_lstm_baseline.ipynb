{
 "cells": [
  {
   "cell_type": "markdown",
   "source": [
    "### Hyperparameters"
   ],
   "metadata": {
    "collapsed": false,
    "pycharm": {
     "name": "#%% md\n"
    }
   }
  },
  {
   "cell_type": "code",
   "execution_count": 6,
   "outputs": [],
   "source": [
    "EPOCHS = 20\n",
    "BATCH_SIZE = 128\n",
    "\n",
    "EMBEDDING_DIM = 100\n",
    "LSTM_UNITS = 32"
   ],
   "metadata": {
    "collapsed": false,
    "pycharm": {
     "name": "#%%\n"
    }
   }
  },
  {
   "cell_type": "markdown",
   "source": [
    "### Loading data"
   ],
   "metadata": {
    "collapsed": false,
    "pycharm": {
     "name": "#%% md\n"
    }
   }
  },
  {
   "cell_type": "code",
   "execution_count": 2,
   "outputs": [
    {
     "name": "stdout",
     "output_type": "stream",
     "text": [
      "Cleaning text...\n",
      "Fitting tokenizer...\n",
      "Converting texts to sequences...\n",
      "Padding sequences...\n",
      "One-hot encoding labels...\n",
      "Done!\n",
      "Cleaning text...\n",
      "Fitting tokenizer...\n",
      "Converting texts to sequences...\n",
      "Padding sequences...\n",
      "One-hot encoding labels...\n",
      "Done!\n"
     ]
    }
   ],
   "source": [
    "from data.norec.dataloader import load_full_dataset\n",
    "from data.dataloader import load_data\n",
    "\n",
    "# Load multiclass data\n",
    "multiclass_dataset = load_full_dataset()\n",
    "multiclass_data = load_data(multiclass_dataset)"
   ],
   "metadata": {
    "collapsed": false,
    "pycharm": {
     "name": "#%%\n"
    }
   }
  },
  {
   "cell_type": "markdown",
   "source": [
    "# Classifying with multiclass dataset"
   ],
   "metadata": {
    "collapsed": false
   }
  },
  {
   "cell_type": "code",
   "execution_count": 3,
   "outputs": [
    {
     "name": "stdout",
     "output_type": "stream",
     "text": [
      "X_train shape: (34903, 219)\n",
      "X_val shape: (4360, 219)\n",
      "X_test shape: (4351, 219)\n",
      "y_train shape: (34903, 3)\n",
      "y_val shape: (4360, 3)\n",
      "y_test shape: (4351, 3)\n",
      "num_words: 20000\n",
      "maxlen: 219\n",
      "num_classes: 3\n"
     ]
    }
   ],
   "source": [
    "X_train = multiclass_data['X_train']\n",
    "X_val = multiclass_data['X_val']\n",
    "X_test = multiclass_data['X_test']\n",
    "y_train = multiclass_data['y_train']\n",
    "y_val = multiclass_data['y_val']\n",
    "y_test = multiclass_data['y_test']\n",
    "num_words = multiclass_data['num_words']\n",
    "maxlen = multiclass_data['maxlen']\n",
    "num_classes = multiclass_data['num_classes']\n",
    "multiclass_tokenizer = multiclass_data['tokenizer']\n",
    "\n",
    "print('X_train shape:', X_train.shape)\n",
    "print('X_val shape:', X_val.shape)\n",
    "print('X_test shape:', X_test.shape)\n",
    "print('y_train shape:', y_train.shape)\n",
    "print('y_val shape:', y_val.shape)\n",
    "print('y_test shape:', y_test.shape)\n",
    "print('num_words:', num_words)\n",
    "print('maxlen:', maxlen)\n",
    "print('num_classes:', num_classes)"
   ],
   "metadata": {
    "collapsed": false,
    "pycharm": {
     "name": "#%%\n"
    }
   }
  },
  {
   "cell_type": "code",
   "execution_count": 4,
   "outputs": [
    {
     "name": "stdout",
     "output_type": "stream",
     "text": [
      "Model: \"sequential\"\n",
      "_________________________________________________________________\n",
      " Layer (type)                Output Shape              Param #   \n",
      "=================================================================\n",
      " embedding (Embedding)       (None, 219, 100)          2000000   \n",
      "                                                                 \n",
      " lstm (LSTM)                 (None, 32)                17024     \n",
      "                                                                 \n",
      " dense (Dense)               (None, 3)                 99        \n",
      "                                                                 \n",
      "=================================================================\n",
      "Total params: 2,017,123\n",
      "Trainable params: 2,017,123\n",
      "Non-trainable params: 0\n",
      "_________________________________________________________________\n"
     ]
    }
   ],
   "source": [
    "from keras.models import Sequential\n",
    "from keras.layers import Dense, LSTM, Embedding\n",
    "\n",
    "model = Sequential()\n",
    "model.add(Embedding(num_words, EMBEDDING_DIM, input_length=maxlen))\n",
    "model.add(LSTM(LSTM_UNITS))\n",
    "model.add(Dense(num_classes, activation='softmax'))\n",
    "\n",
    "model.compile(loss=\"categorical_crossentropy\", optimizer=\"adam\", metrics=[\"accuracy\"])\n",
    "model.summary()"
   ],
   "metadata": {
    "collapsed": false,
    "pycharm": {
     "name": "#%%\n"
    }
   }
  },
  {
   "cell_type": "code",
   "execution_count": 7,
   "outputs": [
    {
     "name": "stdout",
     "output_type": "stream",
     "text": [
      "Epoch 1/20\n",
      "546/546 [==============================] - 25s 46ms/step - loss: 0.4951 - accuracy: 0.7961 - val_loss: 0.4790 - val_accuracy: 0.8037\n",
      "Epoch 2/20\n",
      "546/546 [==============================] - 25s 46ms/step - loss: 0.3523 - accuracy: 0.8613 - val_loss: 0.5237 - val_accuracy: 0.7899\n",
      "Epoch 3/20\n",
      "546/546 [==============================] - 26s 47ms/step - loss: 0.2247 - accuracy: 0.9186 - val_loss: 0.6481 - val_accuracy: 0.7975\n",
      "Epoch 4/20\n",
      "546/546 [==============================] - 25s 47ms/step - loss: 0.1307 - accuracy: 0.9550 - val_loss: 0.7582 - val_accuracy: 0.7851\n",
      "Epoch 5/20\n",
      "546/546 [==============================] - 26s 48ms/step - loss: 0.0816 - accuracy: 0.9734 - val_loss: 0.9616 - val_accuracy: 0.7881\n",
      "Epoch 6/20\n",
      "546/546 [==============================] - 26s 47ms/step - loss: 0.0537 - accuracy: 0.9830 - val_loss: 1.0567 - val_accuracy: 0.7603\n",
      "Epoch 7/20\n",
      "546/546 [==============================] - 25s 45ms/step - loss: 0.0406 - accuracy: 0.9879 - val_loss: 1.1676 - val_accuracy: 0.7716\n",
      "Epoch 8/20\n",
      "546/546 [==============================] - 29s 52ms/step - loss: 0.0356 - accuracy: 0.9897 - val_loss: 1.1204 - val_accuracy: 0.7752\n",
      "Epoch 9/20\n",
      "546/546 [==============================] - 31s 58ms/step - loss: 0.0288 - accuracy: 0.9913 - val_loss: 1.2315 - val_accuracy: 0.7771\n",
      "Epoch 10/20\n",
      "546/546 [==============================] - 39s 72ms/step - loss: 0.0251 - accuracy: 0.9923 - val_loss: 1.2982 - val_accuracy: 0.7904\n",
      "Epoch 11/20\n",
      "546/546 [==============================] - 36s 65ms/step - loss: 0.0149 - accuracy: 0.9954 - val_loss: 1.3996 - val_accuracy: 0.7798\n",
      "Epoch 12/20\n",
      "546/546 [==============================] - 34s 63ms/step - loss: 0.0185 - accuracy: 0.9944 - val_loss: 1.3618 - val_accuracy: 0.7537\n",
      "Epoch 13/20\n",
      "546/546 [==============================] - 33s 61ms/step - loss: 0.0170 - accuracy: 0.9956 - val_loss: 1.3524 - val_accuracy: 0.7750\n",
      "Epoch 14/20\n",
      "546/546 [==============================] - 35s 63ms/step - loss: 0.0111 - accuracy: 0.9970 - val_loss: 1.4634 - val_accuracy: 0.7599\n",
      "Epoch 15/20\n",
      "546/546 [==============================] - 35s 64ms/step - loss: 0.0179 - accuracy: 0.9950 - val_loss: 1.4407 - val_accuracy: 0.7780\n",
      "Epoch 16/20\n",
      "546/546 [==============================] - 30s 56ms/step - loss: 0.0113 - accuracy: 0.9971 - val_loss: 1.4665 - val_accuracy: 0.7642\n",
      "Epoch 17/20\n",
      "546/546 [==============================] - 30s 54ms/step - loss: 0.0241 - accuracy: 0.9935 - val_loss: 1.4401 - val_accuracy: 0.7872\n",
      "Epoch 18/20\n",
      "546/546 [==============================] - 30s 56ms/step - loss: 0.0115 - accuracy: 0.9964 - val_loss: 1.4625 - val_accuracy: 0.7720\n",
      "Epoch 19/20\n",
      "546/546 [==============================] - 31s 57ms/step - loss: 0.0073 - accuracy: 0.9982 - val_loss: 1.4980 - val_accuracy: 0.7713\n",
      "Epoch 20/20\n",
      "546/546 [==============================] - 28s 51ms/step - loss: 0.0095 - accuracy: 0.9975 - val_loss: 1.4850 - val_accuracy: 0.7819\n"
     ]
    }
   ],
   "source": [
    "history = model.fit(X_train, y_train, epochs=EPOCHS, batch_size=BATCH_SIZE,\n",
    "                    validation_data=(X_val, y_val), verbose=1)"
   ],
   "metadata": {
    "collapsed": false,
    "pycharm": {
     "name": "#%%\n"
    }
   }
  },
  {
   "cell_type": "code",
   "execution_count": 8,
   "outputs": [
    {
     "name": "stdout",
     "output_type": "stream",
     "text": [
      "136/136 [==============================] - 3s 21ms/step - loss: 1.4362 - accuracy: 0.7837\n",
      "Validation loss: 1.436210036277771\n",
      "Validation accuracy: 0.7837278842926025\n"
     ]
    }
   ],
   "source": [
    "val_loss, val_acc = model.evaluate(X_test, y_test, verbose=1)\n",
    "print(\"Validation loss:\", val_loss)\n",
    "print(\"Validation accuracy:\", val_acc)"
   ],
   "metadata": {
    "collapsed": false,
    "pycharm": {
     "name": "#%%\n"
    }
   }
  },
  {
   "cell_type": "code",
   "source": [
    "from utils.visualization import plot_history\n",
    "\n",
    "plot_history(history, plot_name=\"baseline_model\", save=False, show=True)"
   ],
   "metadata": {
    "collapsed": false,
    "pycharm": {
     "name": "#%%\n"
    }
   },
   "execution_count": 9,
   "outputs": [
    {
     "data": {
      "text/plain": "<Figure size 1296x432 with 2 Axes>",
      "image/png": "[encoded data removed]"
     },
     "metadata": {},
     "output_type": "display_data"
    }
   ]
  }
 ],
 "metadata": {
  "kernelspec": {
   "display_name": "Python 3",
   "language": "python",
   "name": "python3"
  },
  "language_info": {
   "codemirror_mode": {
    "name": "ipython",
    "version": 2
   },
   "file_extension": ".py",
   "mimetype": "text/x-python",
   "name": "python",
   "nbconvert_exporter": "python",
   "pygments_lexer": "ipython2",
   "version": "2.7.6"
  }
 },
 "nbformat": 4,
 "nbformat_minor": 0
}