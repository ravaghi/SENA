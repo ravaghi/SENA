{
 "cells": [
  {
   "cell_type": "markdown",
   "source": [
    "### Hyperparameters"
   ],
   "metadata": {
    "collapsed": false,
    "pycharm": {
     "name": "#%% md\n"
    }
   }
  },
  {
   "cell_type": "code",
   "execution_count": 1,
   "outputs": [],
   "source": [
    "EPOCHS = 20\n",
    "BATCH_SIZE = 128\n",
    "\n",
    "EMBEDDING_DIM = 100\n",
    "LSTM_UNITS = 32"
   ],
   "metadata": {
    "collapsed": false,
    "pycharm": {
     "name": "#%%\n"
    }
   }
  },
  {
   "cell_type": "markdown",
   "source": [
    "### Loading data"
   ],
   "metadata": {
    "collapsed": false,
    "pycharm": {
     "name": "#%% md\n"
    }
   }
  },
  {
   "cell_type": "code",
   "execution_count": 2,
   "outputs": [
    {
     "name": "stdout",
     "output_type": "stream",
     "text": [
      "Cleaning text...\n",
      "Fitting tokenizer...\n",
      "Converting texts to sequences...\n",
      "Padding sequences...\n",
      "One-hot encoding labels...\n",
      "Done!\n"
     ]
    }
   ],
   "source": [
    "from data.norec.dataloader import load_full_dataset\n",
    "from data.dataloader import load_data\n",
    "\n",
    "# Load multiclass data\n",
    "multiclass_dataset = load_full_dataset()\n",
    "multiclass_data = load_data(multiclass_dataset)"
   ],
   "metadata": {
    "collapsed": false,
    "pycharm": {
     "name": "#%%\n"
    }
   }
  },
  {
   "cell_type": "markdown",
   "source": [
    "# Classifying with multiclass dataset"
   ],
   "metadata": {
    "collapsed": false
   }
  },
  {
   "cell_type": "code",
   "execution_count": 3,
   "outputs": [
    {
     "name": "stdout",
     "output_type": "stream",
     "text": [
      "X_train shape: (34903, 219)\n",
      "X_val shape: (4360, 219)\n",
      "X_test shape: (4351, 219)\n",
      "y_train shape: (34903, 3)\n",
      "y_val shape: (4360, 3)\n",
      "y_test shape: (4351, 3)\n",
      "num_words: 20000\n",
      "maxlen: 219\n",
      "num_classes: 3\n"
     ]
    }
   ],
   "source": [
    "X_train = multiclass_data['X_train']\n",
    "X_val = multiclass_data['X_val']\n",
    "X_test = multiclass_data['X_test']\n",
    "y_train = multiclass_data['y_train']\n",
    "y_val = multiclass_data['y_val']\n",
    "y_test = multiclass_data['y_test']\n",
    "num_words = multiclass_data['num_words']\n",
    "maxlen = multiclass_data['maxlen']\n",
    "num_classes = multiclass_data['num_classes']\n",
    "multiclass_tokenizer = multiclass_data['tokenizer']\n",
    "\n",
    "print('X_train shape:', X_train.shape)\n",
    "print('X_val shape:', X_val.shape)\n",
    "print('X_test shape:', X_test.shape)\n",
    "print('y_train shape:', y_train.shape)\n",
    "print('y_val shape:', y_val.shape)\n",
    "print('y_test shape:', y_test.shape)\n",
    "print('num_words:', num_words)\n",
    "print('maxlen:', maxlen)\n",
    "print('num_classes:', num_classes)"
   ],
   "metadata": {
    "collapsed": false,
    "pycharm": {
     "name": "#%%\n"
    }
   }
  },
  {
   "cell_type": "code",
   "execution_count": 4,
   "outputs": [
    {
     "name": "stdout",
     "output_type": "stream",
     "text": [
      "Model: \"sequential\"\n",
      "_________________________________________________________________\n",
      " Layer (type)                Output Shape              Param #   \n",
      "=================================================================\n",
      " embedding (Embedding)       (None, 219, 100)          2000000   \n",
      "                                                                 \n",
      " lstm (LSTM)                 (None, 32)                17024     \n",
      "                                                                 \n",
      " dense (Dense)               (None, 3)                 99        \n",
      "                                                                 \n",
      "=================================================================\n",
      "Total params: 2,017,123\n",
      "Trainable params: 2,017,123\n",
      "Non-trainable params: 0\n",
      "_________________________________________________________________\n"
     ]
    }
   ],
   "source": [
    "from keras.models import Sequential\n",
    "from keras.layers import Dense, LSTM, Embedding\n",
    "\n",
    "model = Sequential()\n",
    "model.add(Embedding(num_words, EMBEDDING_DIM, input_length=maxlen))\n",
    "model.add(LSTM(LSTM_UNITS))\n",
    "model.add(Dense(num_classes, activation='softmax'))\n",
    "\n",
    "model.compile(loss=\"categorical_crossentropy\", optimizer=\"adam\", metrics=[\"accuracy\"])\n",
    "model.summary()"
   ],
   "metadata": {
    "collapsed": false,
    "pycharm": {
     "name": "#%%\n"
    }
   }
  },
  {
   "cell_type": "code",
   "execution_count": 5,
   "outputs": [
    {
     "name": "stdout",
     "output_type": "stream",
     "text": [
      "Epoch 1/20\n",
      "273/273 [==============================] - 18s 55ms/step - loss: 0.8216 - accuracy: 0.5959 - val_loss: 0.6942 - val_accuracy: 0.6768\n",
      "Epoch 2/20\n",
      "273/273 [==============================] - 14s 52ms/step - loss: 0.5659 - accuracy: 0.7551 - val_loss: 0.7174 - val_accuracy: 0.6716\n",
      "Epoch 3/20\n",
      "273/273 [==============================] - 14s 51ms/step - loss: 0.4141 - accuracy: 0.8314 - val_loss: 0.7473 - val_accuracy: 0.6803\n",
      "Epoch 4/20\n",
      "273/273 [==============================] - 14s 51ms/step - loss: 0.2955 - accuracy: 0.8899 - val_loss: 0.8636 - val_accuracy: 0.6736\n",
      "Epoch 5/20\n",
      "273/273 [==============================] - 14s 50ms/step - loss: 0.1995 - accuracy: 0.9303 - val_loss: 1.0341 - val_accuracy: 0.6541\n",
      "Epoch 6/20\n",
      "273/273 [==============================] - 14s 51ms/step - loss: 0.1385 - accuracy: 0.9538 - val_loss: 1.2699 - val_accuracy: 0.6546\n",
      "Epoch 7/20\n",
      "273/273 [==============================] - 14s 50ms/step - loss: 0.1048 - accuracy: 0.9670 - val_loss: 1.3247 - val_accuracy: 0.6484\n",
      "Epoch 8/20\n",
      "273/273 [==============================] - 14s 51ms/step - loss: 0.0698 - accuracy: 0.9797 - val_loss: 1.5499 - val_accuracy: 0.6548\n",
      "Epoch 9/20\n",
      "273/273 [==============================] - 14s 51ms/step - loss: 0.0547 - accuracy: 0.9833 - val_loss: 1.6740 - val_accuracy: 0.6472\n",
      "Epoch 10/20\n",
      "273/273 [==============================] - 14s 50ms/step - loss: 0.0598 - accuracy: 0.9823 - val_loss: 1.7304 - val_accuracy: 0.6427\n",
      "Epoch 11/20\n",
      "273/273 [==============================] - 14s 51ms/step - loss: 0.0505 - accuracy: 0.9853 - val_loss: 1.6534 - val_accuracy: 0.6344\n",
      "Epoch 12/20\n",
      "273/273 [==============================] - 14s 51ms/step - loss: 0.0363 - accuracy: 0.9898 - val_loss: 1.9498 - val_accuracy: 0.6433\n",
      "Epoch 13/20\n",
      "273/273 [==============================] - 14s 52ms/step - loss: 0.0261 - accuracy: 0.9933 - val_loss: 2.0104 - val_accuracy: 0.6518\n",
      "Epoch 14/20\n",
      "273/273 [==============================] - 13s 49ms/step - loss: 0.0324 - accuracy: 0.9903 - val_loss: 2.0038 - val_accuracy: 0.6314\n",
      "Epoch 15/20\n",
      "273/273 [==============================] - 14s 51ms/step - loss: 0.0262 - accuracy: 0.9922 - val_loss: 2.1338 - val_accuracy: 0.6507\n",
      "Epoch 16/20\n",
      "273/273 [==============================] - 14s 52ms/step - loss: 0.0250 - accuracy: 0.9937 - val_loss: 2.1176 - val_accuracy: 0.6417\n",
      "Epoch 17/20\n",
      "273/273 [==============================] - 14s 51ms/step - loss: 0.0293 - accuracy: 0.9917 - val_loss: 2.1162 - val_accuracy: 0.6555\n",
      "Epoch 18/20\n",
      "273/273 [==============================] - 15s 56ms/step - loss: 0.0219 - accuracy: 0.9947 - val_loss: 2.2594 - val_accuracy: 0.6362\n",
      "Epoch 19/20\n",
      "273/273 [==============================] - 15s 57ms/step - loss: 0.0201 - accuracy: 0.9945 - val_loss: 2.1737 - val_accuracy: 0.6447\n",
      "Epoch 20/20\n",
      "273/273 [==============================] - 15s 57ms/step - loss: 0.0205 - accuracy: 0.9944 - val_loss: 2.3339 - val_accuracy: 0.6433\n"
     ]
    }
   ],
   "source": [
    "history = model.fit(X_train, y_train, epochs=EPOCHS, batch_size=BATCH_SIZE,\n",
    "                    validation_data=(X_val, y_val), verbose=1)"
   ],
   "metadata": {
    "collapsed": false,
    "pycharm": {
     "name": "#%%\n"
    }
   }
  },
  {
   "cell_type": "code",
   "execution_count": 6,
   "outputs": [
    {
     "name": "stdout",
     "output_type": "stream",
     "text": [
      "136/136 [==============================] - 2s 18ms/step - loss: 2.1700 - accuracy: 0.6580\n",
      "Validation loss: 2.1700406074523926\n",
      "Validation accuracy: 0.6580096483230591\n"
     ]
    }
   ],
   "source": [
    "val_loss, val_acc = model.evaluate(X_test, y_test, verbose=1)\n",
    "print(\"Validation loss:\", val_loss)\n",
    "print(\"Validation accuracy:\", val_acc)"
   ],
   "metadata": {
    "collapsed": false,
    "pycharm": {
     "name": "#%%\n"
    }
   }
  },
  {
   "cell_type": "code",
   "source": [
    "from utils.visualization import plot_history\n",
    "\n",
    "plot_history(history, plot_name=\"baseline_model\", save=False, show=True)"
   ],
   "metadata": {
    "collapsed": false,
    "pycharm": {
     "name": "#%%\n"
    }
   },
   "execution_count": 7,
   "outputs": [
    {
     "data": {
      "text/plain": "<Figure size 1296x432 with 2 Axes>",
      "image/png": "[encoded data removed]"
     },
     "metadata": {},
     "output_type": "display_data"
    }
   ]
  }
 ],
 "metadata": {
  "kernelspec": {
   "display_name": "Python 3",
   "language": "python",
   "name": "python3"
  },
  "language_info": {
   "codemirror_mode": {
    "name": "ipython",
    "version": 2
   },
   "file_extension": ".py",
   "mimetype": "text/x-python",
   "name": "python",
   "nbconvert_exporter": "python",
   "pygments_lexer": "ipython2",
   "version": "2.7.6"
  }
 },
 "nbformat": 4,
 "nbformat_minor": 0
}