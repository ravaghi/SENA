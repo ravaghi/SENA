{
 "cells": [
  {
   "cell_type": "markdown",
   "source": [
    "# Scraping news from the web"
   ],
   "metadata": {
    "collapsed": false,
    "pycharm": {
     "name": "#%% md\n"
    }
   }
  },
  {
   "cell_type": "code",
   "execution_count": 1,
   "outputs": [],
   "source": [
    "from data.articles import load_news_articles"
   ],
   "metadata": {
    "collapsed": false,
    "pycharm": {
     "name": "#%%\n"
    }
   }
  },
  {
   "cell_type": "code",
   "execution_count": 2,
   "outputs": [
    {
     "name": "stderr",
     "output_type": "stream",
     "text": [
      "Loading articles from https://www.nrk.no/: 100%|██████████| 75/75 [00:39<00:00,  1.88it/s]\n",
      "Loading articles from https://www.vg.no/: 100%|██████████| 161/161 [00:58<00:00,  2.74it/s]\n",
      "Loading articles from https://www.aftenposten.no/: 100%|██████████| 76/76 [00:32<00:00,  2.37it/s]\n",
      "Loading articles from https://www.nettavisen.no/: 100%|██████████| 24/24 [00:17<00:00,  1.40it/s]\n"
     ]
    }
   ],
   "source": [
    "articles = load_news_articles()"
   ],
   "metadata": {
    "collapsed": false,
    "pycharm": {
     "name": "#%%\n"
    }
   }
  },
  {
   "cell_type": "code",
   "execution_count": 3,
   "outputs": [],
   "source": [
    "articles[\"clean_text\"] = articles[\"text\"].apply(lambda x: x.lower())\n",
    "articles[\"clean_text\"] = articles[\"clean_text\"].apply(lambda x: x.replace(\"\\n\", \" \"))\n",
    "articles[\"clean_text\"] = articles[\"clean_text\"].apply(\n",
    "    lambda x: \" \".join([word for word in x.split() if word.isalpha()]))"
   ],
   "metadata": {
    "collapsed": false,
    "pycharm": {
     "name": "#%%\n"
    }
   }
  },
  {
   "cell_type": "code",
   "execution_count": 4,
   "outputs": [
    {
     "data": {
      "text/plain": "          source                                                url  \\\n0            nrk  https://www.nrk.no/ytring/apotekene-er-et-lavt...   \n1            nrk  https://www.nrk.no/nordland/meloy-kommune-star...   \n2    aftenposten  https://www.aftenposten.no/oslo/i/47w3A6/krise...   \n3            nrk  https://www.nrk.no/sorlandet/58-pasienter-har-...   \n4            nrk  https://www.nrk.no/urix/zelenskyj_-10-namngitt...   \n..           ...                                                ...   \n200          nrk  https://www.nrk.no/nordland/studiene-ingen-sok...   \n201  aftenposten  https://www.aftenposten.no/meninger/kommentar/...   \n202           vg  https://www.vg.no/nyheter/innenriks/i/Bj9WM7/m...   \n203           vg  https://www.vg.no/forbruker/i/ML83q5/18-feil-d...   \n204  aftenposten  https://www.aftenposten.no/kultur/i/0GdVEg/anm...   \n\n                                                 title  \\\n0               Apotekene er et lavterskel helsetilbud   \n1    Innbyggerne har landets billigste strøm – men ...   \n2    Krisemåling for Raymond Johansen. Taper velger...   \n3    58 pasienter har fått erstatning etter å ha bl...   \n4    Zelenskyj: 10 namngitte krigsforbrytarar ident...   \n..                                                 ...   \n200  Dette er det eneste studietilbudet i Norge med...   \n201                 Folket som sluttet å snakke sammen   \n202  Mæland om karantenehotell: − På grensen av hva...   \n203                          18 feil du lærer av porno   \n204  Anmeldelse: Det er kun grenseløse Rammstein so...   \n\n                                                  text  \\\n0    Apotekenes hovedformål er å sikre hele befolkn...   \n1    Innerst i Holandsfjorden i nordlandskommunen M...   \n2    Krisemåling for Raymond Johansen. Taper velger...   \n3    Hele 58 av de 160 pasientene som har krevd ers...   \n4    Ifølgje presidenten tilhøyrer dei 10 mistenkte...   \n..                                                 ...   \n200  Vil du bli maskiningeniør kan du velge mellom ...   \n201  Folket som sluttet å snakke sammen\\n\\n28. apr....   \n202  KARANTENEHOTELL: Quality Airport Hotel Garderm...   \n203  18 feil du lærer av porno\\n\\nSett noe i porno ...   \n204  Anmeldelse: Det er kun grenseløse Rammstein so...   \n\n                                            clean_text  \n0    apotekenes hovedformål er å sikre hele befolkn...  \n1    innerst i holandsfjorden i nordlandskommunen m...  \n2    krisemåling for raymond taper velgere i begge ...  \n3    hele av de pasientene som har krevd erstatning...  \n4    ifølgje presidenten tilhøyrer dei mistenkte de...  \n..                                                 ...  \n200  vil du bli maskiningeniør kan du velge mellom ...  \n201  folket som sluttet å snakke sammen sist oppdat...  \n202  quality airport hotel mæland om på grensen av ...  \n203  feil du lærer av porno sett noe i porno og ten...  \n204  det er kun grenseløse rammstein som kunne skre...  \n\n[205 rows x 5 columns]",
      "text/html": "<div>\n<style scoped>\n    .dataframe tbody tr th:only-of-type {\n        vertical-align: middle;\n    }\n\n    .dataframe tbody tr th {\n        vertical-align: top;\n    }\n\n    .dataframe thead th {\n        text-align: right;\n    }\n</style>\n<table border=\"1\" class=\"dataframe\">\n  <thead>\n    <tr style=\"text-align: right;\">\n      <th></th>\n      <th>source</th>\n      <th>url</th>\n      <th>title</th>\n      <th>text</th>\n      <th>clean_text</th>\n    </tr>\n  </thead>\n  <tbody>\n    <tr>\n      <th>0</th>\n      <td>nrk</td>\n      <td>https://www.nrk.no/ytring/apotekene-er-et-lavt...</td>\n      <td>Apotekene er et lavterskel helsetilbud</td>\n      <td>Apotekenes hovedformål er å sikre hele befolkn...</td>\n      <td>apotekenes hovedformål er å sikre hele befolkn...</td>\n    </tr>\n    <tr>\n      <th>1</th>\n      <td>nrk</td>\n      <td>https://www.nrk.no/nordland/meloy-kommune-star...</td>\n      <td>Innbyggerne har landets billigste strøm – men ...</td>\n      <td>Innerst i Holandsfjorden i nordlandskommunen M...</td>\n      <td>innerst i holandsfjorden i nordlandskommunen m...</td>\n    </tr>\n    <tr>\n      <th>2</th>\n      <td>aftenposten</td>\n      <td>https://www.aftenposten.no/oslo/i/47w3A6/krise...</td>\n      <td>Krisemåling for Raymond Johansen. Taper velger...</td>\n      <td>Krisemåling for Raymond Johansen. Taper velger...</td>\n      <td>krisemåling for raymond taper velgere i begge ...</td>\n    </tr>\n    <tr>\n      <th>3</th>\n      <td>nrk</td>\n      <td>https://www.nrk.no/sorlandet/58-pasienter-har-...</td>\n      <td>58 pasienter har fått erstatning etter å ha bl...</td>\n      <td>Hele 58 av de 160 pasientene som har krevd ers...</td>\n      <td>hele av de pasientene som har krevd erstatning...</td>\n    </tr>\n    <tr>\n      <th>4</th>\n      <td>nrk</td>\n      <td>https://www.nrk.no/urix/zelenskyj_-10-namngitt...</td>\n      <td>Zelenskyj: 10 namngitte krigsforbrytarar ident...</td>\n      <td>Ifølgje presidenten tilhøyrer dei 10 mistenkte...</td>\n      <td>ifølgje presidenten tilhøyrer dei mistenkte de...</td>\n    </tr>\n    <tr>\n      <th>...</th>\n      <td>...</td>\n      <td>...</td>\n      <td>...</td>\n      <td>...</td>\n      <td>...</td>\n    </tr>\n    <tr>\n      <th>200</th>\n      <td>nrk</td>\n      <td>https://www.nrk.no/nordland/studiene-ingen-sok...</td>\n      <td>Dette er det eneste studietilbudet i Norge med...</td>\n      <td>Vil du bli maskiningeniør kan du velge mellom ...</td>\n      <td>vil du bli maskiningeniør kan du velge mellom ...</td>\n    </tr>\n    <tr>\n      <th>201</th>\n      <td>aftenposten</td>\n      <td>https://www.aftenposten.no/meninger/kommentar/...</td>\n      <td>Folket som sluttet å snakke sammen</td>\n      <td>Folket som sluttet å snakke sammen\\n\\n28. apr....</td>\n      <td>folket som sluttet å snakke sammen sist oppdat...</td>\n    </tr>\n    <tr>\n      <th>202</th>\n      <td>vg</td>\n      <td>https://www.vg.no/nyheter/innenriks/i/Bj9WM7/m...</td>\n      <td>Mæland om karantenehotell: − På grensen av hva...</td>\n      <td>KARANTENEHOTELL: Quality Airport Hotel Garderm...</td>\n      <td>quality airport hotel mæland om på grensen av ...</td>\n    </tr>\n    <tr>\n      <th>203</th>\n      <td>vg</td>\n      <td>https://www.vg.no/forbruker/i/ML83q5/18-feil-d...</td>\n      <td>18 feil du lærer av porno</td>\n      <td>18 feil du lærer av porno\\n\\nSett noe i porno ...</td>\n      <td>feil du lærer av porno sett noe i porno og ten...</td>\n    </tr>\n    <tr>\n      <th>204</th>\n      <td>aftenposten</td>\n      <td>https://www.aftenposten.no/kultur/i/0GdVEg/anm...</td>\n      <td>Anmeldelse: Det er kun grenseløse Rammstein so...</td>\n      <td>Anmeldelse: Det er kun grenseløse Rammstein so...</td>\n      <td>det er kun grenseløse rammstein som kunne skre...</td>\n    </tr>\n  </tbody>\n</table>\n<p>205 rows × 5 columns</p>\n</div>"
     },
     "execution_count": 4,
     "metadata": {},
     "output_type": "execute_result"
    }
   ],
   "source": [
    "articles"
   ],
   "metadata": {
    "collapsed": false,
    "pycharm": {
     "name": "#%%\n"
    }
   }
  },
  {
   "cell_type": "markdown",
   "source": [
    "### Loading tokenizer"
   ],
   "metadata": {
    "collapsed": false
   }
  },
  {
   "cell_type": "code",
   "execution_count": 5,
   "outputs": [
    {
     "name": "stdout",
     "output_type": "stream",
     "text": [
      "Cleaning text...\n",
      "Fitting tokenizer...\n",
      "Converting texts to sequences...\n",
      "Padding sequences...\n",
      "One-hot encoding labels...\n",
      "Done!\n"
     ]
    }
   ],
   "source": [
    "from data.norec.dataloader import load_full_dataset\n",
    "from data.dataloader import load_data\n",
    "\n",
    "dataset = load_full_dataset()\n",
    "data = load_data(dataset)\n",
    "\n",
    "maxlen = data['maxlen']\n",
    "tokenizer = data['tokenizer']"
   ],
   "metadata": {
    "collapsed": false,
    "pycharm": {
     "name": "#%%\n"
    }
   }
  },
  {
   "cell_type": "markdown",
   "source": [
    "# Predicting sentiment of news articles"
   ],
   "metadata": {
    "collapsed": false,
    "pycharm": {
     "name": "#%% md\n"
    }
   }
  },
  {
   "cell_type": "code",
   "execution_count": 6,
   "outputs": [
    {
     "name": "stdout",
     "output_type": "stream",
     "text": [
      "WARNING:tensorflow:5 out of the last 5 calls to <function Model.make_predict_function.<locals>.predict_function at 0x0000020E37D01870> triggered tf.function retracing. Tracing is expensive and the excessive number of tracings could be due to (1) creating @tf.function repeatedly in a loop, (2) passing tensors with different shapes, (3) passing Python objects instead of tensors. For (1), please define your @tf.function outside of the loop. For (2), @tf.function has experimental_relax_shapes=True option that relaxes argument shapes that can avoid unnecessary retracing. For (3), please refer to https://www.tensorflow.org/guide/function#controlling_retracing and https://www.tensorflow.org/api_docs/python/tf/function for  more details.\n",
      "WARNING:tensorflow:6 out of the last 6 calls to <function Model.make_predict_function.<locals>.predict_function at 0x0000020E37D02DD0> triggered tf.function retracing. Tracing is expensive and the excessive number of tracings could be due to (1) creating @tf.function repeatedly in a loop, (2) passing tensors with different shapes, (3) passing Python objects instead of tensors. For (1), please define your @tf.function outside of the loop. For (2), @tf.function has experimental_relax_shapes=True option that relaxes argument shapes that can avoid unnecessary retracing. For (3), please refer to https://www.tensorflow.org/guide/function#controlling_retracing and https://www.tensorflow.org/api_docs/python/tf/function for  more details.\n"
     ]
    }
   ],
   "source": [
    "import numpy as np\n",
    "from keras.preprocessing.sequence import pad_sequences\n",
    "from keras.models import load_model\n",
    "\n",
    "\n",
    "def get_sentiment(text):\n",
    "    # Loading trained model\n",
    "    model = load_model('../training/models/best_model_0.807860255241394.h5')\n",
    "\n",
    "    # Preprocessing text\n",
    "    sequenced = tokenizer.texts_to_sequences([text])\n",
    "    padded = pad_sequences(sequenced, maxlen=maxlen)\n",
    "\n",
    "    # Predicting sentiment\n",
    "    prediction = model.predict(padded)\n",
    "    sentiments = ['negative', 'neutral', 'positive']\n",
    "    return sentiments[np.argmax(prediction)]\n",
    "\n",
    "\n",
    "articles['sentiment'] = articles['clean_text'].apply(get_sentiment)"
   ],
   "metadata": {
    "collapsed": false,
    "pycharm": {
     "name": "#%%\n"
    }
   }
  },
  {
   "cell_type": "code",
   "execution_count": 15,
   "outputs": [
    {
     "data": {
      "text/plain": "        source                                                url  \\\n0          nrk  https://www.nrk.no/ytring/apotekene-er-et-lavt...   \n1          nrk  https://www.nrk.no/nordland/meloy-kommune-star...   \n2  aftenposten  https://www.aftenposten.no/oslo/i/47w3A6/krise...   \n3          nrk  https://www.nrk.no/sorlandet/58-pasienter-har-...   \n4          nrk  https://www.nrk.no/urix/zelenskyj_-10-namngitt...   \n\n                                               title  \\\n0             Apotekene er et lavterskel helsetilbud   \n1  Innbyggerne har landets billigste strøm – men ...   \n2  Krisemåling for Raymond Johansen. Taper velger...   \n3  58 pasienter har fått erstatning etter å ha bl...   \n4  Zelenskyj: 10 namngitte krigsforbrytarar ident...   \n\n                                                text  \\\n0  Apotekenes hovedformål er å sikre hele befolkn...   \n1  Innerst i Holandsfjorden i nordlandskommunen M...   \n2  Krisemåling for Raymond Johansen. Taper velger...   \n3  Hele 58 av de 160 pasientene som har krevd ers...   \n4  Ifølgje presidenten tilhøyrer dei 10 mistenkte...   \n\n                                          clean_text sentiment  \n0  apotekenes hovedformål er å sikre hele befolkn...  positive  \n1  innerst i holandsfjorden i nordlandskommunen m...   neutral  \n2  krisemåling for raymond taper velgere i begge ...  positive  \n3  hele av de pasientene som har krevd erstatning...   neutral  \n4  ifølgje presidenten tilhøyrer dei mistenkte de...  positive  ",
      "text/html": "<div>\n<style scoped>\n    .dataframe tbody tr th:only-of-type {\n        vertical-align: middle;\n    }\n\n    .dataframe tbody tr th {\n        vertical-align: top;\n    }\n\n    .dataframe thead th {\n        text-align: right;\n    }\n</style>\n<table border=\"1\" class=\"dataframe\">\n  <thead>\n    <tr style=\"text-align: right;\">\n      <th></th>\n      <th>source</th>\n      <th>url</th>\n      <th>title</th>\n      <th>text</th>\n      <th>clean_text</th>\n      <th>sentiment</th>\n    </tr>\n  </thead>\n  <tbody>\n    <tr>\n      <th>0</th>\n      <td>nrk</td>\n      <td>https://www.nrk.no/ytring/apotekene-er-et-lavt...</td>\n      <td>Apotekene er et lavterskel helsetilbud</td>\n      <td>Apotekenes hovedformål er å sikre hele befolkn...</td>\n      <td>apotekenes hovedformål er å sikre hele befolkn...</td>\n      <td>positive</td>\n    </tr>\n    <tr>\n      <th>1</th>\n      <td>nrk</td>\n      <td>https://www.nrk.no/nordland/meloy-kommune-star...</td>\n      <td>Innbyggerne har landets billigste strøm – men ...</td>\n      <td>Innerst i Holandsfjorden i nordlandskommunen M...</td>\n      <td>innerst i holandsfjorden i nordlandskommunen m...</td>\n      <td>neutral</td>\n    </tr>\n    <tr>\n      <th>2</th>\n      <td>aftenposten</td>\n      <td>https://www.aftenposten.no/oslo/i/47w3A6/krise...</td>\n      <td>Krisemåling for Raymond Johansen. Taper velger...</td>\n      <td>Krisemåling for Raymond Johansen. Taper velger...</td>\n      <td>krisemåling for raymond taper velgere i begge ...</td>\n      <td>positive</td>\n    </tr>\n    <tr>\n      <th>3</th>\n      <td>nrk</td>\n      <td>https://www.nrk.no/sorlandet/58-pasienter-har-...</td>\n      <td>58 pasienter har fått erstatning etter å ha bl...</td>\n      <td>Hele 58 av de 160 pasientene som har krevd ers...</td>\n      <td>hele av de pasientene som har krevd erstatning...</td>\n      <td>neutral</td>\n    </tr>\n    <tr>\n      <th>4</th>\n      <td>nrk</td>\n      <td>https://www.nrk.no/urix/zelenskyj_-10-namngitt...</td>\n      <td>Zelenskyj: 10 namngitte krigsforbrytarar ident...</td>\n      <td>Ifølgje presidenten tilhøyrer dei 10 mistenkte...</td>\n      <td>ifølgje presidenten tilhøyrer dei mistenkte de...</td>\n      <td>positive</td>\n    </tr>\n  </tbody>\n</table>\n</div>"
     },
     "execution_count": 15,
     "metadata": {},
     "output_type": "execute_result"
    }
   ],
   "source": [
    "articles.head()"
   ],
   "metadata": {
    "collapsed": false,
    "pycharm": {
     "name": "#%%\n"
    }
   }
  },
  {
   "cell_type": "code",
   "execution_count": 16,
   "outputs": [
    {
     "data": {
      "text/plain": "positive    138\nneutral      66\nnegative      1\nName: sentiment, dtype: int64"
     },
     "execution_count": 16,
     "metadata": {},
     "output_type": "execute_result"
    }
   ],
   "source": [
    "# Plot the number of sentiments\n",
    "articles.sentiment.value_counts()"
   ],
   "metadata": {
    "collapsed": false,
    "pycharm": {
     "name": "#%%\n"
    }
   }
  },
  {
   "cell_type": "code",
   "execution_count": 23,
   "outputs": [
    {
     "name": "stdout",
     "output_type": "stream",
     "text": [
      "Source: nrk\n",
      "Title: Apotekene er et lavterskel helsetilbud\n",
      "URL: https://www.nrk.no/ytring/apotekene-er-et-lavterskel-helsetilbud-1.15939021\n",
      "Article content:\n",
      "\n",
      "Apotekenes hovedformål er å sikre hele befolkningen tilgang på trygge, kvalitetssikrede legemidler.\n",
      "\n",
      "De skal også gi veiledning om bruken av legemidler, og bidra til sikker og riktig legemiddelbruk.\n",
      "\n",
      "Apotekfarmasøytene gir uvurderlige bidrag til dette hver eneste dag.\n",
      "\n",
      "Det er det korte svaret på spørsmålet fra Kaveh Rashidi i NRK Ytring 27. april, om hva hovedformålet til apotek er.\n",
      "\n",
      "Det er bred politisk oppslutning om det apoteksystemet vi har i Norge, og mange undersøkelser viser at befolkningen er veldig fornøyd med apotekene.\n",
      "\n",
      "Det er legitimt og fornuftig å stille spørsmål ved om alle varer i apotek er like godt begrunnet, og dette er vurderinger som apotekeierne gjør fortløpende.\n",
      "\n",
      "Noen handelsvarer kommer og noen går, uten at jeg kan gå inn på hver enkelt vurdering som gjøres.\n",
      "\n",
      "Det er veldig mange leverandører som ønsker å selge produktene sine i apotek, og et stort antall avvises.\n",
      "\n",
      "Apotekene er opptatt av å ha et bredt vareutvalg av produkter som kundene ønsker og etterspør.\n",
      "\n",
      "Derfor har pasientene som skal kjøpe reseptlegemidler, også muligheten til å plukke med seg plaster, reseptfrie legemidler, hygieneprodukter og kosttilskudd når de likevel er i apoteket – eller de kan la være.\n",
      "\n",
      "I tillegg kan de få gode råd fra autorisert helsepersonell om bruken av produktene med på kjøpet. Noen ganger er disse produktene gode supplementer til de legemidlene de benytter.\n",
      "\n",
      "Det er ingen grunn til å utstyre pasientene med bind for øynene når de går for å hente reseptlegemidlene sine.\n",
      "\n",
      "I så fall går de glipp av en rekke produkter og god helseinformasjon som de aller fleste av oss trenger i det daglige.\n",
      "\n",
      "FØLG DEBATTEN:\n"
     ]
    }
   ],
   "source": [
    "positive_article = articles[articles.sentiment == 'positive'].head(1).index\n",
    "positive_article_source = articles.loc[positive_article[0], 'source']\n",
    "positive_article_title = articles.loc[positive_article, 'title'].values[0]\n",
    "positive_article_url = articles.loc[positive_article, 'url'].values[0]\n",
    "positive_article_content = articles.loc[positive_article, 'text'].values[0]\n",
    "\n",
    "print(\"Source: {}\".format(positive_article_source))\n",
    "print(\"Title: {}\".format(positive_article_title))\n",
    "print(\"URL: {}\".format(positive_article_url))\n",
    "print(\"Article content:\", end=\"\\n\\n\")\n",
    "print(positive_article_content)"
   ],
   "metadata": {
    "collapsed": false,
    "pycharm": {
     "name": "#%%\n"
    }
   }
  },
  {
   "cell_type": "code",
   "execution_count": 24,
   "outputs": [
    {
     "name": "stdout",
     "output_type": "stream",
     "text": [
      "Source: nrk\n",
      "Title: Hun er en av bare tre i Norge\n",
      "URL: https://www.nrk.no/innlandet/laila-fra-valdres-er-en-av-tre-kvinnelige-brannsjefer-i-norge-1.15942900\n",
      "Article content:\n",
      "\n",
      "– Vi har kommet så langt i likestillingen at det ikke skulle være noe vanskeligere for kvinner å ha denne jobben enn andre jobber, sier hun.\n",
      "\n",
      "Men det er langt frem.\n",
      "\n",
      "Den gjennomsnittlige brannkonstabelen er en etnisk norsk mann i 40-årene som ofte er håndverker ved siden av jobben i brannvesenet.\n",
      "\n",
      "Bare 3,2 prosent er kvinner.\n",
      "\n",
      "– Vi trenger et mangfold både i etnisitet, kjønn og seksuell legning, sier brannsjefen i Valdres.\n",
      "\n",
      "Av 100 brannsjefer i landet er det bare i Valdres, Lofoten og Sandefjord som har kvinnelige brannsjefer.\n",
      "\n",
      "I neste uke skal alle brannsjefene i Norge undertegne en avtale som forplikter dem til å øke mangfoldet i bransjen.\n",
      "\n",
      "Fra montør til brannsjef\n",
      "\n",
      "Laila Lien Østgård kom inn i brannvesenet gjennom jobben som telemontør da hun jobba med brannvarslingsanlegg på gårder.\n",
      "\n",
      "– Det var interessant å jobbe brannforebyggende, sier hun.\n",
      "\n",
      "Derfor søkte hun jobb med forebyggende arbeid i brannvesenet i Valdres.\n",
      "\n",
      "Hun ble møtt av en leder som ikke kommenterte at hun var gravid.\n",
      "\n",
      "– Det er strålende. Det er sånn det skal være, sier hun.\n",
      "\n",
      "Hun gikk brannskolen og tok senere videreutdanning.\n",
      "\n",
      "Da stillingen som brannsjef dukket opp i 2018 søkte hun og fikk den. Nå ivrer hun for at flere kvinner skal komme etter.\n",
      "\n",
      "FÅTT INN FLERE: I løpet av de siste årene har brannsjef i Valdres Laila Lien Østgård ansatt noen kvinner. Men de utgjør fortsatt bare en liten prosent av alle ansatte. Foto: Anders Bakkerud Larsen / NRK\n",
      "\n",
      "Av 107 ansatte i brannvesenet i Valdres er det sju damer.\n",
      "\n",
      "– Det høres sikkert lite ut, men det er flere enn det var for noen år siden da det nesten var null, sier hun.\n",
      "\n",
      "Hun mener det er behov for både de som er gode med mennesker og de som kan ta i tunge tak i brannvesenet.\n",
      "\n",
      "Det er en gjengs oppfatning at dette er for karer. Det er ikke riktig. Laila Lien Østgård, brannsjef i Valdres\n",
      "\n",
      "Laila Lien Østgård har også hørt det er sagt at jobben er vanskelig å kombinere med å ha barn.\n",
      "\n",
      "– Vi har kommet så langt i likestillingen at det ikke skulle være noe vanskeligere for kvinner å ha denne jobben enn andre jobber, sier hun.\n",
      "\n",
      "Sjøl har hun to egne barn og to bonusbarn.\n",
      "\n",
      "EN STYRKE: Innsatsleder i brannvesenet i Valdres, Ove Martin Stende, mener det gjør noe med miljøet å få inn flere kvinner. Foto: Anders Bakkerud Larsen / NRK\n",
      "\n",
      "Innsatsleder i brannvesenet i Valdres, Ove Martin Stende, synes det er har blitt triveligere å være ute på jobb etter at det begynte å komme inn kvinner i etaten. De kan utfylle hverandre.\n",
      "\n",
      "– De er kanskje flinkere til å ta den omsorgsbiten når det koker som verst, sier han.\n",
      "\n",
      "Les også: Berre ein av tjue i brann og redning er kvinner. – Er like tøffe som menn\n",
      "\n",
      "Vil gjerne ha flere damer\n",
      "\n",
      "På brannstasjonen i Elverum, der Midt-Hedmark brann og redningsvesen holder til, er det ingen damer som er klare til å rykke ut for å slokke brann.\n",
      "\n",
      "– Vi kan bare legge oss flate for vi har vært for dårlige til å få damer inn, innrømmer brannsjef Trond Joar Kjenstadbakk.\n",
      "\n",
      "VIL HA DAMER INN: Brannsjef i Midt-Hedmark brann redningsvesen Trond Joar Kjenstadbakk og Lars Kvissel på brannstasjonen i Elverum. Der skulle de gjerne hatt flere kvinnelige kolleger. Foto: Anne Kari Løberg / NRK\n",
      "\n",
      "Av de 180 ansatte på heltid og deltid i beredskapsavdelingen i Østerdalen er det bare sju kvinner.\n",
      "\n",
      "De tenker kanskje annerledes når vi skal løse oppdrag og vil kunne bidra sosialt til å forbedre brannvesenet. Trond Joar Kjenstadbakk\n",
      "\n",
      "Brannsjefen forklarer det med at det tradisjonelt har vært et mannsdominert yrke der de henger etter i utviklingen i resten av samfunnet.\n",
      "\n",
      "Men han ser ingen grunn til at det skal være det.\n",
      "\n",
      "– Min påstand er at vi vil lykkes enda bedre i utøvelse av jobben hvis vi får inn mangfoldet her også, sier han.\n",
      "\n",
      "Brannkonstabel Lars Kvissel tror det også vil ha mye å si for miljøet på jobben.\n",
      "\n",
      "– Jeg tror det skjerper oss, sier han.\n",
      "\n",
      "Skal speile samfunnet\n",
      "\n",
      "Den norske brann og redningstjenesten har lenge ønsket å være representative for den befolkningen de jobber for. Men siden de ikke er det blir det satt på dagsorden i 2022\n",
      "\n",
      "Det jobbes med en ny veileder som de kan bruke som inspirasjon når de skal rekruttere.\n",
      "\n",
      "Mens politi og Forsvaret har forskjellige fysiske tester for menn og kvinner er det de samme testene i brann og redningsvesenet.\n",
      "\n",
      "– Man har ønsket å ha like tester fordi de skal utføre samme jobb skulder ved skulder i hverdagen, sier Pia Farstad von Hall. Hun er fagsjef i Samfunnsbedriftene.\n",
      "\n",
      "VARIERT JOBB: Fagsjef i Samfunnsbedriftene, Pia Farstad von Hall, sier jobben i brannvesenet er så variert at det ikke er noen grunn til at ikke flere kvinner kan jobbe der. Foto: Jill Johannessen, Samfunnsbedriftene\n",
      "\n",
      "Hun sier Samfunnsbedriftene jobber sammen med brannvesenet om å vektlegge testene ut fra hvilke egenskaper de trenger.\n",
      "\n",
      "Oppdragene er alt fra forebygging til trafikkulykker og brannslokking.\n",
      "\n",
      "Er du røykdykker, som er den tyngste jobben, må du bestå testen for løft. Men alle skal ikke være røykdykkere. Pia Farstad von Hall, fagsjef i Samfunnsbedriftene\n",
      "\n",
      "Rekruttering har til nå vært ulikt avhengig av hvor i Norge man bor. Ofte har det vært knytta til fagbrev. Nå har også flere kvinner fagbrev.\n",
      "\n",
      "Når flere fagskoler nå starter opp studier i brann og redningstjeneste tror Pia Farstad von Hall det også vil være flere kvinner som velger å gå den vegen.\n",
      "\n",
      "Brannsjefene fra hele landet samles til et seminar i Oslo 3. mai. Der undertegner de ikke bare på at de skal ansette flere kvinner, men et mangfold.\n",
      "\n",
      "– Det gjelder både kjønn, kulturell bakgrunn og seksuell legning, sier von Hall.\n",
      "\n",
      "Hun tror det vil ta noen år før man ser resultater, men at utdanningen på Fagskolen vil bidra til å forsterke det.\n"
     ]
    }
   ],
   "source": [
    "negative_article = articles[articles.sentiment == 'negative'].head(1).index\n",
    "negative_article_source = articles.loc[negative_article[0], 'source']\n",
    "negative_article_title = articles.loc[negative_article, 'title'].values[0]\n",
    "negative_article_url = articles.loc[negative_article, 'url'].values[0]\n",
    "negative_article_content = articles.loc[negative_article, 'text'].values[0]\n",
    "\n",
    "print(\"Source: {}\".format(negative_article_source))\n",
    "print(\"Title: {}\".format(negative_article_title))\n",
    "print(\"URL: {}\".format(negative_article_url))\n",
    "print(\"Article content:\", end=\"\\n\\n\")\n",
    "print(negative_article_content)"
   ],
   "metadata": {
    "collapsed": false,
    "pycharm": {
     "name": "#%%\n"
    }
   }
  },
  {
   "cell_type": "code",
   "execution_count": 25,
   "outputs": [
    {
     "name": "stdout",
     "output_type": "stream",
     "text": [
      "Source: nrk\n",
      "Title: Innbyggerne har landets billigste strøm – men for kommunen er det krise\n",
      "URL: https://www.nrk.no/nordland/meloy-kommune-star-i-fare-for-a-havne-pa-robek-lista-pa-grunn-av-billig-kraft-1.15946413\n",
      "Article content:\n",
      "\n",
      "Innerst i Holandsfjorden i nordlandskommunen Meløy ligger Svartisen vannkraftverk.\n",
      "\n",
      "Her produseres årlig 2195,5 GWh, blant annet fra smeltevann fra Norges nest største isbre, som strekker seg gjennom kommunene Rana, Meløy og Rødøy.\n",
      "\n",
      "Dette enorme kraftverket har de siste årene bidratt til å produsere Europas billigste strøm.\n",
      "\n",
      "Men mens strømkunder i Nord-Norge jubler over nær «gratis» strøm, er prisene dårlig nytt for dem som skal tjene penger på strømmen.\n",
      "\n",
      "De lave strømprisene går nemlig hardt utover kraftkommunenes inntekter fra salg av konsesjonskraft.\n",
      "\n",
      "Kritisk for Meløy\n",
      "\n",
      "Lave strømpriser førte til at kraftkommunen Meløy i fjor fikk 20 millioner mindre i inntekter.\n",
      "\n",
      "– Med de strømprisene som har vært i Nord-Norge de siste to siste årene, har det vært utfordrende å få nok inntekter. Vi kan kun selge denne kraften i vårt eget område, som er Nord 4. Og når prisene er så lave som de har vært, får ikke vi de inntektene vi trenger, sier kommunedirektør Adelheid Kristiansen i Meløy.\n",
      "\n",
      "Nedgangen i inntekter gjør at hun nå advarer om at kommunen står i fare for å havne på den beryktede Robek-lista.\n",
      "\n",
      "Skjer det, er det staten som overtar styringen av økonomien i kommunen.\n",
      "\n",
      "– Den økonomiske situasjonen er svært alvorlig. Meløy er i ferd med å ikke kunne ha hendene på rattet selv, sier Kristiansen.\n",
      "\n",
      "Hovedårsaken til den krevende økonomien er en kraftig økning i utgifter innen helse og velferd de siste årene. Meløy har de siste årene brukt en stor andel av ekstrainntektene fra kraft til økt drift innen helse og oppvekst.\n",
      "\n",
      "– Med de strømprisene som har vært i Nord-Norge de siste to siste årene, har det vært utfordrende å få nok inntekter, sier kommunedirektør Adelheid Kristiansen. Foto: Lars-Bjørn Martinsen / nrk\n",
      "\n",
      "Nå jobber kommunen på spreng med å iverksette sparetiltak, som ifølge kommunedirektøren er forsinket på grunn av pandemien.\n",
      "\n",
      "– Denne forsinkelsen er årsaken til at jeg er urolig. Vi håper at både Statsforvalteren og Kommunaldepartementet ser at vi er godt i gang med dette arbeidet.\n",
      "\n",
      "Rekordinntekter i sør\n",
      "\n",
      "Ole Petter Pedersen er redaktør for nettstedet Europower Energi, et magasin som dekker kraftbransjen.\n",
      "\n",
      "Han følger strømpris-tematikken tett, og forteller at Kommune-Norges inntekter fra konsesjonskraft økte med 50 prosent i 2021.\n",
      "\n",
      "Aldri før har kommunesektoren hatt så store inntekter.De foreløpige regnskapstallene for kommunene og fylkene viser en samlet inntekt fra konsesjonskraft og kraftrettigheter på over 3,3 milliarder kroner, som er 1,1 milliarder kroner mer enn i 2020. Netto inntekt etter kostnader havnet på 2,6 milliarder.\n",
      "\n",
      "Men dette gjelder kommunene i sør, ifølge Europower.\n",
      "\n",
      "Nesten 1,2 milliarder kroner – over en tredel av de totale inntektene – gikk til Vestland fylkeskommune og kommunene i fylket, hvor Ullensvang var den kommunen med høyest inntekt.\n",
      "\n",
      "Kraftkommunen Ullensvang i Vestland er den kommunen i landet med høyest inntekt av konsesjonskraft. Foto: Lidvard Sandven / NRK\n",
      "\n",
      "– Også kommuner som Kvam og Kvinnherad har fått voldsom stor vekst i inntekter av konsesjonskraft. De er blitt veldig mye rikere, og har hatt flaks, sier Pedersen.\n",
      "\n",
      "Han har også har merket seg at kommuner som Meløy, Fauske, Rana, Hemnes, Hamarøy, Rødøy, Saltdal, Grane og Hattfjelldal har fått halvert sine inntekter av konsesjonskraft det siste året.\n",
      "\n",
      "– Fallet i inntekter blir merkbart i små kommuner. Det at Meløy risikerer å havne på Robek-lista viser først og fremst at konsesjonskraft ikke er en inntekt som kommunene bør ta inn i driftsbudsjettet sitt.\n",
      "\n",
      "– Baksiden av medaljen\n",
      "\n",
      "Anders Lie Brenna, som jobber med energi i nettstedet EnergyWatch mener at situasjonen i Meløy viser baksiden av medaljen for situasjonen i Nord-Norge med billig strøm.\n",
      "\n",
      "– Strømprisene bør helst være på et fornuftig nivå, så blir alle fornøyde, sier Anders Lie Brenna i EnergyWatch. Foto: Enerwe\n",
      "\n",
      "– Både svært høye og lave priser er kjempeproblematisk. Lave priser gjør at kommuner som Meløy ikke får de inntektene de har budsjettert med, og er avhengig av for å få gå opp. De får også et annet problem. Ingen har lyst å bygge ut mer fornybar energi i regionen når prisene er lave.\n",
      "\n",
      "Kommunedirektøren i Meløy ønsker seg en situasjon hvor kommunens økonomi er uavhengig av kraftinntektene.\n",
      "\n",
      "– Nettopp fordi de svinger sånn. Men det er krevende å gjøre på kort sikt når man over år har smurt økonomien i Meløy med inntekter fra kraft. Som i seg selv er positivt. Det er jo innbyggerne sin penger. Men problemet er bare at det nå er for stor avstand mellom det vi har, og det vi bruker. og den avstanden er negativ.\n"
     ]
    }
   ],
   "source": [
    "neutral_article = articles[articles.sentiment == 'neutral'].head(1).index\n",
    "neutral_article_source = articles.loc[neutral_article[0], 'source']\n",
    "neutral_article_title = articles.loc[neutral_article, 'title'].values[0]\n",
    "neutral_article_url = articles.loc[neutral_article, 'url'].values[0]\n",
    "neutral_article_content = articles.loc[neutral_article, 'text'].values[0]\n",
    "\n",
    "print(\"Source: {}\".format(neutral_article_source))\n",
    "print(\"Title: {}\".format(neutral_article_title))\n",
    "print(\"URL: {}\".format(neutral_article_url))\n",
    "print(\"Article content:\", end=\"\\n\\n\")\n",
    "print(neutral_article_content)"
   ],
   "metadata": {
    "collapsed": false,
    "pycharm": {
     "name": "#%%\n"
    }
   }
  }
 ],
 "metadata": {
  "kernelspec": {
   "display_name": "Python 3",
   "language": "python",
   "name": "python3"
  },
  "language_info": {
   "codemirror_mode": {
    "name": "ipython",
    "version": 2
   },
   "file_extension": ".py",
   "mimetype": "text/x-python",
   "name": "python",
   "nbconvert_exporter": "python",
   "pygments_lexer": "ipython2",
   "version": "2.7.6"
  }
 },
 "nbformat": 4,
 "nbformat_minor": 0
}