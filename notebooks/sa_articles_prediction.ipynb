{
 "cells": [
  {
   "cell_type": "markdown",
   "source": [
    "# Scraping news from the web"
   ],
   "metadata": {
    "collapsed": false,
    "pycharm": {
     "name": "#%% md\n"
    }
   }
  },
  {
   "cell_type": "code",
   "execution_count": 1,
   "outputs": [],
   "source": [
    "from data.articles import load_news_articles"
   ],
   "metadata": {
    "collapsed": false,
    "pycharm": {
     "name": "#%%\n"
    }
   }
  },
  {
   "cell_type": "code",
   "execution_count": 2,
   "outputs": [
    {
     "name": "stderr",
     "output_type": "stream",
     "text": [
      "Loading articles from https://www.nrk.no/: 100%|██████████| 79/79 [00:27<00:00,  2.90it/s]\n",
      "Loading articles from https://www.vg.no/: 100%|██████████| 182/182 [00:39<00:00,  4.63it/s]\n",
      "Loading articles from https://www.aftenposten.no/: 100%|██████████| 72/72 [00:22<00:00,  3.26it/s]\n",
      "Loading articles from https://www.nettavisen.no/: 100%|██████████| 26/26 [00:25<00:00,  1.03it/s]\n"
     ]
    }
   ],
   "source": [
    "articles = load_news_articles()"
   ],
   "metadata": {
    "collapsed": false,
    "pycharm": {
     "name": "#%%\n"
    }
   }
  },
  {
   "cell_type": "markdown",
   "source": [
    "### Loading tokenizer"
   ],
   "metadata": {
    "collapsed": false,
    "pycharm": {
     "name": "#%% md\n"
    }
   }
  },
  {
   "cell_type": "code",
   "execution_count": 3,
   "outputs": [
    {
     "name": "stdout",
     "output_type": "stream",
     "text": [
      "Cleaning text...\n",
      "Fitting tokenizer...\n",
      "Converting texts to sequences...\n",
      "Padding sequences...\n",
      "One-hot encoding labels...\n",
      "Done!\n"
     ]
    }
   ],
   "source": [
    "from data.norec.dataloader import load_full_dataset\n",
    "from data.dataloader import load_data\n",
    "\n",
    "dataset = load_full_dataset()\n",
    "data = load_data(dataset)\n",
    "\n",
    "maxlen = data['maxlen']\n",
    "tokenizer = data['tokenizer']"
   ],
   "metadata": {
    "collapsed": false,
    "pycharm": {
     "name": "#%%\n"
    }
   }
  },
  {
   "cell_type": "code",
   "execution_count": 4,
   "outputs": [],
   "source": [
    "articles[\"text\"] = articles[\"text\"].apply(lambda x: x.lower())\n",
    "articles[\"text\"] = articles[\"text\"].apply(lambda x: x.replace(\"\\n\", \" \"))\n",
    "articles[\"text\"] = articles[\"text\"].apply(lambda x: \" \".join([word for word in x.split() if word.isalpha()]))"
   ],
   "metadata": {
    "collapsed": false,
    "pycharm": {
     "name": "#%%\n"
    }
   }
  },
  {
   "cell_type": "markdown",
   "source": [
    "# Predicting sentiment of news articles"
   ],
   "metadata": {
    "collapsed": false,
    "pycharm": {
     "name": "#%% md\n"
    }
   }
  },
  {
   "cell_type": "code",
   "execution_count": 5,
   "outputs": [
    {
     "name": "stdout",
     "output_type": "stream",
     "text": [
      "WARNING:tensorflow:5 out of the last 5 calls to <function Model.make_predict_function.<locals>.predict_function at 0x000002902E803B50> triggered tf.function retracing. Tracing is expensive and the excessive number of tracings could be due to (1) creating @tf.function repeatedly in a loop, (2) passing tensors with different shapes, (3) passing Python objects instead of tensors. For (1), please define your @tf.function outside of the loop. For (2), @tf.function has experimental_relax_shapes=True option that relaxes argument shapes that can avoid unnecessary retracing. For (3), please refer to https://www.tensorflow.org/guide/function#controlling_retracing and https://www.tensorflow.org/api_docs/python/tf/function for  more details.\n",
      "WARNING:tensorflow:6 out of the last 6 calls to <function Model.make_predict_function.<locals>.predict_function at 0x000002902E8036D0> triggered tf.function retracing. Tracing is expensive and the excessive number of tracings could be due to (1) creating @tf.function repeatedly in a loop, (2) passing tensors with different shapes, (3) passing Python objects instead of tensors. For (1), please define your @tf.function outside of the loop. For (2), @tf.function has experimental_relax_shapes=True option that relaxes argument shapes that can avoid unnecessary retracing. For (3), please refer to https://www.tensorflow.org/guide/function#controlling_retracing and https://www.tensorflow.org/api_docs/python/tf/function for  more details.\n"
     ]
    }
   ],
   "source": [
    "import numpy as np\n",
    "from keras.preprocessing.sequence import pad_sequences\n",
    "from keras.models import load_model\n",
    "\n",
    "\n",
    "def get_sentiment(text):\n",
    "    # Loading trained model\n",
    "    model = load_model('../training/models/best_model_0.807860255241394.h5')\n",
    "\n",
    "    # Preprocessing text\n",
    "    sequenced = tokenizer.texts_to_sequences([text])\n",
    "    padded = pad_sequences(sequenced, maxlen=maxlen)\n",
    "\n",
    "    # Predicting sentiment\n",
    "    prediction = model.predict(padded)\n",
    "    sentiments = ['negative', 'neutral', 'positive']\n",
    "    return sentiments[np.argmax(prediction)]\n",
    "\n",
    "\n",
    "articles['sentiment'] = articles['text'].apply(get_sentiment)"
   ],
   "metadata": {
    "collapsed": false,
    "pycharm": {
     "name": "#%%\n"
    }
   }
  },
  {
   "cell_type": "code",
   "execution_count": 6,
   "outputs": [
    {
     "data": {
      "text/plain": "          source                                                url  \\\n0            nrk  https://www.nrk.no/sport/dennis-hauger-med-for...   \n1    aftenposten  https://www.aftenposten.no/sport/fotball/i/Wj5...   \n2    aftenposten  https://www.aftenposten.no/norge/i/7dOgJ9/nest...   \n3             vg  https://www.vg.no/nyheter/utenriks/i/8Q8gG1/ze...   \n4             vg  https://www.vg.no/nyheter/meninger/i/MLr0AK/ca...   \n..           ...                                                ...   \n203           vg  https://www.vg.no/nyheter/utenriks/i/34bA6L/ek...   \n204  aftenposten  https://www.aftenposten.no/meninger/sid/i/47ew...   \n205  aftenposten  https://www.aftenposten.no/video/i/0GlRxM/doku...   \n206  aftenposten  https://www.aftenposten.no/foreldreliv/i/5GyWg...   \n207  aftenposten  https://www.aftenposten.no/meninger/kronikk/i/...   \n\n                                                 title  \\\n0        Dennis Hauger med første pallplass i Formel 2   \n1    Rekdal hadde også «Molde-klausul» med HamKam: ...   \n2    Nesten alle norske kommuner har sikret seg nok...   \n3        Zelenskyj: Tror Putin vil stilles for domstol   \n4              Carew-saken: Én ting er umulig å forstå   \n..                                                 ...   \n203   Ekspert: − Russland ser langsiktig på konflikten   \n204   Det er på tide å revurdere Norges forhold til EU   \n205                           Dokumentar: Kunsten å dø   \n206  Hvordan går det egentlig med parforholdet? Her...   \n207           Bare politisk press kan nå redde Assange   \n\n                                                  text sentiment  \n0    dennis hauger har hatt mye stang ut i sesongen...  positive  \n1    rekdal hadde også med måtte være noe som var s...   neutral  \n2    nesten alle norske kommuner har sikret seg nok...   neutral  \n3    stort volodomyr zelenskyj møtte et internasjon...   neutral  \n4    kommentar én ting er umulig å forstå av leif w...   neutral  \n..                                                 ...       ...  \n203  transnistria er en prorussisk landstripe øst i...   neutral  \n204  det er på tide å revurdere norges forhold til ...   neutral  \n205  kunsten å dø da nils arne morka foreslo å bygg...   neutral  \n206  hvordan går det egentlig med her kan du teste ...  positive  \n207  bare politisk press kan nå redde assange rune ...   neutral  \n\n[208 rows x 5 columns]",
      "text/html": "<div>\n<style scoped>\n    .dataframe tbody tr th:only-of-type {\n        vertical-align: middle;\n    }\n\n    .dataframe tbody tr th {\n        vertical-align: top;\n    }\n\n    .dataframe thead th {\n        text-align: right;\n    }\n</style>\n<table border=\"1\" class=\"dataframe\">\n  <thead>\n    <tr style=\"text-align: right;\">\n      <th></th>\n      <th>source</th>\n      <th>url</th>\n      <th>title</th>\n      <th>text</th>\n      <th>sentiment</th>\n    </tr>\n  </thead>\n  <tbody>\n    <tr>\n      <th>0</th>\n      <td>nrk</td>\n      <td>https://www.nrk.no/sport/dennis-hauger-med-for...</td>\n      <td>Dennis Hauger med første pallplass i Formel 2</td>\n      <td>dennis hauger har hatt mye stang ut i sesongen...</td>\n      <td>positive</td>\n    </tr>\n    <tr>\n      <th>1</th>\n      <td>aftenposten</td>\n      <td>https://www.aftenposten.no/sport/fotball/i/Wj5...</td>\n      <td>Rekdal hadde også «Molde-klausul» med HamKam: ...</td>\n      <td>rekdal hadde også med måtte være noe som var s...</td>\n      <td>neutral</td>\n    </tr>\n    <tr>\n      <th>2</th>\n      <td>aftenposten</td>\n      <td>https://www.aftenposten.no/norge/i/7dOgJ9/nest...</td>\n      <td>Nesten alle norske kommuner har sikret seg nok...</td>\n      <td>nesten alle norske kommuner har sikret seg nok...</td>\n      <td>neutral</td>\n    </tr>\n    <tr>\n      <th>3</th>\n      <td>vg</td>\n      <td>https://www.vg.no/nyheter/utenriks/i/8Q8gG1/ze...</td>\n      <td>Zelenskyj: Tror Putin vil stilles for domstol</td>\n      <td>stort volodomyr zelenskyj møtte et internasjon...</td>\n      <td>neutral</td>\n    </tr>\n    <tr>\n      <th>4</th>\n      <td>vg</td>\n      <td>https://www.vg.no/nyheter/meninger/i/MLr0AK/ca...</td>\n      <td>Carew-saken: Én ting er umulig å forstå</td>\n      <td>kommentar én ting er umulig å forstå av leif w...</td>\n      <td>neutral</td>\n    </tr>\n    <tr>\n      <th>...</th>\n      <td>...</td>\n      <td>...</td>\n      <td>...</td>\n      <td>...</td>\n      <td>...</td>\n    </tr>\n    <tr>\n      <th>203</th>\n      <td>vg</td>\n      <td>https://www.vg.no/nyheter/utenriks/i/34bA6L/ek...</td>\n      <td>Ekspert: − Russland ser langsiktig på konflikten</td>\n      <td>transnistria er en prorussisk landstripe øst i...</td>\n      <td>neutral</td>\n    </tr>\n    <tr>\n      <th>204</th>\n      <td>aftenposten</td>\n      <td>https://www.aftenposten.no/meninger/sid/i/47ew...</td>\n      <td>Det er på tide å revurdere Norges forhold til EU</td>\n      <td>det er på tide å revurdere norges forhold til ...</td>\n      <td>neutral</td>\n    </tr>\n    <tr>\n      <th>205</th>\n      <td>aftenposten</td>\n      <td>https://www.aftenposten.no/video/i/0GlRxM/doku...</td>\n      <td>Dokumentar: Kunsten å dø</td>\n      <td>kunsten å dø da nils arne morka foreslo å bygg...</td>\n      <td>neutral</td>\n    </tr>\n    <tr>\n      <th>206</th>\n      <td>aftenposten</td>\n      <td>https://www.aftenposten.no/foreldreliv/i/5GyWg...</td>\n      <td>Hvordan går det egentlig med parforholdet? Her...</td>\n      <td>hvordan går det egentlig med her kan du teste ...</td>\n      <td>positive</td>\n    </tr>\n    <tr>\n      <th>207</th>\n      <td>aftenposten</td>\n      <td>https://www.aftenposten.no/meninger/kronikk/i/...</td>\n      <td>Bare politisk press kan nå redde Assange</td>\n      <td>bare politisk press kan nå redde assange rune ...</td>\n      <td>neutral</td>\n    </tr>\n  </tbody>\n</table>\n<p>208 rows × 5 columns</p>\n</div>"
     },
     "execution_count": 6,
     "metadata": {},
     "output_type": "execute_result"
    }
   ],
   "source": [
    "articles"
   ],
   "metadata": {
    "collapsed": false,
    "pycharm": {
     "name": "#%%\n"
    }
   }
  },
  {
   "cell_type": "code",
   "execution_count": 9,
   "outputs": [
    {
     "data": {
      "text/plain": "neutral     117\npositive     90\nnegative      1\nName: sentiment, dtype: int64"
     },
     "execution_count": 9,
     "metadata": {},
     "output_type": "execute_result"
    }
   ],
   "source": [
    "# Plot the number of sentiments\n",
    "articles.sentiment.value_counts()"
   ],
   "metadata": {
    "collapsed": false,
    "pycharm": {
     "name": "#%%\n"
    }
   }
  },
  {
   "cell_type": "code",
   "execution_count": 21,
   "outputs": [
    {
     "name": "stdout",
     "output_type": "stream",
     "text": [
      "['dennis hauger har hatt mye stang ut i sesongens fire første men etter å ha kjørt seg opp tre plasser i dagens dramatiske grand prix og opp til havnet for første gang på det var godt med en sa hauger over radioen til laget etter dobbelt på bra sa haugers lagkamerat jehan daruvala etter å ha kjørt over målstreken til en men det var ikke uten dramatikk at hauger tok sin første for mens førerne kjørte i farten til den virtuelle sikkerhetsbilen i den så det ikke ut til at dennis hauger fulgte med i hva i all verden skjedde dennis er avhengig av informasjon i det dette tapte han masse sa viaplays ekspertkommentator henning isdal etter dennis hauger på et pressetreff på operaen i annika byrde ntb han sløvet da lagkamerat jehan daruvala ga gass på riktig hang hauger langt etter og da tidene dukket opp hadde hauger tapt hele to der følger ikke dennis han sløvet rett og slett og tapte to sekunder på sa henning rune bendiksen viaplay rett etter den trege omstarten viste lagsjefene i prema som hauger kjører som drev med hektisk det stoppet ikke med kun fem runder igjen viste at sidedekselet til hauger hadde den svarte karbondelen blafret godt synlig i over kilometer i faren var dermed til stede for at hauger kunne få et svart flagg og bli mest sannsynlig har dennis kjørt litt for hardt over sier guldbrandsen og viser til de langsgående veimarkeringene som skaper vibrasjon i bilen om man kjører for langt ut på nær hvis den svarte markert i hadde løsnet ville dennis hauger stått i fare for annika en løs skrue skal ha forårsaket flagringen på heldigvis løsnet ingen av fra bilen og det svarte flagget ble holdt inne av med det sikret også hauger sin første pallplass i formel med viste en hauger som jublet heftig i over det ble ekstra spennende da det begynte å løsne deler fra bilen til dennis men heldigvis så gikk det veien fra sjette startposisjon og inn til sin første pallplassering i formel et fantastisk løp fra sa til slutt vant marcus armstrong sin andre seier i karrieren foran haugers lagkamerat knallstart la grunnlaget dennis som kjører for prema fikk en knallstart ut fra sjette han var ute på gresset inn mot men forsvarte posisjonen sin på en god og aggressiv måte mot roy for en kanonstart av utrolig hvor smart han er når han må trekke men klarer likevel å komme seg forbi roy sa atle dennis hauger i prema racing holdt hodet kaldt selv etter all hassan ammar ap han klatret med det hele tre plasser ut fra sjette etter noen hektiske sekunder med en kanonstart fra hauger måtte sikkerhetsbilen ut på banen etter at david beckmann charouz i racing system snurret rundt etter kontakt med clément jehan som lå på andreplass foran fikk en dårlig omstart da sikkerhetsbilen kjørte inn og spant ut fra svingen mot og hauger var side om side med men brukte nok en gang hodet da han innså at luken inn mot første sving var for etter en turbulent sesongstart med motortrøbbel i bahrain og etter å ha fått feil beskjed fra laget etter å ha ledet i sikret dennis hauger sine første formel i sesongens fjerde løp i med dagens tredjeplass klatret hauger opp til en plass i sammendraget i formel i morgen venter det siste og mest poenggivende løpet på her starter hauger fra femte']\n"
     ]
    }
   ],
   "source": [
    "print(articles[articles.sentiment == 'positive'].head(1)[\"text\"].values)"
   ],
   "metadata": {
    "collapsed": false,
    "pycharm": {
     "name": "#%%\n"
    }
   }
  },
  {
   "cell_type": "code",
   "execution_count": 22,
   "outputs": [
    {
     "name": "stdout",
     "output_type": "stream",
     "text": [
      "['rekdal hadde også med måtte være noe som var større trondheim han kunne blitt allerede i og kjetil rekdal innser at før desember i fjor ville oddsen vært lavere på at han heller skulle blitt sjef på aker stadion enn selv hadde han sikret seg i begge med kjetil rekdal i diskusjon med dommer svein oddvar moen etter i sarpsborg foran erlend dahl i dag aftenposten samarbeider med derfor får du som også artikler og tjenester som er laget av i hans tidligere sto nemlig fire navngitte norske klubber som skulle gi ham en fra der var rosenborg og molde samt brann og vålerenga og alle muligheter fra det bekrefter rekdal overfor det er og hvis du tenker du bryter ikke en avtale med hamkam eller bruker klausulen til en klubb på samme det måtte være noe som var mye begrunner søndag skal han for første gang se på rivaloppgjøret mellom rosenborg og hans første seniorklubb en år gammel rekdal var faktisk sentral da uvennskapet oppsto i løpet av noen intense oppgjør i serie og cup i han scoret nemlig selvmål som hjalp rosenborg nærmere den men hevnet seg høsten som hjemvendt romsdalingene vant sensasjonelt sammenlagt over nils arne eggens i dobbeltoppgjøret som cupsemifinalen var den erobret kjetil rekdal som etter cupsemifinalen mot rosenborg i senere vant de også cupfinalen som det er egentlig ganske du identifiserer deg med klubben du jobber og du blir følelsesmessig dratt inn i det med folkene rundt som du vil lykkes sammen det blir som en pilot som går fra sas til det er en men det er masse følelser og kanskje mer i andre men sånn er lyder rekdals pragmatiske tilnærming om han garanterer at pappa sigmund velkjent fotballpatron fra vestnes ved holder med rosenborg datteren som faktisk er samboer med kristoffer håper nok på uavgjort ifølge pappa mens bror han som ble beskrevet som den mest intense spilleren på molde da det kom til å fyre seg opp før for år skifter neppe han opplyser med et smil til vg at han også etter den siste treneransettelsen har et forhold til kjetil rekdal selv mener han ikke trodde at sannsynligheten var større for at han en dag skulle trene molde fremfor egentlig fotballen er alt kan men jeg kan ikke si jeg gikk og ventet at rosenborg skulle innrømmer trenerveteranen med fortid i vålerenga start og molde kunne vært på den da klubben rykket ned fra eliteserien forrige gang i var rekdal aktuell som arild stavrums da var jeg i samtaler med møtte tarje nordstrand jacobsen og var nede på aker brygge og møtte røkke kjell da kunne det men jeg var ganske kjørt etter seks år i vi kom aldri så langt at vi gikk inn i siste det var men jeg hadde behov for å komme meg beretter rekdal og endte i stedet hos sin gamle arbeidsgiver lierse i det var et riktig for da gikk jeg fra lierse til minner han om i har du ordnet en lignende fra kontrakten i rosenborg som du hadde i det vil jeg ikke og det trenger jeg jeg storkoser meg første gangen jeg får starte i en klubb som er på det det har jeg ikke tenkt å gi slipp jeg blir gjerne men det er mange faktorer som spiller inn sier med én seier og to uavgjort på de tre første både molde og rosenborg har endret til et slags denne hvem har kommet ganske det er et veldig spennende et veldig krevende system og når det fungerer er det nesten det kan du nesten si hamkam ble et bevis der rekdals rosenborg står en skitten på søndag eller en vanvittig god masse begeistring på lerkendal og fryktelig vanskelig hadde det vært siste hadde det vært skitten for da har vi ikke mer å gå det viktigste for meg blir å se igjen det vi har jobbet med hele vinteren i forsvar og resultatet er en del av mens utvikling gir bedre vi kan ikke henge oss opp i én av']\n"
     ]
    }
   ],
   "source": [
    "print(articles[articles.sentiment == 'neutral'].head(1)[\"text\"].values)"
   ],
   "metadata": {
    "collapsed": false,
    "pycharm": {
     "name": "#%%\n"
    }
   }
  },
  {
   "cell_type": "code",
   "execution_count": 23,
   "outputs": [
    {
     "name": "stdout",
     "output_type": "stream",
     "text": [
      "['nyter vilde hall soler seg foran nyt sommeren før været typisk med tilbakeslag mens helgen byr på sommervær i kommer kong vinter luskende fra nord neste enda mer grunn til å nyte solen når den først er sier vilde av sven arne buggeland oppdatert i går med oppbrettet og solbriller på nesen gleder seg over godværet på eidsvolls plass foran før hun skal møte venninner fra det er veldig sier til men vakthavende meteorolog trond lien minner om at det ikke er fint vær det er regn og sludd i troms og sier lien ved meteorologisk mens han gikk på jobb i tromsø i fire grader er det over grader sør på østlandet og enkelte steder i grunnen er været fint fra nordland og så marie solstrand og harald otterå gjorde det eneste på marie solstrand og harald otterå fra harstad er på småbarnsforeldrene satte seg på fra harstad i regn og surt vær fredag hun med ulltøy og han med kortermet sommerskjorte og bare jeg skulle jo til sier han hadde lest at oslo var varmest i europa det er jo sykt varmt det var en positiv sier som naturligvis hadde sommerkjolen i de setter seg på uteserveringen til et brasseri for å ta et glass vin i hva skal dere i vi skal på det er hans bursdagsgave til jeg har en overraskelse til som vi skal gjøre litt som er min bursdagsgave til sier meteorologisk institutt oppfordret på twitter fredag til ikke å pakke bort lue og boblejakke for temperaturene kan bli ensifrede neste det er nord på i trøndelag og møre og der kan det bli og sørlige deler av østlandet og vestlandet får mellom og og det kan bli rene snøbyger i nordland og det blir på dagtid i tromsø blir temperaturen liggende så vidt over meteorologen er enig i at april er en lunefull det skifter solen er men luftmassene stedvis er veldig den kalde luften i nordområdene trenger av og til det er restene av vinteren vi en jogger løper forbi en fullsatt uterestaurant på dasslokket i lien sier at helgeværet blir ganske bra sør for men neste uke beveger kjølige luftmasser seg langsomt sørover og gir lavere temperaturer og skiftende det er veldig typisk med slike sier trond harald otterå skal jobbe på østlandet i tre mens kona skal hjem til ettåringen hun synes det er litt trist å høre at vinteren vender tilbake på sånn er det å bo der men de tre fine dager i de gleder jeg meg veldig']\n"
     ]
    }
   ],
   "source": [
    "print(articles[articles.sentiment == 'negative'].head(1)[\"text\"].values)"
   ],
   "metadata": {
    "collapsed": false,
    "pycharm": {
     "name": "#%%\n"
    }
   }
  }
 ],
 "metadata": {
  "kernelspec": {
   "display_name": "Python 3",
   "language": "python",
   "name": "python3"
  },
  "language_info": {
   "codemirror_mode": {
    "name": "ipython",
    "version": 2
   },
   "file_extension": ".py",
   "mimetype": "text/x-python",
   "name": "python",
   "nbconvert_exporter": "python",
   "pygments_lexer": "ipython2",
   "version": "2.7.6"
  }
 },
 "nbformat": 4,
 "nbformat_minor": 0
}