{
 "cells": [
  {
   "cell_type": "code",
   "execution_count": 1,
   "outputs": [],
   "source": [
    "from dataloader import load_balanced_binary_dataset\n",
    "import backend.src.utils.utils as utils"
   ],
   "metadata": {
    "collapsed": false,
    "pycharm": {
     "name": "#%%\n"
    }
   }
  },
  {
   "cell_type": "code",
   "execution_count": 2,
   "outputs": [],
   "source": [
    "data = load_balanced_binary_dataset()\n",
    "data = utils.clean_text(data, \"text\")"
   ],
   "metadata": {
    "collapsed": false,
    "pycharm": {
     "name": "#%%\n"
    }
   }
  },
  {
   "cell_type": "code",
   "execution_count": 3,
   "outputs": [
    {
     "data": {
      "text/plain": "           sent_id                                               text  label\n2116  003576-15-04          fantastiske mikkel rev grunnen liker kino      1\n2172  201835-43-02  gjør lettere ta skarpe bilder situasjoner dårl...      1\n189   501037-08-02  tor endresen klarer faktisk tider høres lennon...      1\n4956  200942-06-01              hoka faktisk overraskende gode skogen      1\n425   200937-09-01  second sight prøver kombinere flere sjangere t...      1\n...            ...                                                ...    ...\n4784  108702-08-03                   louis tomlinson største synderen      0\n1687  301338-02-01  angelina jolies unbroken langt dyrt ubehjelpel...      0\n1760  302647-09-03                                          sykt ræva      0\n1380  202601-14-02  gått smartmobil alltid venstre bukselomme år s...      0\n1720  300086-10-04                                          svakheter      0\n\n[3326 rows x 3 columns]",
      "text/html": "<div>\n<style scoped>\n    .dataframe tbody tr th:only-of-type {\n        vertical-align: middle;\n    }\n\n    .dataframe tbody tr th {\n        vertical-align: top;\n    }\n\n    .dataframe thead th {\n        text-align: right;\n    }\n</style>\n<table border=\"1\" class=\"dataframe\">\n  <thead>\n    <tr style=\"text-align: right;\">\n      <th></th>\n      <th>sent_id</th>\n      <th>text</th>\n      <th>label</th>\n    </tr>\n  </thead>\n  <tbody>\n    <tr>\n      <th>2116</th>\n      <td>003576-15-04</td>\n      <td>fantastiske mikkel rev grunnen liker kino</td>\n      <td>1</td>\n    </tr>\n    <tr>\n      <th>2172</th>\n      <td>201835-43-02</td>\n      <td>gjør lettere ta skarpe bilder situasjoner dårl...</td>\n      <td>1</td>\n    </tr>\n    <tr>\n      <th>189</th>\n      <td>501037-08-02</td>\n      <td>tor endresen klarer faktisk tider høres lennon...</td>\n      <td>1</td>\n    </tr>\n    <tr>\n      <th>4956</th>\n      <td>200942-06-01</td>\n      <td>hoka faktisk overraskende gode skogen</td>\n      <td>1</td>\n    </tr>\n    <tr>\n      <th>425</th>\n      <td>200937-09-01</td>\n      <td>second sight prøver kombinere flere sjangere t...</td>\n      <td>1</td>\n    </tr>\n    <tr>\n      <th>...</th>\n      <td>...</td>\n      <td>...</td>\n      <td>...</td>\n    </tr>\n    <tr>\n      <th>4784</th>\n      <td>108702-08-03</td>\n      <td>louis tomlinson største synderen</td>\n      <td>0</td>\n    </tr>\n    <tr>\n      <th>1687</th>\n      <td>301338-02-01</td>\n      <td>angelina jolies unbroken langt dyrt ubehjelpel...</td>\n      <td>0</td>\n    </tr>\n    <tr>\n      <th>1760</th>\n      <td>302647-09-03</td>\n      <td>sykt ræva</td>\n      <td>0</td>\n    </tr>\n    <tr>\n      <th>1380</th>\n      <td>202601-14-02</td>\n      <td>gått smartmobil alltid venstre bukselomme år s...</td>\n      <td>0</td>\n    </tr>\n    <tr>\n      <th>1720</th>\n      <td>300086-10-04</td>\n      <td>svakheter</td>\n      <td>0</td>\n    </tr>\n  </tbody>\n</table>\n<p>3326 rows × 3 columns</p>\n</div>"
     },
     "execution_count": 3,
     "metadata": {},
     "output_type": "execute_result"
    }
   ],
   "source": [
    "data"
   ],
   "metadata": {
    "collapsed": false,
    "pycharm": {
     "name": "#%%\n"
    }
   }
  },
  {
   "cell_type": "code",
   "execution_count": 4,
   "outputs": [
    {
     "name": "stdout",
     "output_type": "stream",
     "text": [
      "Number of words: 12213\n"
     ]
    }
   ],
   "source": [
    "from collections import Counter\n",
    "\n",
    "num_words = Counter()\n",
    "for review in data[\"text\"]:\n",
    "    for word in review.split(\" \"):\n",
    "        num_words[word] += 1\n",
    "\n",
    "num_words = len(num_words)\n",
    "print(\"Number of words:\", num_words)"
   ],
   "metadata": {
    "collapsed": false,
    "pycharm": {
     "name": "#%%\n"
    }
   }
  },
  {
   "cell_type": "code",
   "execution_count": 5,
   "outputs": [
    {
     "data": {
      "text/plain": "<AxesSubplot:>"
     },
     "execution_count": 5,
     "metadata": {},
     "output_type": "execute_result"
    },
    {
     "data": {
      "text/plain": "<Figure size 432x288 with 1 Axes>",
      "image/png": "[encoded data removed]"
     },
     "metadata": {
      "needs_background": "light"
     },
     "output_type": "display_data"
    }
   ],
   "source": [
    "data[\"label\"].replace({0: \"Negative\", 1: \"Positive\"}).value_counts().sort_index().plot.bar()"
   ],
   "metadata": {
    "collapsed": false,
    "pycharm": {
     "name": "#%%\n"
    }
   }
  },
  {
   "cell_type": "code",
   "execution_count": 6,
   "outputs": [
    {
     "data": {
      "text/plain": "<AxesSubplot:ylabel='Frequency'>"
     },
     "execution_count": 6,
     "metadata": {},
     "output_type": "execute_result"
    },
    {
     "data": {
      "text/plain": "<Figure size 432x288 with 1 Axes>",
      "image/png": "[encoded data removed]"
     },
     "metadata": {
      "needs_background": "light"
     },
     "output_type": "display_data"
    }
   ],
   "source": [
    "data[\"text\"].str.len().plot.hist()"
   ],
   "metadata": {
    "collapsed": false,
    "pycharm": {
     "name": "#%%\n"
    }
   }
  },
  {
   "cell_type": "code",
   "execution_count": 7,
   "outputs": [],
   "source": [
    "from keras.preprocessing.text import Tokenizer\n",
    "from sklearn.model_selection import train_test_split\n",
    "from keras_preprocessing.sequence import pad_sequences\n",
    "\n",
    "X_train, X_test, y_train, y_test = train_test_split(data[\"text\"], data[\"label\"], test_size=0.1, random_state=42, shuffle=True)\n",
    "\n",
    "tokenizer = Tokenizer(num_words=num_words)\n",
    "tokenizer.fit_on_texts(X_train)\n",
    "\n",
    "X_train = tokenizer.texts_to_sequences(X_train)\n",
    "X_test = tokenizer.texts_to_sequences(X_test)"
   ],
   "metadata": {
    "collapsed": false,
    "pycharm": {
     "name": "#%%\n"
    }
   }
  },
  {
   "cell_type": "code",
   "execution_count": 8,
   "outputs": [
    {
     "name": "stdout",
     "output_type": "stream",
     "text": [
      "Review 2891 contains 6 words and is Positive\n",
      "Review content:\n",
      "\n",
      "smale segmentet fremstår dag lexus teknologileder\n"
     ]
    }
   ],
   "source": [
    "from random import randint\n",
    "\n",
    "random_idx = randint(0, len(X_train))\n",
    "review_label_mapping = {0: \"Negative\", 1: \"Positive\"}\n",
    "review_label = review_label_mapping[int(y_train.iloc[random_idx])]\n",
    "\n",
    "print(f\"Review {random_idx} contains {len(X_train[random_idx])} words and is {review_label}\")\n",
    "print(\"Review content:\", end=\"\\n\\n\")\n",
    "print(\" \".join(tokenizer.index_word[idx] for idx in X_train[random_idx]))"
   ],
   "metadata": {
    "collapsed": false,
    "pycharm": {
     "name": "#%%\n"
    }
   }
  },
  {
   "cell_type": "code",
   "execution_count": 9,
   "outputs": [],
   "source": [
    "word_counter = Counter()\n",
    "for review in X_train:\n",
    "    for word in review:\n",
    "        word_counter[tokenizer.index_word[word]] += 1"
   ],
   "metadata": {
    "collapsed": false,
    "pycharm": {
     "name": "#%%\n"
    }
   }
  },
  {
   "cell_type": "code",
   "execution_count": 10,
   "outputs": [
    {
     "data": {
      "text/plain": "[('litt', 149),\n ('godt', 104),\n ('får', 93),\n ('the', 92),\n ('filmen', 88),\n ('helt', 86),\n ('nok', 85),\n ('gjør', 83),\n ('to', 80),\n ('første', 70)]"
     },
     "execution_count": 10,
     "metadata": {},
     "output_type": "execute_result"
    }
   ],
   "source": [
    "word_counter.most_common(10)"
   ],
   "metadata": {
    "collapsed": false,
    "pycharm": {
     "name": "#%%\n"
    }
   }
  },
  {
   "cell_type": "code",
   "execution_count": 11,
   "outputs": [],
   "source": [
    "maxlen = 100\n",
    "\n",
    "X_train = pad_sequences(X_train, maxlen=maxlen)\n",
    "X_test = pad_sequences(X_test, maxlen=maxlen)"
   ],
   "metadata": {
    "collapsed": false,
    "pycharm": {
     "name": "#%%\n"
    }
   }
  },
  {
   "cell_type": "code",
   "execution_count": 12,
   "outputs": [],
   "source": [
    "import numpy as np\n",
    "\n",
    "y_train = np.array(y_train)\n",
    "y_test = np.array(y_test)"
   ],
   "metadata": {
    "collapsed": false,
    "pycharm": {
     "name": "#%%\n"
    }
   }
  },
  {
   "cell_type": "code",
   "execution_count": 13,
   "outputs": [
    {
     "name": "stdout",
     "output_type": "stream",
     "text": [
      "X_train shape: (2993, 100)\n",
      "X_test shape: (333, 100)\n"
     ]
    }
   ],
   "source": [
    "print('X_train shape:', X_train.shape)\n",
    "print('X_test shape:', X_test.shape)"
   ],
   "metadata": {
    "collapsed": false,
    "pycharm": {
     "name": "#%%\n"
    }
   }
  },
  {
   "cell_type": "code",
   "execution_count": 14,
   "outputs": [],
   "source": [
    "from keras.models import Sequential\n",
    "from keras.layers import Dense, LSTM, Embedding, SpatialDropout1D\n",
    "\n",
    "model = Sequential()\n",
    "model.add(Embedding(input_dim=num_words, output_dim=128))\n",
    "model.add(SpatialDropout1D(0.2))\n",
    "model.add(LSTM(units=128, dropout=0.2, return_sequences=True))\n",
    "model.add(LSTM(units=128, dropout=0.2))\n",
    "model.add(Dense(units=1, activation='sigmoid'))"
   ],
   "metadata": {
    "collapsed": false,
    "pycharm": {
     "name": "#%%\n"
    }
   }
  },
  {
   "cell_type": "code",
   "execution_count": 15,
   "outputs": [
    {
     "name": "stdout",
     "output_type": "stream",
     "text": [
      "Model: \"sequential\"\n",
      "_________________________________________________________________\n",
      " Layer (type)                Output Shape              Param #   \n",
      "=================================================================\n",
      " embedding (Embedding)       (None, None, 128)         1563264   \n",
      "                                                                 \n",
      " spatial_dropout1d (SpatialD  (None, None, 128)        0         \n",
      " ropout1D)                                                       \n",
      "                                                                 \n",
      " lstm (LSTM)                 (None, None, 128)         131584    \n",
      "                                                                 \n",
      " lstm_1 (LSTM)               (None, 128)               131584    \n",
      "                                                                 \n",
      " dense (Dense)               (None, 1)                 129       \n",
      "                                                                 \n",
      "=================================================================\n",
      "Total params: 1,826,561\n",
      "Trainable params: 1,826,561\n",
      "Non-trainable params: 0\n",
      "_________________________________________________________________\n"
     ]
    }
   ],
   "source": [
    "model.compile(loss=\"binary_crossentropy\", optimizer=\"adam\", metrics=[\"accuracy\"])\n",
    "model.summary()"
   ],
   "metadata": {
    "collapsed": false,
    "pycharm": {
     "name": "#%%\n"
    }
   }
  },
  {
   "cell_type": "code",
   "execution_count": 16,
   "outputs": [
    {
     "name": "stdout",
     "output_type": "stream",
     "text": [
      "Epoch 1/20\n",
      "150/150 [==============================] - 80s 496ms/step - loss: 0.6841 - accuracy: 0.5535 - val_loss: 0.6831 - val_accuracy: 0.5760\n",
      "Epoch 2/20\n",
      "150/150 [==============================] - 48s 321ms/step - loss: 0.4054 - accuracy: 0.8233 - val_loss: 0.6735 - val_accuracy: 0.6444\n",
      "Epoch 3/20\n",
      "150/150 [==============================] - 41s 274ms/step - loss: 0.1151 - accuracy: 0.9586 - val_loss: 0.9182 - val_accuracy: 0.6511\n",
      "Epoch 4/20\n",
      "150/150 [==============================] - 46s 307ms/step - loss: 0.0384 - accuracy: 0.9871 - val_loss: 1.1095 - val_accuracy: 0.6578\n",
      "Epoch 5/20\n",
      "150/150 [==============================] - 51s 342ms/step - loss: 0.0177 - accuracy: 0.9937 - val_loss: 1.2790 - val_accuracy: 0.6194\n",
      "Epoch 6/20\n",
      "150/150 [==============================] - 47s 314ms/step - loss: 0.0085 - accuracy: 0.9962 - val_loss: 1.5856 - val_accuracy: 0.6194\n",
      "Epoch 7/20\n",
      "150/150 [==============================] - 46s 309ms/step - loss: 0.0041 - accuracy: 0.9983 - val_loss: 1.8247 - val_accuracy: 0.6377\n"
     ]
    }
   ],
   "source": [
    "from keras.callbacks import EarlyStopping\n",
    "\n",
    "early_stop = EarlyStopping(monitor=\"val_accuracy\", mode=\"max\", patience=3)\n",
    "\n",
    "epochs = 20\n",
    "batch_size = 16\n",
    "history = model.fit(X_train, y_train, epochs=epochs, batch_size=batch_size, validation_split=0.2, verbose=1,\n",
    "                    callbacks=[early_stop])"
   ],
   "metadata": {
    "collapsed": false,
    "pycharm": {
     "name": "#%%\n"
    }
   }
  },
  {
   "cell_type": "code",
   "execution_count": 17,
   "outputs": [],
   "source": [
    "from datetime import datetime\n",
    "\n",
    "model.save(f\"models/SA-LSTM-BINARY-BALANCED-{datetime.now().strftime('%Y%m%d%H%M%S')}.h5\")"
   ],
   "metadata": {
    "collapsed": false,
    "pycharm": {
     "name": "#%%\n"
    }
   }
  },
  {
   "cell_type": "code",
   "execution_count": 18,
   "outputs": [
    {
     "data": {
      "text/plain": "<Figure size 864x432 with 2 Axes>",
      "image/png": "[encoded data removed]"
     },
     "metadata": {},
     "output_type": "display_data"
    }
   ],
   "source": [
    "from backend.src.utils.utils import plot_history\n",
    "\n",
    "plot_history(history)"
   ],
   "metadata": {
    "collapsed": false,
    "pycharm": {
     "name": "#%%\n"
    }
   }
  },
  {
   "cell_type": "code",
   "execution_count": 19,
   "outputs": [
    {
     "name": "stdout",
     "output_type": "stream",
     "text": [
      "11/11 [==============================] - 2s 169ms/step - loss: 2.1546 - accuracy: 0.6396\n",
      "Validation loss: 2.1545779705047607\n",
      "Validation accuracy: 0.6396396160125732\n"
     ]
    }
   ],
   "source": [
    "# Evaluation\n",
    "val_loss, val_acc = model.evaluate(X_test, y_test)\n",
    "print(\"Validation loss:\", val_loss)\n",
    "print(\"Validation accuracy:\", val_acc)"
   ],
   "metadata": {
    "collapsed": false,
    "pycharm": {
     "name": "#%%\n"
    }
   }
  }
 ],
 "metadata": {
  "kernelspec": {
   "display_name": "Python 3",
   "language": "python",
   "name": "python3"
  },
  "language_info": {
   "codemirror_mode": {
    "name": "ipython",
    "version": 2
   },
   "file_extension": ".py",
   "mimetype": "text/x-python",
   "name": "python",
   "nbconvert_exporter": "python",
   "pygments_lexer": "ipython2",
   "version": "2.7.6"
  }
 },
 "nbformat": 4,
 "nbformat_minor": 0
}