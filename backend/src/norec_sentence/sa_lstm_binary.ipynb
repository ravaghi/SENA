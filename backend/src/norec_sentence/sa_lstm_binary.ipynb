{
 "cells": [
  {
   "cell_type": "code",
   "execution_count": 1,
   "outputs": [],
   "source": [
    "from dataloader import load_balanced_binary_dataset\n",
    "import backend.src.utils.utils as utils"
   ],
   "metadata": {
    "collapsed": false,
    "pycharm": {
     "name": "#%%\n"
    }
   }
  },
  {
   "cell_type": "code",
   "execution_count": 2,
   "outputs": [],
   "source": [
    "data = load_balanced_binary_dataset()\n",
    "data = utils.clean_text(data, \"text\")"
   ],
   "metadata": {
    "collapsed": false,
    "pycharm": {
     "name": "#%%\n"
    }
   }
  },
  {
   "cell_type": "code",
   "execution_count": 3,
   "outputs": [
    {
     "data": {
      "text/plain": "           sent_id                                               text  label\n1875  001670-05-04  singelen cover of darkness tredjesporet two ki...      1\n4263  200006-39-01  forslag vibrasjonsalarmen bør settes oppnår øn...      1\n2330  202276-14-01                                               futt      1\n4929  000735-08-02  hjelp historie skrevet dc comics egne forfatte...      1\n2630  500921-06-02  intenst kammerspill fremstår familien stor tro...      1\n...            ...                                                ...    ...\n1938  100122-05-01                 dessverre makter buzz the pop quiz      0\n1504  107563-04-04  virker filmen unnskylde åpner hele lageret vel...      0\n1441  700471-05-04  rare gutten organiserer band setter sammen mus...      0\n4700  400215-08-02  dermed ødelegges potensielle spenningskurven litt      0\n3188  201078-13-03                     betyr enkelt greit per dag alt      0\n\n[3326 rows x 3 columns]",
      "text/html": "<div>\n<style scoped>\n    .dataframe tbody tr th:only-of-type {\n        vertical-align: middle;\n    }\n\n    .dataframe tbody tr th {\n        vertical-align: top;\n    }\n\n    .dataframe thead th {\n        text-align: right;\n    }\n</style>\n<table border=\"1\" class=\"dataframe\">\n  <thead>\n    <tr style=\"text-align: right;\">\n      <th></th>\n      <th>sent_id</th>\n      <th>text</th>\n      <th>label</th>\n    </tr>\n  </thead>\n  <tbody>\n    <tr>\n      <th>1875</th>\n      <td>001670-05-04</td>\n      <td>singelen cover of darkness tredjesporet two ki...</td>\n      <td>1</td>\n    </tr>\n    <tr>\n      <th>4263</th>\n      <td>200006-39-01</td>\n      <td>forslag vibrasjonsalarmen bør settes oppnår øn...</td>\n      <td>1</td>\n    </tr>\n    <tr>\n      <th>2330</th>\n      <td>202276-14-01</td>\n      <td>futt</td>\n      <td>1</td>\n    </tr>\n    <tr>\n      <th>4929</th>\n      <td>000735-08-02</td>\n      <td>hjelp historie skrevet dc comics egne forfatte...</td>\n      <td>1</td>\n    </tr>\n    <tr>\n      <th>2630</th>\n      <td>500921-06-02</td>\n      <td>intenst kammerspill fremstår familien stor tro...</td>\n      <td>1</td>\n    </tr>\n    <tr>\n      <th>...</th>\n      <td>...</td>\n      <td>...</td>\n      <td>...</td>\n    </tr>\n    <tr>\n      <th>1938</th>\n      <td>100122-05-01</td>\n      <td>dessverre makter buzz the pop quiz</td>\n      <td>0</td>\n    </tr>\n    <tr>\n      <th>1504</th>\n      <td>107563-04-04</td>\n      <td>virker filmen unnskylde åpner hele lageret vel...</td>\n      <td>0</td>\n    </tr>\n    <tr>\n      <th>1441</th>\n      <td>700471-05-04</td>\n      <td>rare gutten organiserer band setter sammen mus...</td>\n      <td>0</td>\n    </tr>\n    <tr>\n      <th>4700</th>\n      <td>400215-08-02</td>\n      <td>dermed ødelegges potensielle spenningskurven litt</td>\n      <td>0</td>\n    </tr>\n    <tr>\n      <th>3188</th>\n      <td>201078-13-03</td>\n      <td>betyr enkelt greit per dag alt</td>\n      <td>0</td>\n    </tr>\n  </tbody>\n</table>\n<p>3326 rows × 3 columns</p>\n</div>"
     },
     "execution_count": 3,
     "metadata": {},
     "output_type": "execute_result"
    }
   ],
   "source": [
    "data"
   ],
   "metadata": {
    "collapsed": false,
    "pycharm": {
     "name": "#%%\n"
    }
   }
  },
  {
   "cell_type": "code",
   "execution_count": 4,
   "outputs": [
    {
     "name": "stdout",
     "output_type": "stream",
     "text": [
      "Number of words: 13000\n"
     ]
    }
   ],
   "source": [
    "from collections import Counter\n",
    "import math\n",
    "\n",
    "num_words = Counter()\n",
    "for review in data[\"text\"]:\n",
    "    for word in review.split(\" \"):\n",
    "        num_words[word] += 1\n",
    "\n",
    "num_words = len(num_words)\n",
    "num_words = math.ceil(num_words / 1000) * 1000\n",
    "print(\"Number of words:\", num_words)"
   ],
   "metadata": {
    "collapsed": false,
    "pycharm": {
     "name": "#%%\n"
    }
   }
  },
  {
   "cell_type": "code",
   "execution_count": 5,
   "outputs": [
    {
     "data": {
      "text/plain": "<AxesSubplot:>"
     },
     "execution_count": 5,
     "metadata": {},
     "output_type": "execute_result"
    },
    {
     "data": {
      "text/plain": "<Figure size 432x288 with 1 Axes>",
      "image/png": "[encoded data removed]"
     },
     "metadata": {
      "needs_background": "light"
     },
     "output_type": "display_data"
    }
   ],
   "source": [
    "data[\"label\"].replace({0: \"Negative\", 1: \"Positive\"}).value_counts().sort_index().plot.bar()"
   ],
   "metadata": {
    "collapsed": false,
    "pycharm": {
     "name": "#%%\n"
    }
   }
  },
  {
   "cell_type": "code",
   "execution_count": 6,
   "outputs": [
    {
     "data": {
      "text/plain": "<AxesSubplot:ylabel='Frequency'>"
     },
     "execution_count": 6,
     "metadata": {},
     "output_type": "execute_result"
    },
    {
     "data": {
      "text/plain": "<Figure size 432x288 with 1 Axes>",
      "image/png": "[encoded data removed]"
     },
     "metadata": {
      "needs_background": "light"
     },
     "output_type": "display_data"
    }
   ],
   "source": [
    "data[\"text\"].str.len().plot.hist()"
   ],
   "metadata": {
    "collapsed": false,
    "pycharm": {
     "name": "#%%\n"
    }
   }
  },
  {
   "cell_type": "code",
   "execution_count": 7,
   "outputs": [
    {
     "name": "stdout",
     "output_type": "stream",
     "text": [
      "X_train size: 2660\n",
      "y_train size: 2660\n",
      "X_val size: 666\n",
      "y_val size: 666\n"
     ]
    }
   ],
   "source": [
    "from keras.preprocessing.text import Tokenizer\n",
    "from sklearn.model_selection import train_test_split\n",
    "from keras_preprocessing.sequence import pad_sequences\n",
    "\n",
    "X_train, X_val, y_train, y_val = train_test_split(data[\"text\"], data[\"label\"], test_size=0.2, random_state=42,\n",
    "                                                  shuffle=True)\n",
    "\n",
    "tokenizer = Tokenizer(num_words=num_words)\n",
    "tokenizer.fit_on_texts(X_train)\n",
    "\n",
    "X_train = tokenizer.texts_to_sequences(X_train)\n",
    "X_val = tokenizer.texts_to_sequences(X_val)\n",
    "\n",
    "print(\"X_train size:\", len(X_train))\n",
    "print(\"y_train size:\", len(y_train))\n",
    "print(\"X_val size:\", len(X_val))\n",
    "print(\"y_val size:\", len(y_val))"
   ],
   "metadata": {
    "collapsed": false,
    "pycharm": {
     "name": "#%%\n"
    }
   }
  },
  {
   "cell_type": "code",
   "execution_count": 8,
   "outputs": [
    {
     "name": "stdout",
     "output_type": "stream",
     "text": [
      "Review 2128 contains 5 words and is Negative\n",
      "Review content:\n",
      "\n",
      "tillegg bada støtten dårlig nettsteder\n"
     ]
    }
   ],
   "source": [
    "from random import randint\n",
    "\n",
    "random_idx = randint(0, len(X_train))\n",
    "review_label_mapping = {0: \"Negative\", 1: \"Positive\"}\n",
    "review_label = review_label_mapping[int(y_train.iloc[random_idx])]\n",
    "\n",
    "print(f\"Review {random_idx} contains {len(X_train[random_idx])} words and is {review_label}\")\n",
    "print(\"Review content:\", end=\"\\n\\n\")\n",
    "print(\" \".join(tokenizer.index_word[idx] for idx in X_train[random_idx]))"
   ],
   "metadata": {
    "collapsed": false,
    "pycharm": {
     "name": "#%%\n"
    }
   }
  },
  {
   "cell_type": "code",
   "execution_count": 9,
   "outputs": [],
   "source": [
    "word_counter = Counter()\n",
    "for review in X_train:\n",
    "    for word in review:\n",
    "        word_counter[tokenizer.index_word[word]] += 1"
   ],
   "metadata": {
    "collapsed": false,
    "pycharm": {
     "name": "#%%\n"
    }
   }
  },
  {
   "cell_type": "code",
   "execution_count": 10,
   "outputs": [
    {
     "data": {
      "text/plain": "[('litt', 148),\n ('gjør', 87),\n ('filmen', 83),\n ('får', 83),\n ('godt', 81),\n ('nok', 70),\n ('helt', 65),\n ('the', 63),\n ('hele', 62),\n ('to', 62)]"
     },
     "execution_count": 10,
     "metadata": {},
     "output_type": "execute_result"
    }
   ],
   "source": [
    "word_counter.most_common(10)"
   ],
   "metadata": {
    "collapsed": false,
    "pycharm": {
     "name": "#%%\n"
    }
   }
  },
  {
   "cell_type": "code",
   "execution_count": 11,
   "outputs": [
    {
     "name": "stdout",
     "output_type": "stream",
     "text": [
      "X_train shape: (2660, 150)\n",
      "X_val shape: (666, 150)\n",
      "y_train shape: (2660,)\n",
      "y_val shape: (666,)\n"
     ]
    }
   ],
   "source": [
    "import numpy as np\n",
    "\n",
    "maxlen = 150\n",
    "\n",
    "X_train = pad_sequences(X_train, maxlen=maxlen)\n",
    "X_val = pad_sequences(X_val, maxlen=maxlen)\n",
    "\n",
    "y_train = np.array(y_train)\n",
    "y_val = np.array(y_val)\n",
    "\n",
    "print(\"X_train shape:\", X_train.shape)\n",
    "print(\"X_val shape:\", X_val.shape)\n",
    "print(\"y_train shape:\", y_train.shape)\n",
    "print(\"y_val shape:\", y_val.shape)"
   ],
   "metadata": {
    "collapsed": false,
    "pycharm": {
     "name": "#%%\n"
    }
   }
  },
  {
   "cell_type": "code",
   "execution_count": 12,
   "outputs": [],
   "source": [
    "from keras.models import Sequential\n",
    "from keras.layers import Dense, LSTM, Embedding\n",
    "\n",
    "model = Sequential()\n",
    "model.add(Embedding(input_dim=num_words, output_dim=128))\n",
    "model.add(LSTM(units=128, dropout=0.5))\n",
    "model.add(Dense(units=1, activation='sigmoid'))"
   ],
   "metadata": {
    "collapsed": false,
    "pycharm": {
     "name": "#%%\n"
    }
   }
  },
  {
   "cell_type": "code",
   "execution_count": 13,
   "outputs": [
    {
     "name": "stdout",
     "output_type": "stream",
     "text": [
      "Model: \"sequential\"\n",
      "_________________________________________________________________\n",
      " Layer (type)                Output Shape              Param #   \n",
      "=================================================================\n",
      " embedding (Embedding)       (None, None, 128)         1664000   \n",
      "                                                                 \n",
      " lstm (LSTM)                 (None, 128)               131584    \n",
      "                                                                 \n",
      " dense (Dense)               (None, 1)                 129       \n",
      "                                                                 \n",
      "=================================================================\n",
      "Total params: 1,795,713\n",
      "Trainable params: 1,795,713\n",
      "Non-trainable params: 0\n",
      "_________________________________________________________________\n"
     ]
    }
   ],
   "source": [
    "model.compile(loss=\"binary_crossentropy\", optimizer=\"adam\", metrics=[\"accuracy\"])\n",
    "model.summary()"
   ],
   "metadata": {
    "collapsed": false,
    "pycharm": {
     "name": "#%%\n"
    }
   }
  },
  {
   "cell_type": "code",
   "execution_count": 14,
   "outputs": [
    {
     "name": "stdout",
     "output_type": "stream",
     "text": [
      "Epoch 1/20\n",
      "167/167 [==============================] - 42s 234ms/step - loss: 0.6878 - accuracy: 0.5496 - val_loss: 0.6689 - val_accuracy: 0.6126\n",
      "Epoch 2/20\n",
      "167/167 [==============================] - 33s 196ms/step - loss: 0.4462 - accuracy: 0.8154 - val_loss: 0.6969 - val_accuracy: 0.6622\n",
      "Epoch 3/20\n",
      "167/167 [==============================] - 35s 208ms/step - loss: 0.1550 - accuracy: 0.9417 - val_loss: 0.8198 - val_accuracy: 0.6547\n",
      "Epoch 4/20\n",
      "167/167 [==============================] - 35s 212ms/step - loss: 0.0546 - accuracy: 0.9808 - val_loss: 0.9713 - val_accuracy: 0.6577\n",
      "Epoch 5/20\n",
      "167/167 [==============================] - 34s 206ms/step - loss: 0.0214 - accuracy: 0.9936 - val_loss: 1.1606 - val_accuracy: 0.6532\n"
     ]
    }
   ],
   "source": [
    "from keras.callbacks import EarlyStopping\n",
    "\n",
    "early_stop = EarlyStopping(monitor=\"val_accuracy\", mode=\"max\", patience=3)\n",
    "\n",
    "epochs = 20\n",
    "batch_size = 16\n",
    "history = model.fit(X_train, y_train, epochs=epochs, batch_size=batch_size, validation_data=(X_val, y_val), verbose=1,\n",
    "                    callbacks=[early_stop])"
   ],
   "metadata": {
    "collapsed": false,
    "pycharm": {
     "name": "#%%\n"
    }
   }
  },
  {
   "cell_type": "code",
   "execution_count": 15,
   "outputs": [],
   "source": [
    "from datetime import datetime\n",
    "\n",
    "model.save(f\"models/SA-LSTM-BINARY-BALANCED-{datetime.now().strftime('%Y%m%d%H%M%S')}.h5\")"
   ],
   "metadata": {
    "collapsed": false,
    "pycharm": {
     "name": "#%%\n"
    }
   }
  },
  {
   "cell_type": "code",
   "execution_count": 16,
   "outputs": [
    {
     "data": {
      "text/plain": "<Figure size 864x432 with 2 Axes>",
      "image/png": "[encoded data removed]"
     },
     "metadata": {},
     "output_type": "display_data"
    }
   ],
   "source": [
    "from backend.src.utils.utils import plot_history\n",
    "\n",
    "plot_history(history)"
   ],
   "metadata": {
    "collapsed": false,
    "pycharm": {
     "name": "#%%\n"
    }
   }
  },
  {
   "cell_type": "code",
   "execution_count": 17,
   "outputs": [
    {
     "name": "stdout",
     "output_type": "stream",
     "text": [
      "21/21 [==============================] - 2s 101ms/step - loss: 1.1606 - accuracy: 0.6532\n",
      "Validation loss: 1.1605745553970337\n",
      "Validation accuracy: 0.6531531810760498\n"
     ]
    }
   ],
   "source": [
    "# Evaluation\n",
    "val_loss, val_acc = model.evaluate(X_val, y_val)\n",
    "print(\"Validation loss:\", val_loss)\n",
    "print(\"Validation accuracy:\", val_acc)"
   ],
   "metadata": {
    "collapsed": false,
    "pycharm": {
     "name": "#%%\n"
    }
   }
  }
 ],
 "metadata": {
  "kernelspec": {
   "display_name": "Python 3",
   "language": "python",
   "name": "python3"
  },
  "language_info": {
   "codemirror_mode": {
    "name": "ipython",
    "version": 2
   },
   "file_extension": ".py",
   "mimetype": "text/x-python",
   "name": "python",
   "nbconvert_exporter": "python",
   "pygments_lexer": "ipython2",
   "version": "2.7.6"
  }
 },
 "nbformat": 4,
 "nbformat_minor": 0
}