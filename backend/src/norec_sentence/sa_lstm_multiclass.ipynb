{
 "cells": [
  {
   "cell_type": "code",
   "execution_count": 1,
   "outputs": [],
   "source": [
    "from dataloader import load_balanced_dataset\n",
    "import backend.src.utils.utils as utils"
   ],
   "metadata": {
    "collapsed": false,
    "pycharm": {
     "name": "#%%\n"
    }
   }
  },
  {
   "cell_type": "code",
   "execution_count": 2,
   "outputs": [],
   "source": [
    "data = load_balanced_dataset()\n",
    "data = utils.clean_text(data, \"text\")"
   ],
   "metadata": {
    "collapsed": false,
    "pycharm": {
     "name": "#%%\n"
    }
   }
  },
  {
   "cell_type": "code",
   "execution_count": 3,
   "outputs": [
    {
     "data": {
      "text/plain": "            sent_id                                               text  label\n7523   302049-06-04  nettopp hardheten forakten andres følelser gir...      2\n562    400565-26-02                  rockeband tuftet visens premisser      2\n4713   300474-10-02  fusjonen kraftwerk minimalisme store gitarvegg...      2\n9793   704010-03-05  vokalist jehnny beth vrenger sjelen river skjo...      2\n4900   703462-09-03                    ser bedre aller fleste bransjen      2\n...             ...                                                ...    ...\n10112  000778-04-02  anmeldelse februar år omtalte konsollen lite a...      0\n7591   200520-11-03  bilde videkvaliteten ganske midt treet sammenl...      0\n1393   003339-09-02  vet jo drepes bagateller kanskje godt poeng fø...      0\n1917   201849-11-03  mindre hører dårlig altså aktuelt sitte rom ho...      0\n5353   305169-07-07  alt slurvete dokustil sikkert gi følelse spont...      0\n\n[4989 rows x 3 columns]",
      "text/html": "<div>\n<style scoped>\n    .dataframe tbody tr th:only-of-type {\n        vertical-align: middle;\n    }\n\n    .dataframe tbody tr th {\n        vertical-align: top;\n    }\n\n    .dataframe thead th {\n        text-align: right;\n    }\n</style>\n<table border=\"1\" class=\"dataframe\">\n  <thead>\n    <tr style=\"text-align: right;\">\n      <th></th>\n      <th>sent_id</th>\n      <th>text</th>\n      <th>label</th>\n    </tr>\n  </thead>\n  <tbody>\n    <tr>\n      <th>7523</th>\n      <td>302049-06-04</td>\n      <td>nettopp hardheten forakten andres følelser gir...</td>\n      <td>2</td>\n    </tr>\n    <tr>\n      <th>562</th>\n      <td>400565-26-02</td>\n      <td>rockeband tuftet visens premisser</td>\n      <td>2</td>\n    </tr>\n    <tr>\n      <th>4713</th>\n      <td>300474-10-02</td>\n      <td>fusjonen kraftwerk minimalisme store gitarvegg...</td>\n      <td>2</td>\n    </tr>\n    <tr>\n      <th>9793</th>\n      <td>704010-03-05</td>\n      <td>vokalist jehnny beth vrenger sjelen river skjo...</td>\n      <td>2</td>\n    </tr>\n    <tr>\n      <th>4900</th>\n      <td>703462-09-03</td>\n      <td>ser bedre aller fleste bransjen</td>\n      <td>2</td>\n    </tr>\n    <tr>\n      <th>...</th>\n      <td>...</td>\n      <td>...</td>\n      <td>...</td>\n    </tr>\n    <tr>\n      <th>10112</th>\n      <td>000778-04-02</td>\n      <td>anmeldelse februar år omtalte konsollen lite a...</td>\n      <td>0</td>\n    </tr>\n    <tr>\n      <th>7591</th>\n      <td>200520-11-03</td>\n      <td>bilde videkvaliteten ganske midt treet sammenl...</td>\n      <td>0</td>\n    </tr>\n    <tr>\n      <th>1393</th>\n      <td>003339-09-02</td>\n      <td>vet jo drepes bagateller kanskje godt poeng fø...</td>\n      <td>0</td>\n    </tr>\n    <tr>\n      <th>1917</th>\n      <td>201849-11-03</td>\n      <td>mindre hører dårlig altså aktuelt sitte rom ho...</td>\n      <td>0</td>\n    </tr>\n    <tr>\n      <th>5353</th>\n      <td>305169-07-07</td>\n      <td>alt slurvete dokustil sikkert gi følelse spont...</td>\n      <td>0</td>\n    </tr>\n  </tbody>\n</table>\n<p>4989 rows × 3 columns</p>\n</div>"
     },
     "execution_count": 3,
     "metadata": {},
     "output_type": "execute_result"
    }
   ],
   "source": [
    "data"
   ],
   "metadata": {
    "collapsed": false,
    "pycharm": {
     "name": "#%%\n"
    }
   }
  },
  {
   "cell_type": "code",
   "execution_count": 4,
   "outputs": [
    {
     "name": "stdout",
     "output_type": "stream",
     "text": [
      "Number of words: 16000\n"
     ]
    }
   ],
   "source": [
    "from collections import Counter\n",
    "import math\n",
    "\n",
    "num_words = Counter()\n",
    "for review in data[\"text\"]:\n",
    "    for word in review.split(\" \"):\n",
    "        num_words[word] += 1\n",
    "\n",
    "num_words = len(num_words)\n",
    "num_words = math.ceil(num_words / 1000) * 1000\n",
    "print(\"Number of words:\", num_words)"
   ],
   "metadata": {
    "collapsed": false,
    "pycharm": {
     "name": "#%%\n"
    }
   }
  },
  {
   "cell_type": "code",
   "execution_count": 5,
   "outputs": [
    {
     "data": {
      "text/plain": "<AxesSubplot:>"
     },
     "execution_count": 5,
     "metadata": {},
     "output_type": "execute_result"
    },
    {
     "data": {
      "text/plain": "<Figure size 432x288 with 1 Axes>",
      "image/png": "[encoded data removed]"
     },
     "metadata": {
      "needs_background": "light"
     },
     "output_type": "display_data"
    }
   ],
   "source": [
    "data[\"label\"].replace({0: \"Negative\", 1: \"Neutral\", 2: \"Positive\"}).value_counts().sort_index().plot.bar()"
   ],
   "metadata": {
    "collapsed": false,
    "pycharm": {
     "name": "#%%\n"
    }
   }
  },
  {
   "cell_type": "code",
   "execution_count": 6,
   "outputs": [
    {
     "data": {
      "text/plain": "<AxesSubplot:ylabel='Frequency'>"
     },
     "execution_count": 6,
     "metadata": {},
     "output_type": "execute_result"
    },
    {
     "data": {
      "text/plain": "<Figure size 432x288 with 1 Axes>",
      "image/png": "[encoded data removed]"
     },
     "metadata": {
      "needs_background": "light"
     },
     "output_type": "display_data"
    }
   ],
   "source": [
    "data[\"text\"].str.len().plot.hist()"
   ],
   "metadata": {
    "collapsed": false,
    "pycharm": {
     "name": "#%%\n"
    }
   }
  },
  {
   "cell_type": "code",
   "execution_count": 7,
   "outputs": [],
   "source": [
    "from keras.preprocessing.text import Tokenizer\n",
    "from sklearn.model_selection import train_test_split\n",
    "from keras_preprocessing.sequence import pad_sequences\n",
    "from keras.utils.np_utils import to_categorical\n",
    "import numpy as np\n",
    "\n",
    "X_train, X_val, y_train, y_val = train_test_split(data[\"text\"], data[\"label\"], test_size=0.2, random_state=42,\n",
    "                                                  shuffle=True)\n",
    "\n",
    "tokenizer = Tokenizer(num_words=num_words)\n",
    "tokenizer.fit_on_texts(X_train)\n",
    "\n",
    "X_train = tokenizer.texts_to_sequences(X_train)\n",
    "X_val = tokenizer.texts_to_sequences(X_val)"
   ],
   "metadata": {
    "collapsed": false,
    "pycharm": {
     "name": "#%%\n"
    }
   }
  },
  {
   "cell_type": "code",
   "execution_count": 8,
   "outputs": [],
   "source": [
    "from collections import Counter\n",
    "\n",
    "word_counter = Counter()\n",
    "for review in X_train:\n",
    "    for word in review:\n",
    "        word_counter[tokenizer.index_word[word]] += 1"
   ],
   "metadata": {
    "collapsed": false,
    "pycharm": {
     "name": "#%%\n"
    }
   }
  },
  {
   "cell_type": "code",
   "execution_count": 9,
   "outputs": [
    {
     "data": {
      "text/plain": "[('litt', 152),\n ('the', 113),\n ('får', 113),\n ('helt', 109),\n ('filmen', 107),\n ('godt', 101),\n ('gjør', 92),\n ('to', 85),\n ('år', 85),\n ('første', 84)]"
     },
     "execution_count": 9,
     "metadata": {},
     "output_type": "execute_result"
    }
   ],
   "source": [
    "word_counter.most_common(10)"
   ],
   "metadata": {
    "collapsed": false,
    "pycharm": {
     "name": "#%%\n"
    }
   }
  },
  {
   "cell_type": "code",
   "execution_count": 10,
   "outputs": [
    {
     "name": "stdout",
     "output_type": "stream",
     "text": [
      "X_train shape: (3991, 150)\n",
      "X_val shape: (998, 150)\n",
      "y_train shape: (3991, 3)\n",
      "y_val shape: (998, 3)\n"
     ]
    }
   ],
   "source": [
    "y_train = np.array(y_train)\n",
    "y_val = np.array(y_val)\n",
    "\n",
    "maxlen = 150\n",
    "X_train = pad_sequences(X_train, maxlen=maxlen)\n",
    "X_val = pad_sequences(X_val, maxlen=maxlen)\n",
    "\n",
    "y_train = to_categorical(y_train, 3)\n",
    "y_val = to_categorical(y_val, 3)\n",
    "\n",
    "print(\"X_train shape:\", X_train.shape)\n",
    "print(\"X_val shape:\", X_val.shape)\n",
    "print(\"y_train shape:\", y_train.shape)\n",
    "print(\"y_val shape:\", y_val.shape)"
   ],
   "metadata": {
    "collapsed": false,
    "pycharm": {
     "name": "#%%\n"
    }
   }
  },
  {
   "cell_type": "code",
   "execution_count": 11,
   "outputs": [],
   "source": [
    "from keras.models import Sequential\n",
    "from keras.layers import Dense, LSTM, Embedding, Bidirectional\n",
    "from keras import regularizers\n",
    "\n",
    "model = Sequential()\n",
    "model.add(Embedding(input_dim=num_words, output_dim=128))\n",
    "model.add(LSTM(units=128, dropout=0.3, kernel_regularizer=regularizers.l2(0.005)))\n",
    "model.add(Dense(3, activation='softmax'))"
   ],
   "metadata": {
    "collapsed": false,
    "pycharm": {
     "name": "#%%\n"
    }
   }
  },
  {
   "cell_type": "code",
   "execution_count": 12,
   "outputs": [
    {
     "name": "stdout",
     "output_type": "stream",
     "text": [
      "Model: \"sequential\"\n",
      "_________________________________________________________________\n",
      " Layer (type)                Output Shape              Param #   \n",
      "=================================================================\n",
      " embedding (Embedding)       (None, None, 128)         2048000   \n",
      "                                                                 \n",
      " lstm (LSTM)                 (None, 128)               131584    \n",
      "                                                                 \n",
      " dense (Dense)               (None, 3)                 387       \n",
      "                                                                 \n",
      "=================================================================\n",
      "Total params: 2,179,971\n",
      "Trainable params: 2,179,971\n",
      "Non-trainable params: 0\n",
      "_________________________________________________________________\n"
     ]
    }
   ],
   "source": [
    "model.compile(loss=\"categorical_crossentropy\", optimizer=\"adam\", metrics=[\"accuracy\"])\n",
    "model.summary()"
   ],
   "metadata": {
    "collapsed": false,
    "pycharm": {
     "name": "#%%\n"
    }
   }
  },
  {
   "cell_type": "code",
   "execution_count": 13,
   "outputs": [
    {
     "name": "stdout",
     "output_type": "stream",
     "text": [
      "Epoch 1/20\n",
      "250/250 [==============================] - 65s 245ms/step - loss: 1.2061 - accuracy: 0.3971 - val_loss: 1.0519 - val_accuracy: 0.4549\n",
      "Epoch 2/20\n",
      "250/250 [==============================] - 55s 218ms/step - loss: 0.8475 - accuracy: 0.6642 - val_loss: 1.0960 - val_accuracy: 0.4960\n",
      "Epoch 3/20\n",
      "250/250 [==============================] - 58s 234ms/step - loss: 0.4076 - accuracy: 0.8785 - val_loss: 1.2918 - val_accuracy: 0.5110\n",
      "Epoch 4/20\n",
      "250/250 [==============================] - 64s 256ms/step - loss: 0.2015 - accuracy: 0.9584 - val_loss: 1.5180 - val_accuracy: 0.5020\n",
      "Epoch 5/20\n",
      "250/250 [==============================] - 58s 232ms/step - loss: 0.1475 - accuracy: 0.9729 - val_loss: 1.6409 - val_accuracy: 0.4770\n",
      "Epoch 6/20\n",
      "250/250 [==============================] - 41s 164ms/step - loss: 0.0946 - accuracy: 0.9855 - val_loss: 1.5982 - val_accuracy: 0.4950\n"
     ]
    }
   ],
   "source": [
    "from keras.callbacks import EarlyStopping\n",
    "\n",
    "early_stop = EarlyStopping(monitor=\"val_accuracy\", mode=\"max\", patience=3)\n",
    "\n",
    "epochs = 20\n",
    "batch_size = 16\n",
    "history = model.fit(X_train, y_train, epochs=epochs, batch_size=batch_size, validation_data=(X_val, y_val), verbose=1,\n",
    "                    callbacks=[early_stop])"
   ],
   "metadata": {
    "collapsed": false,
    "pycharm": {
     "name": "#%%\n"
    }
   }
  },
  {
   "cell_type": "code",
   "execution_count": 14,
   "outputs": [],
   "source": [
    "from datetime import datetime\n",
    "\n",
    "model.save(f\"models/SA-LSTM-MULTICLASS-BALANCED-{datetime.now().strftime('%Y%m%d%H%M%S')}.h5\")"
   ],
   "metadata": {
    "collapsed": false,
    "pycharm": {
     "name": "#%%\n"
    }
   }
  },
  {
   "cell_type": "code",
   "execution_count": 15,
   "outputs": [
    {
     "data": {
      "text/plain": "<Figure size 864x432 with 2 Axes>",
      "image/png": "[encoded data removed]"
     },
     "metadata": {},
     "output_type": "display_data"
    }
   ],
   "source": [
    "from backend.src.utils.utils import plot_history\n",
    "\n",
    "plot_history(history)"
   ],
   "metadata": {
    "collapsed": false,
    "pycharm": {
     "name": "#%%\n"
    }
   }
  },
  {
   "cell_type": "code",
   "execution_count": 16,
   "outputs": [
    {
     "name": "stdout",
     "output_type": "stream",
     "text": [
      "32/32 [==============================] - 1s 45ms/step - loss: 1.5982 - accuracy: 0.4950\n",
      "Validation loss: 1.5981762409210205\n",
      "Validation accuracy: 0.4949899911880493\n"
     ]
    }
   ],
   "source": [
    "# Evaluation\n",
    "val_loss, val_acc = model.evaluate(X_val, y_val)\n",
    "print(\"Validation loss:\", val_loss)\n",
    "print(\"Validation accuracy:\", val_acc)"
   ],
   "metadata": {
    "collapsed": false,
    "pycharm": {
     "name": "#%%\n"
    }
   }
  }
 ],
 "metadata": {
  "kernelspec": {
   "display_name": "Python 3",
   "language": "python",
   "name": "python3"
  },
  "language_info": {
   "codemirror_mode": {
    "name": "ipython",
    "version": 2
   },
   "file_extension": ".py",
   "mimetype": "text/x-python",
   "name": "python",
   "nbconvert_exporter": "python",
   "pygments_lexer": "ipython2",
   "version": "2.7.6"
  }
 },
 "nbformat": 4,
 "nbformat_minor": 0
}