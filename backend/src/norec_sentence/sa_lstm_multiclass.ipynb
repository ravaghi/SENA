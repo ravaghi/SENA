{
 "cells": [
  {
   "cell_type": "code",
   "execution_count": 19,
   "outputs": [],
   "source": [
    "from dataloader import load_balanced_dataset\n",
    "import backend.src.utils.utils as utils"
   ],
   "metadata": {
    "collapsed": false,
    "pycharm": {
     "name": "#%%\n"
    }
   }
  },
  {
   "cell_type": "code",
   "execution_count": 20,
   "outputs": [],
   "source": [
    "data = load_balanced_dataset()\n",
    "data = utils.clean_text(data, \"text\")"
   ],
   "metadata": {
    "collapsed": false,
    "pycharm": {
     "name": "#%%\n"
    }
   }
  },
  {
   "cell_type": "code",
   "execution_count": 21,
   "outputs": [
    {
     "data": {
      "text/plain": "           sent_id                                               text  label\n7803  102688-02-01  iranskfødte tooji forsøker godt dansbart orien...      2\n9690  200102-19-02  nettbrett mobil pc mac via bluetooth dermed te...      2\n4333  004273-10-01  filmen basert roman jonas jonasson byr snedige...      2\n6641  202389-03-03  slike spillmatiseringer absolutt dårlig ide fo...      2\n3823  500322-07-01  filmen demonstrasjon kathryn bigelows posisjon...      2\n...            ...                                                ...    ...\n1486  702788-05-01                                        hjernen lat      0\n2457  304309-05-10       altfor selvgodt sikker voksne kvinner verden      0\n7123  003889-08-01              forundrer prosjektet tiltalte fincher      0\n4451  201835-11-02  imidlertid spesielt godt sortnivå virker fatti...      0\n6005  103367-04-01  sistnevnte beholdning føles utgått dato selve ...      0\n\n[4989 rows x 3 columns]",
      "text/html": "<div>\n<style scoped>\n    .dataframe tbody tr th:only-of-type {\n        vertical-align: middle;\n    }\n\n    .dataframe tbody tr th {\n        vertical-align: top;\n    }\n\n    .dataframe thead th {\n        text-align: right;\n    }\n</style>\n<table border=\"1\" class=\"dataframe\">\n  <thead>\n    <tr style=\"text-align: right;\">\n      <th></th>\n      <th>sent_id</th>\n      <th>text</th>\n      <th>label</th>\n    </tr>\n  </thead>\n  <tbody>\n    <tr>\n      <th>7803</th>\n      <td>102688-02-01</td>\n      <td>iranskfødte tooji forsøker godt dansbart orien...</td>\n      <td>2</td>\n    </tr>\n    <tr>\n      <th>9690</th>\n      <td>200102-19-02</td>\n      <td>nettbrett mobil pc mac via bluetooth dermed te...</td>\n      <td>2</td>\n    </tr>\n    <tr>\n      <th>4333</th>\n      <td>004273-10-01</td>\n      <td>filmen basert roman jonas jonasson byr snedige...</td>\n      <td>2</td>\n    </tr>\n    <tr>\n      <th>6641</th>\n      <td>202389-03-03</td>\n      <td>slike spillmatiseringer absolutt dårlig ide fo...</td>\n      <td>2</td>\n    </tr>\n    <tr>\n      <th>3823</th>\n      <td>500322-07-01</td>\n      <td>filmen demonstrasjon kathryn bigelows posisjon...</td>\n      <td>2</td>\n    </tr>\n    <tr>\n      <th>...</th>\n      <td>...</td>\n      <td>...</td>\n      <td>...</td>\n    </tr>\n    <tr>\n      <th>1486</th>\n      <td>702788-05-01</td>\n      <td>hjernen lat</td>\n      <td>0</td>\n    </tr>\n    <tr>\n      <th>2457</th>\n      <td>304309-05-10</td>\n      <td>altfor selvgodt sikker voksne kvinner verden</td>\n      <td>0</td>\n    </tr>\n    <tr>\n      <th>7123</th>\n      <td>003889-08-01</td>\n      <td>forundrer prosjektet tiltalte fincher</td>\n      <td>0</td>\n    </tr>\n    <tr>\n      <th>4451</th>\n      <td>201835-11-02</td>\n      <td>imidlertid spesielt godt sortnivå virker fatti...</td>\n      <td>0</td>\n    </tr>\n    <tr>\n      <th>6005</th>\n      <td>103367-04-01</td>\n      <td>sistnevnte beholdning føles utgått dato selve ...</td>\n      <td>0</td>\n    </tr>\n  </tbody>\n</table>\n<p>4989 rows × 3 columns</p>\n</div>"
     },
     "execution_count": 21,
     "metadata": {},
     "output_type": "execute_result"
    }
   ],
   "source": [
    "data"
   ],
   "metadata": {
    "collapsed": false,
    "pycharm": {
     "name": "#%%\n"
    }
   }
  },
  {
   "cell_type": "code",
   "execution_count": 22,
   "outputs": [
    {
     "data": {
      "text/plain": "<AxesSubplot:>"
     },
     "execution_count": 22,
     "metadata": {},
     "output_type": "execute_result"
    },
    {
     "data": {
      "text/plain": "<Figure size 432x288 with 1 Axes>",
      "image/png": "[encoded data removed]"
     },
     "metadata": {},
     "output_type": "display_data"
    }
   ],
   "source": [
    "data[\"label\"].replace({0: \"Negative\", 1: \"Neutral\", 2: \"Positive\"}).value_counts().sort_index().plot.bar()"
   ],
   "metadata": {
    "collapsed": false,
    "pycharm": {
     "name": "#%%\n"
    }
   }
  },
  {
   "cell_type": "code",
   "execution_count": 23,
   "outputs": [
    {
     "data": {
      "text/plain": "<AxesSubplot:ylabel='Frequency'>"
     },
     "execution_count": 23,
     "metadata": {},
     "output_type": "execute_result"
    },
    {
     "data": {
      "text/plain": "<Figure size 432x288 with 1 Axes>",
      "image/png": "[encoded data removed]"
     },
     "metadata": {},
     "output_type": "display_data"
    }
   ],
   "source": [
    "data[\"text\"].str.len().plot.hist()"
   ],
   "metadata": {
    "collapsed": false,
    "pycharm": {
     "name": "#%%\n"
    }
   }
  },
  {
   "cell_type": "code",
   "execution_count": 24,
   "outputs": [],
   "source": [
    "from keras.preprocessing.text import Tokenizer\n",
    "from sklearn.model_selection import train_test_split\n",
    "from keras_preprocessing.sequence import pad_sequences\n",
    "\n",
    "X_train, X_test, y_train, y_test = train_test_split(data[\"text\"], data[\"label\"], test_size=0.1, random_state=42,\n",
    "                                                    shuffle=True)\n",
    "\n",
    "tokenizer = Tokenizer(num_words=20000)\n",
    "tokenizer.fit_on_texts(X_train)\n",
    "\n",
    "X_train = tokenizer.texts_to_sequences(X_train)\n",
    "X_test = tokenizer.texts_to_sequences(X_test)"
   ],
   "metadata": {
    "collapsed": false,
    "pycharm": {
     "name": "#%%\n"
    }
   }
  },
  {
   "cell_type": "code",
   "execution_count": 25,
   "outputs": [
    {
     "name": "stdout",
     "output_type": "stream",
     "text": [
      "Review 802 contains 4 words and is Negative\n",
      "Review content:\n",
      "\n",
      "filmen strabasiøst blottet humor\n"
     ]
    }
   ],
   "source": [
    "from random import randint\n",
    "\n",
    "random_idx = randint(0, len(X_train))\n",
    "review_label_mapping = {0: \"Negative\", 1: \"Neutral\", 2: \"Positive\"}\n",
    "review_label = review_label_mapping[int(y_train.iloc[random_idx])]\n",
    "\n",
    "print(f\"Review {random_idx} contains {len(X_train[random_idx])} words and is {review_label}\")\n",
    "print(\"Review content:\", end=\"\\n\\n\")\n",
    "print(\" \".join(tokenizer.index_word[idx] for idx in X_train[random_idx]))"
   ],
   "metadata": {
    "collapsed": false,
    "pycharm": {
     "name": "#%%\n"
    }
   }
  },
  {
   "cell_type": "code",
   "execution_count": 26,
   "outputs": [],
   "source": [
    "from collections import Counter\n",
    "\n",
    "word_counter = Counter()\n",
    "for review in X_train:\n",
    "    for word in review:\n",
    "        word_counter[tokenizer.index_word[word]] += 1"
   ],
   "metadata": {
    "collapsed": false,
    "pycharm": {
     "name": "#%%\n"
    }
   }
  },
  {
   "cell_type": "code",
   "execution_count": 27,
   "outputs": [
    {
     "data": {
      "text/plain": "[('litt', 171),\n ('får', 131),\n ('the', 114),\n ('godt', 109),\n ('gjør', 107),\n ('to', 107),\n ('år', 104),\n ('helt', 104),\n ('filmen', 101),\n ('nok', 99)]"
     },
     "execution_count": 27,
     "metadata": {},
     "output_type": "execute_result"
    }
   ],
   "source": [
    "word_counter.most_common(10)"
   ],
   "metadata": {
    "collapsed": false,
    "pycharm": {
     "name": "#%%\n"
    }
   }
  },
  {
   "cell_type": "code",
   "execution_count": 28,
   "outputs": [],
   "source": [
    "maxlen = 100\n",
    "\n",
    "X_train = pad_sequences(X_train, maxlen=maxlen)\n",
    "X_test = pad_sequences(X_test, maxlen=maxlen)"
   ],
   "metadata": {
    "collapsed": false,
    "pycharm": {
     "name": "#%%\n"
    }
   }
  },
  {
   "cell_type": "code",
   "execution_count": 29,
   "outputs": [],
   "source": [
    "from keras.utils.np_utils import to_categorical\n",
    "import numpy as np\n",
    "\n",
    "y_train = np.array(y_train)\n",
    "y_test = np.array(y_test)\n",
    "\n",
    "y_train = to_categorical(y_train, 3)\n",
    "y_test = to_categorical(y_test, 3)"
   ],
   "metadata": {
    "collapsed": false,
    "pycharm": {
     "name": "#%%\n"
    }
   }
  },
  {
   "cell_type": "code",
   "execution_count": 30,
   "outputs": [
    {
     "name": "stdout",
     "output_type": "stream",
     "text": [
      "X_train shape: (4490, 100)\n",
      "X_test shape: (499, 100)\n"
     ]
    }
   ],
   "source": [
    "print('X_train shape:', X_train.shape)\n",
    "print('X_test shape:', X_test.shape)"
   ],
   "metadata": {
    "collapsed": false,
    "pycharm": {
     "name": "#%%\n"
    }
   }
  },
  {
   "cell_type": "code",
   "execution_count": 31,
   "outputs": [],
   "source": [
    "from keras.models import Sequential\n",
    "from keras.layers import Dense, LSTM, Embedding\n",
    "\n",
    "model = Sequential()\n",
    "model.add(Embedding(20000, 128))\n",
    "model.add(LSTM(128, dropout=0.4, recurrent_dropout=0.3))\n",
    "model.add(Dense(3, activation='softmax'))"
   ],
   "metadata": {
    "collapsed": false,
    "pycharm": {
     "name": "#%%\n"
    }
   }
  },
  {
   "cell_type": "code",
   "execution_count": 32,
   "outputs": [
    {
     "name": "stdout",
     "output_type": "stream",
     "text": [
      "Model: \"sequential_1\"\n",
      "_________________________________________________________________\n",
      " Layer (type)                Output Shape              Param #   \n",
      "=================================================================\n",
      " embedding_1 (Embedding)     (None, None, 128)         2560000   \n",
      "                                                                 \n",
      " lstm_1 (LSTM)               (None, 128)               131584    \n",
      "                                                                 \n",
      " dense_1 (Dense)             (None, 3)                 387       \n",
      "                                                                 \n",
      "=================================================================\n",
      "Total params: 2,691,971\n",
      "Trainable params: 2,691,971\n",
      "Non-trainable params: 0\n",
      "_________________________________________________________________\n"
     ]
    }
   ],
   "source": [
    "model.compile(loss=\"categorical_crossentropy\", optimizer=\"adam\", metrics=[\"accuracy\"])\n",
    "model.summary()"
   ],
   "metadata": {
    "collapsed": false,
    "pycharm": {
     "name": "#%%\n"
    }
   }
  },
  {
   "cell_type": "code",
   "execution_count": 33,
   "outputs": [
    {
     "name": "stdout",
     "output_type": "stream",
     "text": [
      "Epoch 1/20\n",
      "225/225 [==============================] - 63s 219ms/step - loss: 1.0652 - accuracy: 0.4104 - val_loss: 1.0399 - val_accuracy: 0.4421\n",
      "Epoch 2/20\n",
      "225/225 [==============================] - 48s 214ms/step - loss: 0.6999 - accuracy: 0.7339 - val_loss: 1.2573 - val_accuracy: 0.5045\n",
      "Epoch 3/20\n",
      "225/225 [==============================] - 49s 216ms/step - loss: 0.2249 - accuracy: 0.9215 - val_loss: 1.4547 - val_accuracy: 0.4855\n",
      "Epoch 4/20\n",
      "225/225 [==============================] - 29s 130ms/step - loss: 0.0832 - accuracy: 0.9747 - val_loss: 1.5916 - val_accuracy: 0.4644\n",
      "Epoch 5/20\n",
      "225/225 [==============================] - 29s 131ms/step - loss: 0.0364 - accuracy: 0.9897 - val_loss: 1.9177 - val_accuracy: 0.4822\n"
     ]
    }
   ],
   "source": [
    "from keras.callbacks import EarlyStopping\n",
    "\n",
    "early_stop = EarlyStopping(monitor=\"val_accuracy\", mode=\"max\", patience=3)\n",
    "\n",
    "epochs = 20\n",
    "batch_size = 16\n",
    "history = model.fit(X_train, y_train, epochs=epochs, batch_size=batch_size, validation_split=0.2, verbose=1,\n",
    "                    callbacks=[early_stop])"
   ],
   "metadata": {
    "collapsed": false,
    "pycharm": {
     "name": "#%%\n"
    }
   }
  },
  {
   "cell_type": "code",
   "execution_count": 34,
   "outputs": [],
   "source": [
    "from datetime import datetime\n",
    "\n",
    "model.save(f\"models/SA-LSTM-MULTICLASS-BALANCED-{datetime.now().strftime('%Y%m%d%H%M%S')}.h5\")"
   ],
   "metadata": {
    "collapsed": false,
    "pycharm": {
     "name": "#%%\n"
    }
   }
  },
  {
   "cell_type": "code",
   "execution_count": 35,
   "outputs": [
    {
     "data": {
      "text/plain": "<Figure size 864x432 with 2 Axes>",
      "image/png": "[encoded data removed]"
     },
     "metadata": {},
     "output_type": "display_data"
    }
   ],
   "source": [
    "from backend.src.utils.utils import plot_history\n",
    "\n",
    "plot_history(history)"
   ],
   "metadata": {
    "collapsed": false,
    "pycharm": {
     "name": "#%%\n"
    }
   }
  },
  {
   "cell_type": "code",
   "execution_count": 36,
   "outputs": [
    {
     "name": "stdout",
     "output_type": "stream",
     "text": [
      "16/16 [==============================] - 0s 24ms/step - loss: 2.0535 - accuracy: 0.4990\n",
      "Validation loss: 2.053541660308838\n",
      "Validation accuracy: 0.4989979863166809\n"
     ]
    }
   ],
   "source": [
    "# Evaluation\n",
    "val_loss, val_acc = model.evaluate(X_test, y_test)\n",
    "print(\"Validation loss:\", val_loss)\n",
    "print(\"Validation accuracy:\", val_acc)"
   ],
   "metadata": {
    "collapsed": false,
    "pycharm": {
     "name": "#%%\n"
    }
   }
  }
 ],
 "metadata": {
  "kernelspec": {
   "display_name": "Python 3",
   "language": "python",
   "name": "python3"
  },
  "language_info": {
   "codemirror_mode": {
    "name": "ipython",
    "version": 2
   },
   "file_extension": ".py",
   "mimetype": "text/x-python",
   "name": "python",
   "nbconvert_exporter": "python",
   "pygments_lexer": "ipython2",
   "version": "2.7.6"
  }
 },
 "nbformat": 4,
 "nbformat_minor": 0
}