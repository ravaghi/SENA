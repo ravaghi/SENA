{
 "cells": [
  {
   "cell_type": "code",
   "execution_count": 1,
   "outputs": [],
   "source": [
    "from dataloader import load_balanced_dataset\n",
    "import backend.src.utils.utils as utils"
   ],
   "metadata": {
    "collapsed": false,
    "pycharm": {
     "name": "#%%\n"
    }
   }
  },
  {
   "cell_type": "code",
   "execution_count": 2,
   "outputs": [],
   "source": [
    "data = load_balanced_dataset()\n",
    "data = utils.clean_text(data, \"text\")"
   ],
   "metadata": {
    "collapsed": false,
    "pycharm": {
     "name": "#%%\n"
    }
   }
  },
  {
   "cell_type": "code",
   "execution_count": 3,
   "outputs": [
    {
     "data": {
      "text/plain": "            sent_id                                               text  label\n1170   001842-06-01  turnering peter gabriel ani difranco albumet u...      2\n3900   001670-03-02  debutplata is this it fem gutane frå new york ...      2\n7007   704974-08-06  kaizers utvider repertoaret kvitter trangeste ...      2\n9558   400620-16-03                            gamle helt xzibit plass      2\n1801   003204-16-02                    fryktelig vondt se sammenhengen      2\n...             ...                                                ...    ...\n9076   300186-13-01                                         liksom nok      0\n10219  000778-49-02  berøringsfeltet brukes spesielt godt lansering...      0\n1586   301212-05-02  utgangspunktet opparbeidet viss skepsis knut e...      0\n31     201911-23-01                                imponert lydstyrken      0\n177    002575-02-01  snodig nødt foregå bak kraniet vilde tuv sted ...      0\n\n[4989 rows x 3 columns]",
      "text/html": "<div>\n<style scoped>\n    .dataframe tbody tr th:only-of-type {\n        vertical-align: middle;\n    }\n\n    .dataframe tbody tr th {\n        vertical-align: top;\n    }\n\n    .dataframe thead th {\n        text-align: right;\n    }\n</style>\n<table border=\"1\" class=\"dataframe\">\n  <thead>\n    <tr style=\"text-align: right;\">\n      <th></th>\n      <th>sent_id</th>\n      <th>text</th>\n      <th>label</th>\n    </tr>\n  </thead>\n  <tbody>\n    <tr>\n      <th>1170</th>\n      <td>001842-06-01</td>\n      <td>turnering peter gabriel ani difranco albumet u...</td>\n      <td>2</td>\n    </tr>\n    <tr>\n      <th>3900</th>\n      <td>001670-03-02</td>\n      <td>debutplata is this it fem gutane frå new york ...</td>\n      <td>2</td>\n    </tr>\n    <tr>\n      <th>7007</th>\n      <td>704974-08-06</td>\n      <td>kaizers utvider repertoaret kvitter trangeste ...</td>\n      <td>2</td>\n    </tr>\n    <tr>\n      <th>9558</th>\n      <td>400620-16-03</td>\n      <td>gamle helt xzibit plass</td>\n      <td>2</td>\n    </tr>\n    <tr>\n      <th>1801</th>\n      <td>003204-16-02</td>\n      <td>fryktelig vondt se sammenhengen</td>\n      <td>2</td>\n    </tr>\n    <tr>\n      <th>...</th>\n      <td>...</td>\n      <td>...</td>\n      <td>...</td>\n    </tr>\n    <tr>\n      <th>9076</th>\n      <td>300186-13-01</td>\n      <td>liksom nok</td>\n      <td>0</td>\n    </tr>\n    <tr>\n      <th>10219</th>\n      <td>000778-49-02</td>\n      <td>berøringsfeltet brukes spesielt godt lansering...</td>\n      <td>0</td>\n    </tr>\n    <tr>\n      <th>1586</th>\n      <td>301212-05-02</td>\n      <td>utgangspunktet opparbeidet viss skepsis knut e...</td>\n      <td>0</td>\n    </tr>\n    <tr>\n      <th>31</th>\n      <td>201911-23-01</td>\n      <td>imponert lydstyrken</td>\n      <td>0</td>\n    </tr>\n    <tr>\n      <th>177</th>\n      <td>002575-02-01</td>\n      <td>snodig nødt foregå bak kraniet vilde tuv sted ...</td>\n      <td>0</td>\n    </tr>\n  </tbody>\n</table>\n<p>4989 rows × 3 columns</p>\n</div>"
     },
     "execution_count": 3,
     "metadata": {},
     "output_type": "execute_result"
    }
   ],
   "source": [
    "data"
   ],
   "metadata": {
    "collapsed": false,
    "pycharm": {
     "name": "#%%\n"
    }
   }
  },
  {
   "cell_type": "code",
   "execution_count": 4,
   "outputs": [
    {
     "name": "stdout",
     "output_type": "stream",
     "text": [
      "Number of words: 15566\n"
     ]
    }
   ],
   "source": [
    "from collections import Counter\n",
    "\n",
    "num_words = Counter()\n",
    "for review in data[\"text\"]:\n",
    "    for word in review.split(\" \"):\n",
    "        num_words[word] += 1\n",
    "\n",
    "num_words = len(num_words)\n",
    "print(\"Number of words:\", num_words)"
   ],
   "metadata": {
    "collapsed": false,
    "pycharm": {
     "name": "#%%\n"
    }
   }
  },
  {
   "cell_type": "code",
   "execution_count": 5,
   "outputs": [
    {
     "data": {
      "text/plain": "<AxesSubplot:>"
     },
     "execution_count": 5,
     "metadata": {},
     "output_type": "execute_result"
    },
    {
     "data": {
      "text/plain": "<Figure size 432x288 with 1 Axes>",
      "image/png": "[encoded data removed]"
     },
     "metadata": {
      "needs_background": "light"
     },
     "output_type": "display_data"
    }
   ],
   "source": [
    "data[\"label\"].replace({0: \"Negative\", 1: \"Neutral\", 2: \"Positive\"}).value_counts().sort_index().plot.bar()"
   ],
   "metadata": {
    "collapsed": false,
    "pycharm": {
     "name": "#%%\n"
    }
   }
  },
  {
   "cell_type": "code",
   "execution_count": 6,
   "outputs": [
    {
     "data": {
      "text/plain": "<AxesSubplot:ylabel='Frequency'>"
     },
     "execution_count": 6,
     "metadata": {},
     "output_type": "execute_result"
    },
    {
     "data": {
      "text/plain": "<Figure size 432x288 with 1 Axes>",
      "image/png": "[encoded data removed]"
     },
     "metadata": {
      "needs_background": "light"
     },
     "output_type": "display_data"
    }
   ],
   "source": [
    "data[\"text\"].str.len().plot.hist()"
   ],
   "metadata": {
    "collapsed": false,
    "pycharm": {
     "name": "#%%\n"
    }
   }
  },
  {
   "cell_type": "code",
   "execution_count": 7,
   "outputs": [],
   "source": [
    "from keras.preprocessing.text import Tokenizer\n",
    "from sklearn.model_selection import train_test_split\n",
    "from keras_preprocessing.sequence import pad_sequences\n",
    "\n",
    "X_train, X_test, y_train, y_test = train_test_split(data[\"text\"], data[\"label\"], test_size=0.1, random_state=42,\n",
    "                                                    shuffle=True)\n",
    "\n",
    "tokenizer = Tokenizer(num_words=num_words)\n",
    "tokenizer.fit_on_texts(X_train)\n",
    "\n",
    "X_train = tokenizer.texts_to_sequences(X_train)\n",
    "X_test = tokenizer.texts_to_sequences(X_test)"
   ],
   "metadata": {
    "collapsed": false,
    "pycharm": {
     "name": "#%%\n"
    }
   }
  },
  {
   "cell_type": "code",
   "execution_count": 8,
   "outputs": [
    {
     "name": "stdout",
     "output_type": "stream",
     "text": [
      "Review 369 contains 14 words and is Negative\n",
      "Review content:\n",
      "\n",
      "unbroken gir kanskje mening terapeutisk verktøy filmfortelling sier selvhjelpsfilmer laget verdensberømte milliardærer begrenset nedslagsfelt\n"
     ]
    }
   ],
   "source": [
    "from random import randint\n",
    "\n",
    "random_idx = randint(0, len(X_train))\n",
    "review_label_mapping = {0: \"Negative\", 1: \"Neutral\", 2: \"Positive\"}\n",
    "review_label = review_label_mapping[int(y_train.iloc[random_idx])]\n",
    "\n",
    "print(f\"Review {random_idx} contains {len(X_train[random_idx])} words and is {review_label}\")\n",
    "print(\"Review content:\", end=\"\\n\\n\")\n",
    "print(\" \".join(tokenizer.index_word[idx] for idx in X_train[random_idx]))"
   ],
   "metadata": {
    "collapsed": false,
    "pycharm": {
     "name": "#%%\n"
    }
   }
  },
  {
   "cell_type": "code",
   "execution_count": 9,
   "outputs": [],
   "source": [
    "from collections import Counter\n",
    "\n",
    "word_counter = Counter()\n",
    "for review in X_train:\n",
    "    for word in review:\n",
    "        word_counter[tokenizer.index_word[word]] += 1"
   ],
   "metadata": {
    "collapsed": false,
    "pycharm": {
     "name": "#%%\n"
    }
   }
  },
  {
   "cell_type": "code",
   "execution_count": 10,
   "outputs": [
    {
     "data": {
      "text/plain": "[('litt', 162),\n ('the', 136),\n ('får', 135),\n ('helt', 112),\n ('filmen', 111),\n ('to', 110),\n ('gjør', 108),\n ('godt', 107),\n ('år', 102),\n ('nok', 99)]"
     },
     "execution_count": 10,
     "metadata": {},
     "output_type": "execute_result"
    }
   ],
   "source": [
    "word_counter.most_common(10)"
   ],
   "metadata": {
    "collapsed": false,
    "pycharm": {
     "name": "#%%\n"
    }
   }
  },
  {
   "cell_type": "code",
   "execution_count": 11,
   "outputs": [],
   "source": [
    "maxlen = 100\n",
    "\n",
    "X_train = pad_sequences(X_train, maxlen=maxlen)\n",
    "X_test = pad_sequences(X_test, maxlen=maxlen)"
   ],
   "metadata": {
    "collapsed": false,
    "pycharm": {
     "name": "#%%\n"
    }
   }
  },
  {
   "cell_type": "code",
   "execution_count": 12,
   "outputs": [],
   "source": [
    "from keras.utils.np_utils import to_categorical\n",
    "import numpy as np\n",
    "\n",
    "y_train = np.array(y_train)\n",
    "y_test = np.array(y_test)\n",
    "\n",
    "y_train = to_categorical(y_train, 3)\n",
    "y_test = to_categorical(y_test, 3)"
   ],
   "metadata": {
    "collapsed": false,
    "pycharm": {
     "name": "#%%\n"
    }
   }
  },
  {
   "cell_type": "code",
   "execution_count": 13,
   "outputs": [
    {
     "name": "stdout",
     "output_type": "stream",
     "text": [
      "X_train shape: (4490, 100)\n",
      "X_test shape: (499, 100)\n"
     ]
    }
   ],
   "source": [
    "print('X_train shape:', X_train.shape)\n",
    "print('X_test shape:', X_test.shape)"
   ],
   "metadata": {
    "collapsed": false,
    "pycharm": {
     "name": "#%%\n"
    }
   }
  },
  {
   "cell_type": "code",
   "execution_count": 14,
   "outputs": [],
   "source": [
    "from keras.models import Sequential\n",
    "from keras.layers import Dense, LSTM, Embedding, SpatialDropout1D\n",
    "\n",
    "model = Sequential()\n",
    "model.add(Embedding(input_dim=num_words, output_dim=128))\n",
    "model.add(SpatialDropout1D(0.2))\n",
    "model.add(LSTM(units=128, dropout=0.2, return_sequences=True))\n",
    "model.add(LSTM(units=128, dropout=0.2))\n",
    "model.add(Dense(3, activation='softmax'))"
   ],
   "metadata": {
    "collapsed": false,
    "pycharm": {
     "name": "#%%\n"
    }
   }
  },
  {
   "cell_type": "code",
   "execution_count": 15,
   "outputs": [
    {
     "name": "stdout",
     "output_type": "stream",
     "text": [
      "Model: \"sequential\"\n",
      "_________________________________________________________________\n",
      " Layer (type)                Output Shape              Param #   \n",
      "=================================================================\n",
      " embedding (Embedding)       (None, None, 128)         1992448   \n",
      "                                                                 \n",
      " spatial_dropout1d (SpatialD  (None, None, 128)        0         \n",
      " ropout1D)                                                       \n",
      "                                                                 \n",
      " lstm (LSTM)                 (None, None, 128)         131584    \n",
      "                                                                 \n",
      " lstm_1 (LSTM)               (None, 128)               131584    \n",
      "                                                                 \n",
      " dense (Dense)               (None, 3)                 387       \n",
      "                                                                 \n",
      "=================================================================\n",
      "Total params: 2,256,003\n",
      "Trainable params: 2,256,003\n",
      "Non-trainable params: 0\n",
      "_________________________________________________________________\n"
     ]
    }
   ],
   "source": [
    "model.compile(loss=\"categorical_crossentropy\", optimizer=\"adam\", metrics=[\"accuracy\"])\n",
    "model.summary()"
   ],
   "metadata": {
    "collapsed": false,
    "pycharm": {
     "name": "#%%\n"
    }
   }
  },
  {
   "cell_type": "code",
   "execution_count": 16,
   "outputs": [
    {
     "name": "stdout",
     "output_type": "stream",
     "text": [
      "Epoch 1/20\n",
      "225/225 [==============================] - 97s 407ms/step - loss: 1.0804 - accuracy: 0.3953 - val_loss: 1.0556 - val_accuracy: 0.4432\n",
      "Epoch 2/20\n",
      "225/225 [==============================] - 70s 310ms/step - loss: 0.7223 - accuracy: 0.6993 - val_loss: 1.0788 - val_accuracy: 0.5379\n",
      "Epoch 3/20\n",
      "225/225 [==============================] - 66s 293ms/step - loss: 0.2325 - accuracy: 0.9184 - val_loss: 1.4748 - val_accuracy: 0.5290\n",
      "Epoch 4/20\n",
      "225/225 [==============================] - 76s 340ms/step - loss: 0.0816 - accuracy: 0.9736 - val_loss: 1.6387 - val_accuracy: 0.5245\n",
      "Epoch 5/20\n",
      "225/225 [==============================] - 65s 288ms/step - loss: 0.0484 - accuracy: 0.9841 - val_loss: 1.8554 - val_accuracy: 0.5111\n"
     ]
    }
   ],
   "source": [
    "from keras.callbacks import EarlyStopping\n",
    "\n",
    "early_stop = EarlyStopping(monitor=\"val_accuracy\", mode=\"max\", patience=3)\n",
    "\n",
    "epochs = 20\n",
    "batch_size = 16\n",
    "history = model.fit(X_train, y_train, epochs=epochs, batch_size=batch_size, validation_split=0.2, verbose=1,\n",
    "                    callbacks=[early_stop])"
   ],
   "metadata": {
    "collapsed": false,
    "pycharm": {
     "name": "#%%\n"
    }
   }
  },
  {
   "cell_type": "code",
   "execution_count": 17,
   "outputs": [],
   "source": [
    "from datetime import datetime\n",
    "\n",
    "model.save(f\"models/SA-LSTM-MULTICLASS-BALANCED-{datetime.now().strftime('%Y%m%d%H%M%S')}.h5\")"
   ],
   "metadata": {
    "collapsed": false,
    "pycharm": {
     "name": "#%%\n"
    }
   }
  },
  {
   "cell_type": "code",
   "execution_count": 18,
   "outputs": [
    {
     "data": {
      "text/plain": "<Figure size 864x432 with 2 Axes>",
      "image/png": "[encoded data removed]"
     },
     "metadata": {},
     "output_type": "display_data"
    }
   ],
   "source": [
    "from backend.src.utils.utils import plot_history\n",
    "\n",
    "plot_history(history)"
   ],
   "metadata": {
    "collapsed": false,
    "pycharm": {
     "name": "#%%\n"
    }
   }
  },
  {
   "cell_type": "code",
   "execution_count": 19,
   "outputs": [
    {
     "name": "stdout",
     "output_type": "stream",
     "text": [
      "16/16 [==============================] - 1s 68ms/step - loss: 1.9170 - accuracy: 0.5110\n",
      "Validation loss: 1.91696298122406\n",
      "Validation accuracy: 0.5110220313072205\n"
     ]
    }
   ],
   "source": [
    "# Evaluation\n",
    "val_loss, val_acc = model.evaluate(X_test, y_test)\n",
    "print(\"Validation loss:\", val_loss)\n",
    "print(\"Validation accuracy:\", val_acc)"
   ],
   "metadata": {
    "collapsed": false,
    "pycharm": {
     "name": "#%%\n"
    }
   }
  }
 ],
 "metadata": {
  "kernelspec": {
   "display_name": "Python 3",
   "language": "python",
   "name": "python3"
  },
  "language_info": {
   "codemirror_mode": {
    "name": "ipython",
    "version": 2
   },
   "file_extension": ".py",
   "mimetype": "text/x-python",
   "name": "python",
   "nbconvert_exporter": "python",
   "pygments_lexer": "ipython2",
   "version": "2.7.6"
  }
 },
 "nbformat": 4,
 "nbformat_minor": 0
}