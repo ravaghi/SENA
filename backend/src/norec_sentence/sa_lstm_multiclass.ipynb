{
 "cells": [
  {
   "cell_type": "code",
   "execution_count": 1,
   "outputs": [],
   "source": [
    "from dataloader import load_balanced_dataset\n",
    "import backend.src.utils.utils as utils"
   ],
   "metadata": {
    "collapsed": false,
    "pycharm": {
     "name": "#%%\n"
    }
   }
  },
  {
   "cell_type": "code",
   "execution_count": 2,
   "outputs": [],
   "source": [
    "data = load_balanced_dataset()\n",
    "data = utils.clean_text(data, \"text\")"
   ],
   "metadata": {
    "collapsed": false,
    "pycharm": {
     "name": "#%%\n"
    }
   }
  },
  {
   "cell_type": "code",
   "execution_count": 3,
   "outputs": [
    {
     "data": {
      "text/plain": "           sent_id                                               text  label\n9909  400258-10-01  garrone laget vakker visuell lek farger flotte...      2\n9551  400620-14-01  kanskje morsomste compton stjernelaget califor...      2\n9376  601619-03-01  starter mørkt intenst gosh går videre dypeste ...      2\n3827  500322-08-04  krigsfilm åpner syn selvstendig tenkning rundt...      2\n3659  601343-06-02  smart grep forfatteren jo representerer fritta...      2\n...            ...                                                ...    ...\n2449  304309-05-01                                           uskyldig      0\n5554  602157-07-02  dessverre prater publikum høyt nyte lavestepar...      0\n8394  103992-13-04  ta takke åpenbar umenneskelig behandling sitte...      0\n3886  101857-06-01                     kvinneavdelingen virker brutal      0\n4130  701606-02-01                        litt resignert ordtak lyder      0\n\n[4989 rows x 3 columns]",
      "text/html": "<div>\n<style scoped>\n    .dataframe tbody tr th:only-of-type {\n        vertical-align: middle;\n    }\n\n    .dataframe tbody tr th {\n        vertical-align: top;\n    }\n\n    .dataframe thead th {\n        text-align: right;\n    }\n</style>\n<table border=\"1\" class=\"dataframe\">\n  <thead>\n    <tr style=\"text-align: right;\">\n      <th></th>\n      <th>sent_id</th>\n      <th>text</th>\n      <th>label</th>\n    </tr>\n  </thead>\n  <tbody>\n    <tr>\n      <th>9909</th>\n      <td>400258-10-01</td>\n      <td>garrone laget vakker visuell lek farger flotte...</td>\n      <td>2</td>\n    </tr>\n    <tr>\n      <th>9551</th>\n      <td>400620-14-01</td>\n      <td>kanskje morsomste compton stjernelaget califor...</td>\n      <td>2</td>\n    </tr>\n    <tr>\n      <th>9376</th>\n      <td>601619-03-01</td>\n      <td>starter mørkt intenst gosh går videre dypeste ...</td>\n      <td>2</td>\n    </tr>\n    <tr>\n      <th>3827</th>\n      <td>500322-08-04</td>\n      <td>krigsfilm åpner syn selvstendig tenkning rundt...</td>\n      <td>2</td>\n    </tr>\n    <tr>\n      <th>3659</th>\n      <td>601343-06-02</td>\n      <td>smart grep forfatteren jo representerer fritta...</td>\n      <td>2</td>\n    </tr>\n    <tr>\n      <th>...</th>\n      <td>...</td>\n      <td>...</td>\n      <td>...</td>\n    </tr>\n    <tr>\n      <th>2449</th>\n      <td>304309-05-01</td>\n      <td>uskyldig</td>\n      <td>0</td>\n    </tr>\n    <tr>\n      <th>5554</th>\n      <td>602157-07-02</td>\n      <td>dessverre prater publikum høyt nyte lavestepar...</td>\n      <td>0</td>\n    </tr>\n    <tr>\n      <th>8394</th>\n      <td>103992-13-04</td>\n      <td>ta takke åpenbar umenneskelig behandling sitte...</td>\n      <td>0</td>\n    </tr>\n    <tr>\n      <th>3886</th>\n      <td>101857-06-01</td>\n      <td>kvinneavdelingen virker brutal</td>\n      <td>0</td>\n    </tr>\n    <tr>\n      <th>4130</th>\n      <td>701606-02-01</td>\n      <td>litt resignert ordtak lyder</td>\n      <td>0</td>\n    </tr>\n  </tbody>\n</table>\n<p>4989 rows × 3 columns</p>\n</div>"
     },
     "execution_count": 3,
     "metadata": {},
     "output_type": "execute_result"
    }
   ],
   "source": [
    "data"
   ],
   "metadata": {
    "collapsed": false,
    "pycharm": {
     "name": "#%%\n"
    }
   }
  },
  {
   "cell_type": "code",
   "execution_count": 4,
   "outputs": [
    {
     "name": "stdout",
     "output_type": "stream",
     "text": [
      "Number of words: 16000\n"
     ]
    }
   ],
   "source": [
    "from collections import Counter\n",
    "import math\n",
    "\n",
    "num_words = Counter()\n",
    "for review in data[\"text\"]:\n",
    "    for word in review.split(\" \"):\n",
    "        num_words[word] += 1\n",
    "\n",
    "num_words = len(num_words)\n",
    "num_words = math.ceil(num_words / 1000) * 1000\n",
    "print(\"Number of words:\", num_words)"
   ],
   "metadata": {
    "collapsed": false,
    "pycharm": {
     "name": "#%%\n"
    }
   }
  },
  {
   "cell_type": "code",
   "execution_count": 5,
   "outputs": [
    {
     "data": {
      "text/plain": "<AxesSubplot:>"
     },
     "execution_count": 5,
     "metadata": {},
     "output_type": "execute_result"
    },
    {
     "data": {
      "text/plain": "<Figure size 432x288 with 1 Axes>",
      "image/png": "[encoded data removed]"
     },
     "metadata": {
      "needs_background": "light"
     },
     "output_type": "display_data"
    }
   ],
   "source": [
    "data[\"label\"].replace({0: \"Negative\", 1: \"Neutral\", 2: \"Positive\"}).value_counts().sort_index().plot.bar()"
   ],
   "metadata": {
    "collapsed": false,
    "pycharm": {
     "name": "#%%\n"
    }
   }
  },
  {
   "cell_type": "code",
   "execution_count": 6,
   "outputs": [
    {
     "data": {
      "text/plain": "<AxesSubplot:ylabel='Frequency'>"
     },
     "execution_count": 6,
     "metadata": {},
     "output_type": "execute_result"
    },
    {
     "data": {
      "text/plain": "<Figure size 432x288 with 1 Axes>",
      "image/png": "[encoded data removed]"
     },
     "metadata": {
      "needs_background": "light"
     },
     "output_type": "display_data"
    }
   ],
   "source": [
    "data[\"text\"].str.len().plot.hist()"
   ],
   "metadata": {
    "collapsed": false,
    "pycharm": {
     "name": "#%%\n"
    }
   }
  },
  {
   "cell_type": "code",
   "execution_count": 7,
   "outputs": [],
   "source": [
    "from keras.preprocessing.text import Tokenizer\n",
    "from sklearn.model_selection import train_test_split\n",
    "from keras_preprocessing.sequence import pad_sequences\n",
    "from keras.utils.np_utils import to_categorical\n",
    "import numpy as np\n",
    "\n",
    "X_train, X_val, y_train, y_val = train_test_split(data[\"text\"], data[\"label\"], test_size=0.2, random_state=42,\n",
    "                                                  shuffle=True)\n",
    "\n",
    "tokenizer = Tokenizer(num_words=num_words)\n",
    "tokenizer.fit_on_texts(X_train)\n",
    "\n",
    "X_train = tokenizer.texts_to_sequences(X_train)\n",
    "X_val = tokenizer.texts_to_sequences(X_val)"
   ],
   "metadata": {
    "collapsed": false,
    "pycharm": {
     "name": "#%%\n"
    }
   }
  },
  {
   "cell_type": "code",
   "execution_count": 8,
   "outputs": [],
   "source": [
    "from collections import Counter\n",
    "\n",
    "word_counter = Counter()\n",
    "for review in X_train:\n",
    "    for word in review:\n",
    "        word_counter[tokenizer.index_word[word]] += 1"
   ],
   "metadata": {
    "collapsed": false,
    "pycharm": {
     "name": "#%%\n"
    }
   }
  },
  {
   "cell_type": "code",
   "execution_count": 9,
   "outputs": [
    {
     "data": {
      "text/plain": "[('litt', 149),\n ('får', 113),\n ('gjør', 113),\n ('the', 105),\n ('to', 102),\n ('filmen', 101),\n ('–', 101),\n ('helt', 94),\n ('første', 93),\n ('år', 90)]"
     },
     "execution_count": 9,
     "metadata": {},
     "output_type": "execute_result"
    }
   ],
   "source": [
    "word_counter.most_common(10)"
   ],
   "metadata": {
    "collapsed": false,
    "pycharm": {
     "name": "#%%\n"
    }
   }
  },
  {
   "cell_type": "code",
   "execution_count": 10,
   "outputs": [
    {
     "name": "stdout",
     "output_type": "stream",
     "text": [
      "X_train shape: (3991, 150)\n",
      "X_val shape: (998, 150)\n",
      "y_train shape: (3991, 3)\n",
      "y_val shape: (998, 3)\n"
     ]
    }
   ],
   "source": [
    "y_train = np.array(y_train)\n",
    "y_val = np.array(y_val)\n",
    "\n",
    "maxlen = 150\n",
    "X_train = pad_sequences(X_train, maxlen=maxlen)\n",
    "X_val = pad_sequences(X_val, maxlen=maxlen)\n",
    "\n",
    "y_train = to_categorical(y_train, 3)\n",
    "y_val = to_categorical(y_val, 3)\n",
    "\n",
    "print(\"X_train shape:\", X_train.shape)\n",
    "print(\"X_val shape:\", X_val.shape)\n",
    "print(\"y_train shape:\", y_train.shape)\n",
    "print(\"y_val shape:\", y_val.shape)"
   ],
   "metadata": {
    "collapsed": false,
    "pycharm": {
     "name": "#%%\n"
    }
   }
  },
  {
   "cell_type": "code",
   "execution_count": 11,
   "outputs": [],
   "source": [
    "from keras.models import Sequential\n",
    "from keras.layers import Dense, LSTM, Embedding, Bidirectional\n",
    "\n",
    "model = Sequential()\n",
    "model.add(Embedding(input_dim=num_words, output_dim=128))\n",
    "model.add(LSTM(units=128, dropout=0.5))\n",
    "model.add(Dense(3, activation='softmax'))"
   ],
   "metadata": {
    "collapsed": false,
    "pycharm": {
     "name": "#%%\n"
    }
   }
  },
  {
   "cell_type": "code",
   "execution_count": 12,
   "outputs": [
    {
     "name": "stdout",
     "output_type": "stream",
     "text": [
      "Model: \"sequential\"\n",
      "_________________________________________________________________\n",
      " Layer (type)                Output Shape              Param #   \n",
      "=================================================================\n",
      " embedding (Embedding)       (None, None, 128)         2048000   \n",
      "                                                                 \n",
      " lstm (LSTM)                 (None, 128)               131584    \n",
      "                                                                 \n",
      " dense (Dense)               (None, 3)                 387       \n",
      "                                                                 \n",
      "=================================================================\n",
      "Total params: 2,179,971\n",
      "Trainable params: 2,179,971\n",
      "Non-trainable params: 0\n",
      "_________________________________________________________________\n"
     ]
    }
   ],
   "source": [
    "model.compile(loss=\"categorical_crossentropy\", optimizer=\"adam\", metrics=[\"accuracy\"])\n",
    "model.summary()"
   ],
   "metadata": {
    "collapsed": false,
    "pycharm": {
     "name": "#%%\n"
    }
   }
  },
  {
   "cell_type": "code",
   "execution_count": 13,
   "outputs": [
    {
     "name": "stdout",
     "output_type": "stream",
     "text": [
      "Epoch 1/20\n",
      "250/250 [==============================] - 57s 216ms/step - loss: 1.0686 - accuracy: 0.4157 - val_loss: 1.0459 - val_accuracy: 0.4669\n",
      "Epoch 2/20\n",
      "250/250 [==============================] - 52s 208ms/step - loss: 0.7549 - accuracy: 0.7021 - val_loss: 1.0718 - val_accuracy: 0.5180\n",
      "Epoch 3/20\n",
      "250/250 [==============================] - 53s 212ms/step - loss: 0.2794 - accuracy: 0.8980 - val_loss: 1.3104 - val_accuracy: 0.5200\n",
      "Epoch 4/20\n",
      "250/250 [==============================] - 42s 168ms/step - loss: 0.1121 - accuracy: 0.9614 - val_loss: 1.7212 - val_accuracy: 0.5160\n",
      "Epoch 5/20\n",
      "250/250 [==============================] - 36s 146ms/step - loss: 0.0630 - accuracy: 0.9800 - val_loss: 1.8118 - val_accuracy: 0.5120\n",
      "Epoch 6/20\n",
      "250/250 [==============================] - 39s 156ms/step - loss: 0.0343 - accuracy: 0.9907 - val_loss: 2.1706 - val_accuracy: 0.5110\n"
     ]
    }
   ],
   "source": [
    "from keras.callbacks import EarlyStopping\n",
    "\n",
    "early_stop = EarlyStopping(monitor=\"val_accuracy\", mode=\"max\", patience=3)\n",
    "\n",
    "epochs = 20\n",
    "batch_size = 16\n",
    "history = model.fit(X_train, y_train, epochs=epochs, batch_size=batch_size, validation_data=(X_val, y_val), verbose=1,\n",
    "                    callbacks=[early_stop])"
   ],
   "metadata": {
    "collapsed": false,
    "pycharm": {
     "name": "#%%\n"
    }
   }
  },
  {
   "cell_type": "code",
   "execution_count": 14,
   "outputs": [],
   "source": [
    "from datetime import datetime\n",
    "\n",
    "model.save(f\"models/SA-LSTM-MULTICLASS-BALANCED-{datetime.now().strftime('%Y%m%d%H%M%S')}.h5\")"
   ],
   "metadata": {
    "collapsed": false,
    "pycharm": {
     "name": "#%%\n"
    }
   }
  },
  {
   "cell_type": "code",
   "execution_count": 15,
   "outputs": [
    {
     "data": {
      "text/plain": "<Figure size 864x432 with 2 Axes>",
      "image/png": "[encoded data removed]"
     },
     "metadata": {},
     "output_type": "display_data"
    }
   ],
   "source": [
    "from backend.src.utils.utils import plot_history\n",
    "\n",
    "plot_history(history)"
   ],
   "metadata": {
    "collapsed": false,
    "pycharm": {
     "name": "#%%\n"
    }
   }
  },
  {
   "cell_type": "code",
   "execution_count": 16,
   "outputs": [
    {
     "name": "stdout",
     "output_type": "stream",
     "text": [
      "32/32 [==============================] - 2s 53ms/step - loss: 2.1706 - accuracy: 0.5110\n",
      "Validation loss: 2.170604944229126\n",
      "Validation accuracy: 0.5110220313072205\n"
     ]
    }
   ],
   "source": [
    "# Evaluation\n",
    "val_loss, val_acc = model.evaluate(X_val, y_val)\n",
    "print(\"Validation loss:\", val_loss)\n",
    "print(\"Validation accuracy:\", val_acc)"
   ],
   "metadata": {
    "collapsed": false,
    "pycharm": {
     "name": "#%%\n"
    }
   }
  }
 ],
 "metadata": {
  "kernelspec": {
   "display_name": "Python 3",
   "language": "python",
   "name": "python3"
  },
  "language_info": {
   "codemirror_mode": {
    "name": "ipython",
    "version": 2
   },
   "file_extension": ".py",
   "mimetype": "text/x-python",
   "name": "python",
   "nbconvert_exporter": "python",
   "pygments_lexer": "ipython2",
   "version": "2.7.6"
  }
 },
 "nbformat": 4,
 "nbformat_minor": 0
}