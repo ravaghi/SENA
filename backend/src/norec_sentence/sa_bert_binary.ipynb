{
 "cells": [
  {
   "cell_type": "code",
   "execution_count": 1,
   "metadata": {
    "collapsed": true
   },
   "outputs": [],
   "source": [
    "from dataloader import load_balanced_binary_dataset\n",
    "import backend.src.utils.utils as utils\n",
    "\n",
    "data = load_balanced_binary_dataset()\n",
    "data = utils.clean_text(data, \"text\")\n",
    "# Shuffle data\n",
    "data = data.sample(frac=1).reset_index(drop=True)"
   ]
  },
  {
   "cell_type": "code",
   "execution_count": 2,
   "outputs": [
    {
     "data": {
      "text/plain": "           sent_id                                               text  label\n0     107077-12-01  flere steder finner tydelige beviser originalt...      0\n1     400565-16-02  trond ingebretsen historieforteller hjertet fo...      1\n2     704907-04-02                jo alltid flere låtene kjente kjære      1\n3     305175-35-01                                   matglede pengene      1\n4     700428-06-01   digitale kinoen kommer forsvinner kanskje filmer      0\n...            ...                                                ...    ...\n3321  107747-06-02  kanskje sunde singelen dempe eventuelle forven...      0\n3322  701363-10-06  ei halve usa går arbeidsledige klager filmen f...      0\n3323  300972-04-02  innvending konfrontasjonene løses gripe enda s...      0\n3324  703046-02-01                                               moro      0\n3325  400258-11-02  kanskje fungert enda bedre tre adskilte histor...      0\n\n[3326 rows x 3 columns]",
      "text/html": "<div>\n<style scoped>\n    .dataframe tbody tr th:only-of-type {\n        vertical-align: middle;\n    }\n\n    .dataframe tbody tr th {\n        vertical-align: top;\n    }\n\n    .dataframe thead th {\n        text-align: right;\n    }\n</style>\n<table border=\"1\" class=\"dataframe\">\n  <thead>\n    <tr style=\"text-align: right;\">\n      <th></th>\n      <th>sent_id</th>\n      <th>text</th>\n      <th>label</th>\n    </tr>\n  </thead>\n  <tbody>\n    <tr>\n      <th>0</th>\n      <td>107077-12-01</td>\n      <td>flere steder finner tydelige beviser originalt...</td>\n      <td>0</td>\n    </tr>\n    <tr>\n      <th>1</th>\n      <td>400565-16-02</td>\n      <td>trond ingebretsen historieforteller hjertet fo...</td>\n      <td>1</td>\n    </tr>\n    <tr>\n      <th>2</th>\n      <td>704907-04-02</td>\n      <td>jo alltid flere låtene kjente kjære</td>\n      <td>1</td>\n    </tr>\n    <tr>\n      <th>3</th>\n      <td>305175-35-01</td>\n      <td>matglede pengene</td>\n      <td>1</td>\n    </tr>\n    <tr>\n      <th>4</th>\n      <td>700428-06-01</td>\n      <td>digitale kinoen kommer forsvinner kanskje filmer</td>\n      <td>0</td>\n    </tr>\n    <tr>\n      <th>...</th>\n      <td>...</td>\n      <td>...</td>\n      <td>...</td>\n    </tr>\n    <tr>\n      <th>3321</th>\n      <td>107747-06-02</td>\n      <td>kanskje sunde singelen dempe eventuelle forven...</td>\n      <td>0</td>\n    </tr>\n    <tr>\n      <th>3322</th>\n      <td>701363-10-06</td>\n      <td>ei halve usa går arbeidsledige klager filmen f...</td>\n      <td>0</td>\n    </tr>\n    <tr>\n      <th>3323</th>\n      <td>300972-04-02</td>\n      <td>innvending konfrontasjonene løses gripe enda s...</td>\n      <td>0</td>\n    </tr>\n    <tr>\n      <th>3324</th>\n      <td>703046-02-01</td>\n      <td>moro</td>\n      <td>0</td>\n    </tr>\n    <tr>\n      <th>3325</th>\n      <td>400258-11-02</td>\n      <td>kanskje fungert enda bedre tre adskilte histor...</td>\n      <td>0</td>\n    </tr>\n  </tbody>\n</table>\n<p>3326 rows × 3 columns</p>\n</div>"
     },
     "execution_count": 2,
     "metadata": {},
     "output_type": "execute_result"
    }
   ],
   "source": [
    "data"
   ],
   "metadata": {
    "collapsed": false,
    "pycharm": {
     "name": "#%%\n"
    }
   }
  },
  {
   "cell_type": "code",
   "execution_count": 3,
   "outputs": [
    {
     "data": {
      "text/plain": "<AxesSubplot:>"
     },
     "execution_count": 3,
     "metadata": {},
     "output_type": "execute_result"
    },
    {
     "data": {
      "text/plain": "<Figure size 432x288 with 1 Axes>",
      "image/png": "[encoded data removed]"
     },
     "metadata": {
      "needs_background": "light"
     },
     "output_type": "display_data"
    }
   ],
   "source": [
    "data[\"label\"].replace({0: \"Negative\", 1: \"Positive\"}).value_counts().sort_index().plot.bar()"
   ],
   "metadata": {
    "collapsed": false,
    "pycharm": {
     "name": "#%%\n"
    }
   }
  },
  {
   "cell_type": "code",
   "execution_count": 4,
   "outputs": [
    {
     "data": {
      "text/plain": "<AxesSubplot:ylabel='Frequency'>"
     },
     "execution_count": 4,
     "metadata": {},
     "output_type": "execute_result"
    },
    {
     "data": {
      "text/plain": "<Figure size 432x288 with 1 Axes>",
      "image/png": "[encoded data removed]"
     },
     "metadata": {
      "needs_background": "light"
     },
     "output_type": "display_data"
    }
   ],
   "source": [
    "data[\"text\"].str.len().plot.hist()"
   ],
   "metadata": {
    "collapsed": false,
    "pycharm": {
     "name": "#%%\n"
    }
   }
  },
  {
   "cell_type": "code",
   "execution_count": 5,
   "outputs": [
    {
     "name": "stdout",
     "output_type": "stream",
     "text": [
      "Training set size: (2660, 3)\n",
      "Validation set size: (2660, 3)\n"
     ]
    }
   ],
   "source": [
    "from sklearn.model_selection import train_test_split\n",
    "\n",
    "train, val = train_test_split(data, test_size=0.2, random_state=42)\n",
    "\n",
    "print(\"Training set size: {}\".format(train.shape))\n",
    "print(\"Validation set size: {}\".format(train.shape))"
   ],
   "metadata": {
    "collapsed": false,
    "pycharm": {
     "name": "#%%\n"
    }
   }
  },
  {
   "cell_type": "code",
   "execution_count": 6,
   "outputs": [],
   "source": [
    "from transformers import InputExample\n",
    "\n",
    "\n",
    "def convert_data_into_input_example(data):\n",
    "    input_examples = []\n",
    "    for i in range(len(data)):\n",
    "        example = InputExample(\n",
    "            guid=data.iloc[i]['sent_id'],\n",
    "            text_a=data.iloc[i]['text'],\n",
    "            label=data.iloc[i]['label']\n",
    "        )\n",
    "        input_examples.append(example)\n",
    "    return input_examples\n",
    "\n",
    "\n",
    "train = convert_data_into_input_example(train)\n",
    "val = convert_data_into_input_example(val)"
   ],
   "metadata": {
    "collapsed": false,
    "pycharm": {
     "name": "#%%\n"
    }
   }
  },
  {
   "cell_type": "code",
   "execution_count": 7,
   "outputs": [
    {
     "name": "stderr",
     "output_type": "stream",
     "text": [
      "C:\\Users\\Mahdi\\GitProjects\\SENA\\venv\\lib\\site-packages\\transformers\\data\\processors\\glue.py:66: FutureWarning: This function will be removed from the library soon, preprocessing should be handled with the 🤗 Datasets library. You can have a look at this example script for pointers: https://github.com/huggingface/transformers/blob/main/examples/pytorch/text-classification/run_glue.py\n",
      "  warnings.warn(DEPRECATION_WARNING.format(\"function\"), FutureWarning)\n",
      "C:\\Users\\Mahdi\\GitProjects\\SENA\\venv\\lib\\site-packages\\transformers\\data\\processors\\glue.py:174: FutureWarning: This processor will be removed from the library soon, preprocessing should be handled with the 🤗 Datasets library. You can have a look at this example script for pointers: https://github.com/huggingface/transformers/blob/main/examples/pytorch/text-classification/run_glue.py\n",
      "  warnings.warn(DEPRECATION_WARNING.format(\"processor\"), FutureWarning)\n"
     ]
    }
   ],
   "source": [
    "from transformers import BertTokenizer, glue_convert_examples_to_features\n",
    "\n",
    "MAX_SEQ_LENGTH = 128\n",
    "\n",
    "tokenizer = BertTokenizer.from_pretrained('bert-base-multilingual-cased')\n",
    "\n",
    "label_list = [0, 1]\n",
    "\n",
    "train = glue_convert_examples_to_features(examples=train, tokenizer=tokenizer, max_length=MAX_SEQ_LENGTH, task='mrpc',\n",
    "                                          label_list=label_list)\n",
    "val = glue_convert_examples_to_features(examples=val, tokenizer=tokenizer, max_length=MAX_SEQ_LENGTH, task='mrpc',\n",
    "                                        label_list=label_list)"
   ],
   "metadata": {
    "collapsed": false,
    "pycharm": {
     "name": "#%%\n"
    }
   }
  },
  {
   "cell_type": "code",
   "execution_count": 8,
   "outputs": [
    {
     "name": "stdout",
     "output_type": "stream",
     "text": [
      "oversetter ragnhild aasland sekne ros\n"
     ]
    }
   ],
   "source": [
    "ex = train[0]\n",
    "in_ids = ex.input_ids\n",
    "decoded_sentence = tokenizer.decode(in_ids, skip_special_tokens=True)\n",
    "print(decoded_sentence)"
   ],
   "metadata": {
    "collapsed": false,
    "pycharm": {
     "name": "#%%\n"
    }
   }
  },
  {
   "cell_type": "code",
   "execution_count": 9,
   "outputs": [
    {
     "name": "stderr",
     "output_type": "stream",
     "text": [
      "All model checkpoint layers were used when initializing TFBertForSequenceClassification.\n",
      "\n",
      "Some layers of TFBertForSequenceClassification were not initialized from the model checkpoint at bert-base-multilingual-cased and are newly initialized: ['classifier']\n",
      "You should probably TRAIN this model on a down-stream task to be able to use it for predictions and inference.\n"
     ]
    }
   ],
   "source": [
    "from transformers import TFBertForSequenceClassification\n",
    "import tensorflow as tf\n",
    "\n",
    "model = TFBertForSequenceClassification.from_pretrained('bert-base-multilingual-cased')\n",
    "\n",
    "optimizer = tf.keras.optimizers.Adam(learning_rate=2e-5, epsilon=1e-08, clipnorm=1.0)\n",
    "loss = tf.keras.losses.SparseCategoricalCrossentropy(from_logits=True)\n",
    "metric = tf.keras.metrics.SparseCategoricalAccuracy('accuracy')"
   ],
   "metadata": {
    "collapsed": false,
    "pycharm": {
     "name": "#%%\n"
    }
   }
  },
  {
   "cell_type": "code",
   "execution_count": 10,
   "outputs": [
    {
     "name": "stdout",
     "output_type": "stream",
     "text": [
      "Model: \"tf_bert_for_sequence_classification\"\n",
      "_________________________________________________________________\n",
      " Layer (type)                Output Shape              Param #   \n",
      "=================================================================\n",
      " bert (TFBertMainLayer)      multiple                  177853440 \n",
      "                                                                 \n",
      " dropout_37 (Dropout)        multiple                  0         \n",
      "                                                                 \n",
      " classifier (Dense)          multiple                  1538      \n",
      "                                                                 \n",
      "=================================================================\n",
      "Total params: 177,854,978\n",
      "Trainable params: 177,854,978\n",
      "Non-trainable params: 0\n",
      "_________________________________________________________________\n"
     ]
    }
   ],
   "source": [
    "model.compile(optimizer=optimizer, loss=loss, metrics=[metric])\n",
    "model.summary()"
   ],
   "metadata": {
    "collapsed": false,
    "pycharm": {
     "name": "#%%\n"
    }
   }
  },
  {
   "cell_type": "code",
   "execution_count": 11,
   "outputs": [],
   "source": [
    "import numpy as np\n",
    "\n",
    "\n",
    "def my_solution(bdset):\n",
    "    \"\"\" Create a list of input tensors required to be in the first argument of the\n",
    "        model call function for training. e.g. `model([input_ids, attention_mask, token_type_ids])`.\n",
    "    \"\"\"\n",
    "    input_ids, attention_mask, token_type_ids, label = [], [], [], []\n",
    "    for in_ex in bdset:\n",
    "        input_ids.append(in_ex.input_ids)\n",
    "        attention_mask.append(in_ex.attention_mask)\n",
    "        token_type_ids.append(in_ex.token_type_ids)\n",
    "        label.append(in_ex.label)\n",
    "\n",
    "    input_ids = np.vstack(input_ids)\n",
    "    attention_mask = np.vstack(attention_mask)\n",
    "    token_type_ids = np.vstack(token_type_ids)\n",
    "    label = np.vstack(label)\n",
    "    return ([input_ids, attention_mask, token_type_ids], label)\n",
    "\n",
    "\n",
    "def example_to_features(input_ids, attention_masks, token_type_ids, y):\n",
    "    \"\"\" Convert a training example into the Bert compatible format.\"\"\"\n",
    "    return {\"input_ids\": input_ids,\n",
    "            \"attention_mask\": attention_masks,\n",
    "            \"token_type_ids\": token_type_ids}, y"
   ],
   "metadata": {
    "collapsed": false,
    "pycharm": {
     "name": "#%%\n"
    }
   }
  },
  {
   "cell_type": "code",
   "execution_count": 12,
   "outputs": [],
   "source": [
    "X_train, y_train = my_solution(train)\n",
    "X_val, y_val = my_solution(val)\n",
    "\n",
    "train = tf.data.Dataset.from_tensor_slices((X_train[0], X_train[1], X_train[2], y_train)).map(\n",
    "    example_to_features).shuffle(100).batch(32)\n",
    "val = tf.data.Dataset.from_tensor_slices((X_val[0], X_val[1], X_val[2], y_val)).map(example_to_features).batch(64)"
   ],
   "metadata": {
    "collapsed": false,
    "pycharm": {
     "name": "#%%\n"
    }
   }
  },
  {
   "cell_type": "code",
   "execution_count": null,
   "outputs": [
    {
     "name": "stdout",
     "output_type": "stream",
     "text": [
      "Epoch 1/3\n",
      "167/167 [==============================] - 2188s 13s/step - loss: 0.6863 - accuracy: 0.5515 - val_loss: 0.6671 - val_accuracy: 0.6111\n",
      "Epoch 2/3\n"
     ]
    }
   ],
   "source": [
    "from keras.callbacks import EarlyStopping\n",
    "\n",
    "early_stop = EarlyStopping(monitor=\"val_accuracy\", mode=\"max\", patience=3)\n",
    "\n",
    "epochs = 20\n",
    "\n",
    "history = model.fit(train, validation_data=val, epochs=epochs, verbose=1, callbacks=[early_stop])"
   ],
   "metadata": {
    "collapsed": false,
    "pycharm": {
     "name": "#%%\n",
     "is_executing": true
    }
   }
  },
  {
   "cell_type": "code",
   "execution_count": null,
   "outputs": [],
   "source": [
    "from datetime import datetime\n",
    "\n",
    "model.save(f\"models/SA-BERT-BINARY-BALANCED-{datetime.now().strftime('%Y%m%d%H%M%S')}.h5\")"
   ],
   "metadata": {
    "collapsed": false,
    "pycharm": {
     "name": "#%%\n",
     "is_executing": true
    }
   }
  },
  {
   "cell_type": "code",
   "execution_count": null,
   "outputs": [],
   "source": [
    "from backend.src.utils.utils import plot_history\n",
    "\n",
    "plot_history(history)"
   ],
   "metadata": {
    "collapsed": false,
    "pycharm": {
     "name": "#%%\n",
     "is_executing": true
    }
   }
  }
 ],
 "metadata": {
  "kernelspec": {
   "display_name": "Python 3",
   "language": "python",
   "name": "python3"
  },
  "language_info": {
   "codemirror_mode": {
    "name": "ipython",
    "version": 2
   },
   "file_extension": ".py",
   "mimetype": "text/x-python",
   "name": "python",
   "nbconvert_exporter": "python",
   "pygments_lexer": "ipython2",
   "version": "2.7.6"
  }
 },
 "nbformat": 4,
 "nbformat_minor": 0
}