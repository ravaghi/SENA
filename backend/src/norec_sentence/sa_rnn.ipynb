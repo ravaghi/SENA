{
 "cells": [
  {
   "cell_type": "code",
   "execution_count": 30,
   "outputs": [],
   "source": [
    "import json\n",
    "\n",
    "data = {}\n",
    "for name in [\"train\", \"test\", \"dev\"]:\n",
    "    with open(f\"3class/{name}.json\", encoding=\"utf-8\") as file:\n",
    "        data[name] = json.load(file)"
   ],
   "metadata": {
    "collapsed": false,
    "pycharm": {
     "name": "#%%\n"
    }
   }
  },
  {
   "cell_type": "code",
   "execution_count": 31,
   "outputs": [],
   "source": [
    "import pandas as pd\n",
    "\n",
    "train = pd.DataFrame(data[\"train\"])\n",
    "test = pd.DataFrame(data[\"test\"])\n",
    "dev = pd.DataFrame(data[\"dev\"])"
   ],
   "metadata": {
    "collapsed": false,
    "pycharm": {
     "name": "#%%\n"
    }
   }
  },
  {
   "cell_type": "code",
   "execution_count": 32,
   "outputs": [
    {
     "data": {
      "text/plain": "        sent_id                                               text     label\n0  201911-01-01                                      Philips 190G6   Neutral\n1  201911-02-01  Med integrerte høyttalere som på ingen måte er...   Neutral\n2  201911-02-02                             Eller bedrar skinnet ?  Negative\n3  201911-03-01  De fleste skjermer har et diskret design , med...   Neutral\n4  201911-03-02  Men 190G6 fra Philips er en helt annen historie .   Neutral",
      "text/html": "<div>\n<style scoped>\n    .dataframe tbody tr th:only-of-type {\n        vertical-align: middle;\n    }\n\n    .dataframe tbody tr th {\n        vertical-align: top;\n    }\n\n    .dataframe thead th {\n        text-align: right;\n    }\n</style>\n<table border=\"1\" class=\"dataframe\">\n  <thead>\n    <tr style=\"text-align: right;\">\n      <th></th>\n      <th>sent_id</th>\n      <th>text</th>\n      <th>label</th>\n    </tr>\n  </thead>\n  <tbody>\n    <tr>\n      <th>0</th>\n      <td>201911-01-01</td>\n      <td>Philips 190G6</td>\n      <td>Neutral</td>\n    </tr>\n    <tr>\n      <th>1</th>\n      <td>201911-02-01</td>\n      <td>Med integrerte høyttalere som på ingen måte er...</td>\n      <td>Neutral</td>\n    </tr>\n    <tr>\n      <th>2</th>\n      <td>201911-02-02</td>\n      <td>Eller bedrar skinnet ?</td>\n      <td>Negative</td>\n    </tr>\n    <tr>\n      <th>3</th>\n      <td>201911-03-01</td>\n      <td>De fleste skjermer har et diskret design , med...</td>\n      <td>Neutral</td>\n    </tr>\n    <tr>\n      <th>4</th>\n      <td>201911-03-02</td>\n      <td>Men 190G6 fra Philips er en helt annen historie .</td>\n      <td>Neutral</td>\n    </tr>\n  </tbody>\n</table>\n</div>"
     },
     "execution_count": 32,
     "metadata": {},
     "output_type": "execute_result"
    }
   ],
   "source": [
    "train.head()"
   ],
   "metadata": {
    "collapsed": false,
    "pycharm": {
     "name": "#%%\n"
    }
   }
  },
  {
   "cell_type": "code",
   "execution_count": 33,
   "outputs": [
    {
     "data": {
      "text/plain": "<AxesSubplot:>"
     },
     "execution_count": 33,
     "metadata": {},
     "output_type": "execute_result"
    },
    {
     "data": {
      "text/plain": "<Figure size 432x288 with 1 Axes>",
      "image/png": "[encoded data removed]"
     },
     "metadata": {
      "needs_background": "light"
     },
     "output_type": "display_data"
    }
   ],
   "source": [
    "train[\"label\"].value_counts().sort_index().plot.bar()"
   ],
   "metadata": {
    "collapsed": false,
    "pycharm": {
     "name": "#%%\n"
    }
   }
  },
  {
   "cell_type": "code",
   "execution_count": 34,
   "outputs": [
    {
     "data": {
      "text/plain": "<AxesSubplot:ylabel='Frequency'>"
     },
     "execution_count": 34,
     "metadata": {},
     "output_type": "execute_result"
    },
    {
     "data": {
      "text/plain": "<Figure size 432x288 with 1 Axes>",
      "image/png": "[encoded data removed]"
     },
     "metadata": {
      "needs_background": "light"
     },
     "output_type": "display_data"
    }
   ],
   "source": [
    "train[\"text\"].str.len().plot.hist()"
   ],
   "metadata": {
    "collapsed": false,
    "pycharm": {
     "name": "#%%\n"
    }
   }
  },
  {
   "cell_type": "code",
   "execution_count": 35,
   "outputs": [],
   "source": [
    "for data in [train, test, dev]:\n",
    "    data[\"text\"] = data[\"text\"].str.lower()\n",
    "    data[\"text\"] = data[\"text\"].str.strip()"
   ],
   "metadata": {
    "collapsed": false,
    "pycharm": {
     "name": "#%%\n"
    }
   }
  },
  {
   "cell_type": "code",
   "execution_count": 36,
   "outputs": [
    {
     "data": {
      "text/plain": "0                                        philips 190g6\n1    med integrerte høyttalere som på ingen måte er...\n2                               eller bedrar skinnet ?\n3    de fleste skjermer har et diskret design , med...\n4    men 190g6 fra philips er en helt annen historie .\nName: text, dtype: object"
     },
     "execution_count": 36,
     "metadata": {},
     "output_type": "execute_result"
    }
   ],
   "source": [
    "train[\"text\"].head()"
   ],
   "metadata": {
    "collapsed": false,
    "pycharm": {
     "name": "#%%\n"
    }
   }
  },
  {
   "cell_type": "code",
   "execution_count": 37,
   "outputs": [],
   "source": [
    "from keras.preprocessing.text import Tokenizer\n",
    "from keras.preprocessing.sequence import pad_sequences\n",
    "\n",
    "tokenizer = Tokenizer(num_words=5000)\n",
    "tokenizer.fit_on_texts(train[\"text\"].values)\n",
    "\n",
    "X = tokenizer.texts_to_sequences(train[\"text\"].values)\n",
    "X = pad_sequences(X)"
   ],
   "metadata": {
    "collapsed": false,
    "pycharm": {
     "name": "#%%\n"
    }
   }
  },
  {
   "cell_type": "code",
   "execution_count": 39,
   "outputs": [],
   "source": [
    "from keras.models import Sequential\n",
    "from keras.layers import Dense, LSTM, Embedding, Dropout\n",
    "\n",
    "model = Sequential()\n",
    "model.add(Embedding(5000, 256, input_length=X.shape[1]))\n",
    "model.add(Dropout(0.3))\n",
    "model.add(LSTM(256, return_sequences=True, dropout=0.3, recurrent_dropout=0.2))\n",
    "model.add(LSTM(256, dropout=0.3, recurrent_dropout=0.2))\n",
    "model.add(Dense(3, activation=\"softmax\"))"
   ],
   "metadata": {
    "collapsed": false,
    "pycharm": {
     "name": "#%%\n"
    }
   }
  },
  {
   "cell_type": "code",
   "execution_count": 40,
   "outputs": [
    {
     "name": "stdout",
     "output_type": "stream",
     "text": [
      "Model: \"sequential_1\"\n",
      "_________________________________________________________________\n",
      " Layer (type)                Output Shape              Param #   \n",
      "=================================================================\n",
      " embedding_1 (Embedding)     (None, 78, 256)           1280000   \n",
      "                                                                 \n",
      " dropout_1 (Dropout)         (None, 78, 256)           0         \n",
      "                                                                 \n",
      " lstm_2 (LSTM)               (None, 78, 256)           525312    \n",
      "                                                                 \n",
      " lstm_3 (LSTM)               (None, 256)               525312    \n",
      "                                                                 \n",
      " dense_1 (Dense)             (None, 3)                 771       \n",
      "                                                                 \n",
      "=================================================================\n",
      "Total params: 2,331,395\n",
      "Trainable params: 2,331,395\n",
      "Non-trainable params: 0\n",
      "_________________________________________________________________\n"
     ]
    }
   ],
   "source": [
    "model.compile(loss=\"categorical_crossentropy\", optimizer=\"adam\", metrics=[\"accuracy\"])\n",
    "model.summary()"
   ],
   "metadata": {
    "collapsed": false,
    "pycharm": {
     "name": "#%%\n"
    }
   }
  },
  {
   "cell_type": "code",
   "execution_count": 41,
   "outputs": [],
   "source": [
    "y = pd.get_dummies(train[\"label\"]).values"
   ],
   "metadata": {
    "collapsed": false,
    "pycharm": {
     "name": "#%%\n"
    }
   }
  },
  {
   "cell_type": "code",
   "execution_count": 42,
   "outputs": [],
   "source": [
    "from sklearn.model_selection import train_test_split\n",
    "\n",
    "X_train, X_test, y_train, y_test = train_test_split(X, y, test_size=0.2, random_state=42)"
   ],
   "metadata": {
    "collapsed": false,
    "pycharm": {
     "name": "#%%\n"
    }
   }
  },
  {
   "cell_type": "code",
   "execution_count": 43,
   "outputs": [
    {
     "name": "stdout",
     "output_type": "stream",
     "text": [
      "Epoch 1/10\n",
      "160/160 [==============================] - 355s 2s/step - loss: 0.9502 - accuracy: 0.5478 - val_loss: 0.9268 - val_accuracy: 0.5697\n",
      "Epoch 2/10\n",
      "160/160 [==============================] - 562s 4s/step - loss: 0.7479 - accuracy: 0.6807 - val_loss: 0.8916 - val_accuracy: 0.6199\n",
      "Epoch 3/10\n",
      "160/160 [==============================] - 477s 3s/step - loss: 0.5261 - accuracy: 0.7889 - val_loss: 0.9514 - val_accuracy: 0.6317\n",
      "Epoch 4/10\n",
      "160/160 [==============================] - 403s 3s/step - loss: 0.3777 - accuracy: 0.8624 - val_loss: 1.0642 - val_accuracy: 0.6191\n",
      "Epoch 5/10\n",
      "160/160 [==============================] - 372s 2s/step - loss: 0.2809 - accuracy: 0.8961 - val_loss: 1.2040 - val_accuracy: 0.6168\n",
      "Epoch 6/10\n",
      "160/160 [==============================] - 315s 2s/step - loss: 0.2164 - accuracy: 0.9240 - val_loss: 1.4663 - val_accuracy: 0.6074\n",
      "Epoch 7/10\n",
      "160/160 [==============================] - 318s 2s/step - loss: 0.1709 - accuracy: 0.9392 - val_loss: 1.4667 - val_accuracy: 0.6121\n",
      "Epoch 8/10\n",
      "160/160 [==============================] - 321s 2s/step - loss: 0.1290 - accuracy: 0.9549 - val_loss: 1.8895 - val_accuracy: 0.5995\n",
      "Epoch 9/10\n",
      "160/160 [==============================] - 332s 2s/step - loss: 0.1169 - accuracy: 0.9577 - val_loss: 1.8995 - val_accuracy: 0.5792\n",
      "Epoch 10/10\n",
      "160/160 [==============================] - 514s 3s/step - loss: 0.1014 - accuracy: 0.9635 - val_loss: 2.1429 - val_accuracy: 0.5870\n"
     ]
    }
   ],
   "source": [
    "epochs = 10\n",
    "batch_size = 32\n",
    "history = model.fit(X_train, y_train, epochs=epochs, batch_size=batch_size, validation_split=0.2, verbose=1)"
   ],
   "metadata": {
    "collapsed": false,
    "pycharm": {
     "name": "#%%\n"
    }
   }
  },
  {
   "cell_type": "code",
   "execution_count": 48,
   "outputs": [],
   "source": [
    "from datetime import datetime\n",
    "\n",
    "model.save(f\"models/SA-RNN-{datetime.now().strftime('%Y%m%d%H%M%S')}.h5\")"
   ],
   "metadata": {
    "collapsed": false,
    "pycharm": {
     "name": "#%%\n"
    }
   }
  },
  {
   "cell_type": "code",
   "execution_count": 45,
   "outputs": [
    {
     "data": {
      "text/plain": "<Figure size 432x288 with 1 Axes>",
      "image/png": "[encoded data removed]"
     },
     "metadata": {
      "needs_background": "light"
     },
     "output_type": "display_data"
    }
   ],
   "source": [
    "import matplotlib.pyplot as plt\n",
    "\n",
    "# Plot accuracy and loss in the same plot\n",
    "plt.plot(history.history[\"accuracy\"], label=\"accuracy\")\n",
    "plt.plot(history.history[\"val_accuracy\"], label=\"val_accuracy\")\n",
    "plt.plot(history.history[\"loss\"], label=\"loss\")\n",
    "plt.plot(history.history[\"val_loss\"], label=\"val_loss\")\n",
    "plt.xlabel(\"Epoch\")\n",
    "plt.ylabel(\"Accuracy/Loss\")\n",
    "plt.legend()\n",
    "plt.show()"
   ],
   "metadata": {
    "collapsed": false,
    "pycharm": {
     "name": "#%%\n"
    }
   }
  },
  {
   "cell_type": "code",
   "execution_count": 46,
   "outputs": [
    {
     "name": "stdout",
     "output_type": "stream",
     "text": [
      "Positive: 619\n",
      "Negative: 740\n",
      "Neutral: 236\n",
      "True Positive: 543\n",
      "True Negative: 800\n",
      "True Neutral: 252\n"
     ]
    }
   ],
   "source": [
    "import numpy as np\n",
    "\n",
    "predictions = model.predict(X_test)\n",
    "pos_count, neg_count, neu_count = 0, 0, 0\n",
    "true_pos_count, true_neg_count, true_neu_count = 0, 0, 0\n",
    "\n",
    "for i, prediction in enumerate(predictions):\n",
    "    if np.argmax(prediction) == 2:\n",
    "        pos_count += 1\n",
    "    elif np.argmax(prediction) == 1:\n",
    "        neg_count += 1\n",
    "    else:\n",
    "        neu_count += 1\n",
    "\n",
    "    if np.argmax(y_test[i]) == 2:\n",
    "        true_pos_count += 1\n",
    "    elif np.argmax(y_test[i]) == 1:\n",
    "        true_neg_count += 1\n",
    "    else:\n",
    "        true_neu_count += 1\n",
    "\n",
    "print(f\"Positive: {pos_count}\")\n",
    "print(f\"Negative: {neg_count}\")\n",
    "print(f\"Neutral: {neu_count}\")\n",
    "print(f\"True Positive: {true_pos_count}\")\n",
    "print(f\"True Negative: {true_neg_count}\")\n",
    "print(f\"True Neutral: {true_neu_count}\")"
   ],
   "metadata": {
    "collapsed": false,
    "pycharm": {
     "name": "#%%\n"
    }
   }
  }
 ],
 "metadata": {
  "kernelspec": {
   "display_name": "Python 3",
   "language": "python",
   "name": "python3"
  },
  "language_info": {
   "codemirror_mode": {
    "name": "ipython",
    "version": 2
   },
   "file_extension": ".py",
   "mimetype": "text/x-python",
   "name": "python",
   "nbconvert_exporter": "python",
   "pygments_lexer": "ipython2",
   "version": "2.7.6"
  }
 },
 "nbformat": 4,
 "nbformat_minor": 0
}