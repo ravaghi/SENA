{
 "cells": [
  {
   "cell_type": "code",
   "execution_count": 1,
   "outputs": [],
   "source": [
    "import json\n",
    "\n",
    "data = []\n",
    "for name in [\"train\", \"test\", \"dev\"]:\n",
    "    with open(f\"3class/{name}.json\", encoding=\"utf-8\") as file:\n",
    "        data = data + json.load(file)"
   ],
   "metadata": {
    "collapsed": false,
    "pycharm": {
     "name": "#%%\n"
    }
   }
  },
  {
   "cell_type": "code",
   "execution_count": 2,
   "outputs": [],
   "source": [
    "import pandas as pd\n",
    "\n",
    "data = pd.DataFrame(data)"
   ],
   "metadata": {
    "collapsed": false,
    "pycharm": {
     "name": "#%%\n"
    }
   }
  },
  {
   "cell_type": "code",
   "execution_count": 3,
   "outputs": [
    {
     "data": {
      "text/plain": "        sent_id                                               text     label\n0  201911-01-01                                      Philips 190G6   Neutral\n1  201911-02-01  Med integrerte høyttalere som på ingen måte er...   Neutral\n2  201911-02-02                             Eller bedrar skinnet ?  Negative\n3  201911-03-01  De fleste skjermer har et diskret design , med...   Neutral\n4  201911-03-02  Men 190G6 fra Philips er en helt annen historie .   Neutral",
      "text/html": "<div>\n<style scoped>\n    .dataframe tbody tr th:only-of-type {\n        vertical-align: middle;\n    }\n\n    .dataframe tbody tr th {\n        vertical-align: top;\n    }\n\n    .dataframe thead th {\n        text-align: right;\n    }\n</style>\n<table border=\"1\" class=\"dataframe\">\n  <thead>\n    <tr style=\"text-align: right;\">\n      <th></th>\n      <th>sent_id</th>\n      <th>text</th>\n      <th>label</th>\n    </tr>\n  </thead>\n  <tbody>\n    <tr>\n      <th>0</th>\n      <td>201911-01-01</td>\n      <td>Philips 190G6</td>\n      <td>Neutral</td>\n    </tr>\n    <tr>\n      <th>1</th>\n      <td>201911-02-01</td>\n      <td>Med integrerte høyttalere som på ingen måte er...</td>\n      <td>Neutral</td>\n    </tr>\n    <tr>\n      <th>2</th>\n      <td>201911-02-02</td>\n      <td>Eller bedrar skinnet ?</td>\n      <td>Negative</td>\n    </tr>\n    <tr>\n      <th>3</th>\n      <td>201911-03-01</td>\n      <td>De fleste skjermer har et diskret design , med...</td>\n      <td>Neutral</td>\n    </tr>\n    <tr>\n      <th>4</th>\n      <td>201911-03-02</td>\n      <td>Men 190G6 fra Philips er en helt annen historie .</td>\n      <td>Neutral</td>\n    </tr>\n  </tbody>\n</table>\n</div>"
     },
     "execution_count": 3,
     "metadata": {},
     "output_type": "execute_result"
    }
   ],
   "source": [
    "data.head()"
   ],
   "metadata": {
    "collapsed": false,
    "pycharm": {
     "name": "#%%\n"
    }
   }
  },
  {
   "cell_type": "code",
   "execution_count": 4,
   "outputs": [
    {
     "data": {
      "text/plain": "<AxesSubplot:>"
     },
     "execution_count": 4,
     "metadata": {},
     "output_type": "execute_result"
    },
    {
     "data": {
      "text/plain": "<Figure size 432x288 with 1 Axes>",
      "image/png": "[encoded data removed]"
     },
     "metadata": {
      "needs_background": "light"
     },
     "output_type": "display_data"
    }
   ],
   "source": [
    "data[\"label\"].value_counts().sort_index().plot.bar()"
   ],
   "metadata": {
    "collapsed": false,
    "pycharm": {
     "name": "#%%\n"
    }
   }
  },
  {
   "cell_type": "code",
   "execution_count": 5,
   "outputs": [
    {
     "data": {
      "text/plain": "<AxesSubplot:ylabel='Frequency'>"
     },
     "execution_count": 5,
     "metadata": {},
     "output_type": "execute_result"
    },
    {
     "data": {
      "text/plain": "<Figure size 432x288 with 1 Axes>",
      "image/png": "[encoded data removed]"
     },
     "metadata": {
      "needs_background": "light"
     },
     "output_type": "display_data"
    }
   ],
   "source": [
    "data[\"text\"].str.len().plot.hist()"
   ],
   "metadata": {
    "collapsed": false,
    "pycharm": {
     "name": "#%%\n"
    }
   }
  },
  {
   "cell_type": "code",
   "execution_count": 6,
   "outputs": [],
   "source": [
    "data[\"text\"] = data[\"text\"].str.lower()\n",
    "data[\"text\"] = data[\"text\"].str.strip()"
   ],
   "metadata": {
    "collapsed": false,
    "pycharm": {
     "name": "#%%\n"
    }
   }
  },
  {
   "cell_type": "code",
   "execution_count": 7,
   "outputs": [
    {
     "data": {
      "text/plain": "0                                        philips 190g6\n1    med integrerte høyttalere som på ingen måte er...\n2                               eller bedrar skinnet ?\n3    de fleste skjermer har et diskret design , med...\n4    men 190g6 fra philips er en helt annen historie .\nName: text, dtype: object"
     },
     "execution_count": 7,
     "metadata": {},
     "output_type": "execute_result"
    }
   ],
   "source": [
    "data[\"text\"].head()"
   ],
   "metadata": {
    "collapsed": false,
    "pycharm": {
     "name": "#%%\n"
    }
   }
  },
  {
   "cell_type": "code",
   "execution_count": 8,
   "outputs": [],
   "source": [
    "from keras.preprocessing.text import Tokenizer\n",
    "from keras.preprocessing.sequence import pad_sequences\n",
    "\n",
    "tokenizer = Tokenizer(num_words=5000)\n",
    "tokenizer.fit_on_texts(data[\"text\"].values)\n",
    "\n",
    "X = tokenizer.texts_to_sequences(data[\"text\"].values)\n",
    "X = pad_sequences(X)"
   ],
   "metadata": {
    "collapsed": false,
    "pycharm": {
     "name": "#%%\n"
    }
   }
  },
  {
   "cell_type": "code",
   "execution_count": 9,
   "outputs": [],
   "source": [
    "from keras.models import Sequential\n",
    "from keras.layers import Dense, LSTM, Embedding, Dropout\n",
    "\n",
    "model = Sequential()\n",
    "model.add(Embedding(5000, 256, input_length=X.shape[1]))\n",
    "model.add(Dropout(0.3))\n",
    "model.add(LSTM(256, return_sequences=True, dropout=0.3, recurrent_dropout=0.2))\n",
    "model.add(LSTM(256, dropout=0.3, recurrent_dropout=0.2))\n",
    "model.add(Dense(3, activation=\"softmax\"))"
   ],
   "metadata": {
    "collapsed": false,
    "pycharm": {
     "name": "#%%\n"
    }
   }
  },
  {
   "cell_type": "code",
   "execution_count": 10,
   "outputs": [
    {
     "name": "stdout",
     "output_type": "stream",
     "text": [
      "Model: \"sequential\"\n",
      "_________________________________________________________________\n",
      " Layer (type)                Output Shape              Param #   \n",
      "=================================================================\n",
      " embedding (Embedding)       (None, 75, 256)           1280000   \n",
      "                                                                 \n",
      " dropout (Dropout)           (None, 75, 256)           0         \n",
      "                                                                 \n",
      " lstm (LSTM)                 (None, 75, 256)           525312    \n",
      "                                                                 \n",
      " lstm_1 (LSTM)               (None, 256)               525312    \n",
      "                                                                 \n",
      " dense (Dense)               (None, 3)                 771       \n",
      "                                                                 \n",
      "=================================================================\n",
      "Total params: 2,331,395\n",
      "Trainable params: 2,331,395\n",
      "Non-trainable params: 0\n",
      "_________________________________________________________________\n"
     ]
    }
   ],
   "source": [
    "model.compile(loss=\"categorical_crossentropy\", optimizer=\"adam\", metrics=[\"accuracy\"])\n",
    "model.summary()"
   ],
   "metadata": {
    "collapsed": false,
    "pycharm": {
     "name": "#%%\n"
    }
   }
  },
  {
   "cell_type": "code",
   "execution_count": 11,
   "outputs": [],
   "source": [
    "y = pd.get_dummies(data[\"label\"]).values"
   ],
   "metadata": {
    "collapsed": false,
    "pycharm": {
     "name": "#%%\n"
    }
   }
  },
  {
   "cell_type": "code",
   "execution_count": 12,
   "outputs": [],
   "source": [
    "from sklearn.model_selection import train_test_split\n",
    "\n",
    "X_train, X_test, y_train, y_test = train_test_split(X, y, test_size=0.3, random_state=42)"
   ],
   "metadata": {
    "collapsed": false,
    "pycharm": {
     "name": "#%%\n"
    }
   }
  },
  {
   "cell_type": "code",
   "execution_count": 13,
   "outputs": [
    {
     "name": "stdout",
     "output_type": "stream",
     "text": [
      "Epoch 1/10\n",
      "370/370 [==============================] - 297s 790ms/step - loss: 0.9438 - accuracy: 0.5519 - val_loss: 0.9001 - val_accuracy: 0.5963\n",
      "Epoch 2/10\n",
      "370/370 [==============================] - 305s 824ms/step - loss: 0.7377 - accuracy: 0.6891 - val_loss: 0.8801 - val_accuracy: 0.6139\n",
      "Epoch 3/10\n",
      "370/370 [==============================] - 307s 829ms/step - loss: 0.5382 - accuracy: 0.7953 - val_loss: 0.9918 - val_accuracy: 0.6078\n",
      "Epoch 4/10\n",
      "370/370 [==============================] - 308s 832ms/step - loss: 0.3988 - accuracy: 0.8556 - val_loss: 1.0875 - val_accuracy: 0.5957\n",
      "Epoch 5/10\n",
      "370/370 [==============================] - 309s 836ms/step - loss: 0.2903 - accuracy: 0.8987 - val_loss: 1.3031 - val_accuracy: 0.5889\n",
      "Epoch 6/10\n",
      "370/370 [==============================] - 305s 825ms/step - loss: 0.2074 - accuracy: 0.9241 - val_loss: 1.3957 - val_accuracy: 0.5761\n",
      "Epoch 7/10\n",
      "370/370 [==============================] - 320s 865ms/step - loss: 0.1610 - accuracy: 0.9437 - val_loss: 1.6399 - val_accuracy: 0.5828\n",
      "Epoch 8/10\n",
      "370/370 [==============================] - 437s 1s/step - loss: 0.1244 - accuracy: 0.9557 - val_loss: 1.8119 - val_accuracy: 0.5686\n",
      "Epoch 9/10\n",
      "370/370 [==============================] - 386s 1s/step - loss: 0.0970 - accuracy: 0.9670 - val_loss: 2.0078 - val_accuracy: 0.5416\n",
      "Epoch 10/10\n",
      "370/370 [==============================] - 306s 827ms/step - loss: 0.0894 - accuracy: 0.9713 - val_loss: 2.1397 - val_accuracy: 0.5571\n"
     ]
    }
   ],
   "source": [
    "#from keras.callbacks import EarlyStopping\n",
    "\n",
    "#early_stop = EarlyStopping(monitor=\"val_acc\", mode=\"max\", patience=5)\n",
    "\n",
    "epochs = 10\n",
    "batch_size = 16\n",
    "history = model.fit(X_train, y_train, epochs=epochs, batch_size=batch_size, validation_split=0.2, verbose=1)"
   ],
   "metadata": {
    "collapsed": false,
    "pycharm": {
     "name": "#%%\n"
    }
   }
  },
  {
   "cell_type": "code",
   "execution_count": 14,
   "outputs": [],
   "source": [
    "from datetime import datetime\n",
    "\n",
    "model.save(f\"models/SA-RNN-{datetime.now().strftime('%Y%m%d%H%M%S')}.h5\")"
   ],
   "metadata": {
    "collapsed": false,
    "pycharm": {
     "name": "#%%\n"
    }
   }
  },
  {
   "cell_type": "code",
   "execution_count": 15,
   "outputs": [
    {
     "data": {
      "text/plain": "<Figure size 864x432 with 2 Axes>",
      "image/png": "[encoded data removed]"
     },
     "metadata": {},
     "output_type": "display_data"
    }
   ],
   "source": [
    "import matplotlib.pyplot as plt\n",
    "\n",
    "# Plot accuracy and loss in the same figure but in two different plots\n",
    "plt.style.use(\"ggplot\")\n",
    "plt.figure(figsize=(12, 6))\n",
    "plt.subplot(1, 2, 1)\n",
    "plt.plot(history.history[\"accuracy\"], label=\"train\")\n",
    "plt.plot(history.history[\"val_accuracy\"], label=\"validation\")\n",
    "plt.title(\"Accuracy\")\n",
    "plt.xlabel(\"Epoch\")\n",
    "plt.ylabel(\"Accuracy\")\n",
    "plt.legend()\n",
    "plt.subplot(1, 2, 2)\n",
    "plt.plot(history.history[\"loss\"], label=\"train\")\n",
    "plt.plot(history.history[\"val_loss\"], label=\"validation\")\n",
    "plt.title(\"Loss\")\n",
    "plt.xlabel(\"Epoch\")\n",
    "plt.ylabel(\"Loss\")\n",
    "plt.legend()\n",
    "plt.show()"
   ],
   "metadata": {
    "collapsed": false,
    "pycharm": {
     "name": "#%%\n"
    }
   }
  },
  {
   "cell_type": "code",
   "execution_count": 16,
   "outputs": [
    {
     "name": "stdout",
     "output_type": "stream",
     "text": [
      "Positive: 1076\n",
      "Negative: 1634\n",
      "Neutral: 460\n",
      "True Positive: 1069\n",
      "True Negative: 1604\n",
      "True Neutral: 497\n"
     ]
    }
   ],
   "source": [
    "import numpy as np\n",
    "\n",
    "predictions = model.predict(X_test)\n",
    "pos_count, neg_count, neu_count = 0, 0, 0\n",
    "true_pos_count, true_neg_count, true_neu_count = 0, 0, 0\n",
    "\n",
    "for i, prediction in enumerate(predictions):\n",
    "    if np.argmax(prediction) == 2:\n",
    "        pos_count += 1\n",
    "    elif np.argmax(prediction) == 1:\n",
    "        neg_count += 1\n",
    "    else:\n",
    "        neu_count += 1\n",
    "\n",
    "    if np.argmax(y_test[i]) == 2:\n",
    "        true_pos_count += 1\n",
    "    elif np.argmax(y_test[i]) == 1:\n",
    "        true_neg_count += 1\n",
    "    else:\n",
    "        true_neu_count += 1\n",
    "\n",
    "print(f\"Positive: {pos_count}\")\n",
    "print(f\"Negative: {neg_count}\")\n",
    "print(f\"Neutral: {neu_count}\")\n",
    "print(f\"True Positive: {true_pos_count}\")\n",
    "print(f\"True Negative: {true_neg_count}\")\n",
    "print(f\"True Neutral: {true_neu_count}\")"
   ],
   "metadata": {
    "collapsed": false,
    "pycharm": {
     "name": "#%%\n"
    }
   }
  }
 ],
 "metadata": {
  "kernelspec": {
   "display_name": "Python 3",
   "language": "python",
   "name": "python3"
  },
  "language_info": {
   "codemirror_mode": {
    "name": "ipython",
    "version": 2
   },
   "file_extension": ".py",
   "mimetype": "text/x-python",
   "name": "python",
   "nbconvert_exporter": "python",
   "pygments_lexer": "ipython2",
   "version": "2.7.6"
  }
 },
 "nbformat": 4,
 "nbformat_minor": 0
}