{
 "cells": [
  {
   "cell_type": "code",
   "execution_count": 1,
   "outputs": [],
   "source": [
    "from sena.data.norec_sentence.dataloader import load_full_dataset\n",
    "import sena.utils.utils as utils\n",
    "import pandas as pd"
   ],
   "metadata": {
    "collapsed": false,
    "pycharm": {
     "name": "#%%\n"
    }
   }
  },
  {
   "cell_type": "code",
   "execution_count": 2,
   "outputs": [],
   "source": [
    "data = load_full_dataset()\n",
    "\n",
    "train = data[\"train\"]\n",
    "val = data[\"dev\"]\n",
    "test = data[\"test\"]\n",
    "\n",
    "train = utils.clean_text(train, \"text\")\n",
    "val = utils.clean_text(val, \"text\")\n",
    "test = utils.clean_text(test, \"text\")\n",
    "\n",
    "combined_data = pd.concat([train, val, test])"
   ],
   "metadata": {
    "collapsed": false,
    "pycharm": {
     "name": "#%%\n"
    }
   }
  },
  {
   "cell_type": "code",
   "execution_count": 3,
   "outputs": [
    {
     "name": "stdout",
     "output_type": "stream",
     "text": [
      "Number of words: 26000\n"
     ]
    }
   ],
   "source": [
    "from collections import Counter\n",
    "import math\n",
    "\n",
    "num_words = Counter()\n",
    "for review in combined_data[\"text\"]:\n",
    "    for word in review.split(\" \"):\n",
    "        num_words[word] += 1\n",
    "\n",
    "num_words = len(num_words)\n",
    "num_words = math.ceil(num_words / 1000) * 1000\n",
    "print(\"Number of words:\", num_words)"
   ],
   "metadata": {
    "collapsed": false,
    "pycharm": {
     "name": "#%%\n"
    }
   }
  },
  {
   "cell_type": "code",
   "execution_count": 4,
   "outputs": [
    {
     "data": {
      "text/plain": "<AxesSubplot:>"
     },
     "execution_count": 4,
     "metadata": {},
     "output_type": "execute_result"
    },
    {
     "data": {
      "text/plain": "<Figure size 432x288 with 1 Axes>",
      "image/png": "[encoded data removed]"
     },
     "metadata": {
      "needs_background": "light"
     },
     "output_type": "display_data"
    }
   ],
   "source": [
    "combined_data[\"label\"].replace({0: \"Negative\", 1: \"Neutral\", 2: \"Positive\"}).value_counts().sort_index().plot.bar()"
   ],
   "metadata": {
    "collapsed": false,
    "pycharm": {
     "name": "#%%\n"
    }
   }
  },
  {
   "cell_type": "code",
   "execution_count": 5,
   "outputs": [
    {
     "data": {
      "text/plain": "<AxesSubplot:ylabel='Frequency'>"
     },
     "execution_count": 5,
     "metadata": {},
     "output_type": "execute_result"
    },
    {
     "data": {
      "text/plain": "<Figure size 432x288 with 1 Axes>",
      "image/png": "[encoded data removed]"
     },
     "metadata": {
      "needs_background": "light"
     },
     "output_type": "display_data"
    }
   ],
   "source": [
    "combined_data[\"text\"].str.len().plot.hist()"
   ],
   "metadata": {
    "collapsed": false,
    "pycharm": {
     "name": "#%%\n"
    }
   }
  },
  {
   "cell_type": "code",
   "execution_count": 6,
   "outputs": [],
   "source": [
    "from keras.preprocessing.text import Tokenizer\n",
    "from keras_preprocessing.sequence import pad_sequences\n",
    "from keras.utils.np_utils import to_categorical\n",
    "\n",
    "X_train, y_train = train[\"text\"], train[\"label\"]\n",
    "X_val, y_val = val[\"text\"], val[\"label\"]\n",
    "X_test, y_test = test[\"text\"], test[\"label\"]\n",
    "\n",
    "tokenizer = Tokenizer(num_words=num_words)\n",
    "tokenizer.fit_on_texts(combined_data[\"text\"])\n",
    "\n",
    "X_train = tokenizer.texts_to_sequences(X_train)\n",
    "X_val = tokenizer.texts_to_sequences(X_val)\n",
    "X_test = tokenizer.texts_to_sequences(X_test)"
   ],
   "metadata": {
    "collapsed": false,
    "pycharm": {
     "name": "#%%\n"
    }
   }
  },
  {
   "cell_type": "code",
   "execution_count": 7,
   "outputs": [],
   "source": [
    "from collections import Counter\n",
    "\n",
    "combined_text = tokenizer.texts_to_sequences(combined_data[\"text\"])\n",
    "\n",
    "word_counter = Counter()\n",
    "for review in combined_text:\n",
    "    for word in review:\n",
    "        word_counter[tokenizer.index_word[word]] += 1"
   ],
   "metadata": {
    "collapsed": false,
    "pycharm": {
     "name": "#%%\n"
    }
   }
  },
  {
   "cell_type": "code",
   "execution_count": 8,
   "outputs": [
    {
     "data": {
      "text/plain": "[('the', 307),\n ('får', 289),\n ('litt', 261),\n ('to', 260),\n ('år', 252),\n ('gjør', 231),\n ('helt', 213),\n ('godt', 212),\n ('filmen', 212),\n ('første', 210)]"
     },
     "execution_count": 8,
     "metadata": {},
     "output_type": "execute_result"
    }
   ],
   "source": [
    "word_counter.most_common(10)"
   ],
   "metadata": {
    "collapsed": false,
    "pycharm": {
     "name": "#%%\n"
    }
   }
  },
  {
   "cell_type": "code",
   "execution_count": 9,
   "outputs": [
    {
     "name": "stdout",
     "output_type": "stream",
     "text": [
      "X_train shape: (7973, 100)\n",
      "y_train shape: (7973, 3)\n",
      "\n",
      "X_val shape: (1411, 100)\n",
      "y_val shape: (1411, 3)\n",
      "\n",
      "X_test shape: (1181, 100)\n",
      "y_test shape: (1181, 3)\n"
     ]
    }
   ],
   "source": [
    "maxlen = 100\n",
    "X_train = pad_sequences(X_train, maxlen=maxlen)\n",
    "X_val = pad_sequences(X_val, maxlen=maxlen)\n",
    "X_test = pad_sequences(X_test, maxlen=maxlen)\n",
    "\n",
    "y_train = to_categorical(y_train, 3)\n",
    "y_val = to_categorical(y_val, 3)\n",
    "y_test = to_categorical(y_test, 3)\n",
    "\n",
    "print(\"X_train shape:\", X_train.shape)\n",
    "print(\"y_train shape:\", y_train.shape, end=\"\\n\\n\")\n",
    "print(\"X_val shape:\", X_val.shape)\n",
    "print(\"y_val shape:\", y_val.shape, end=\"\\n\\n\")\n",
    "print(\"X_test shape:\", X_test.shape)\n",
    "print(\"y_test shape:\", y_test.shape)"
   ],
   "metadata": {
    "collapsed": false,
    "pycharm": {
     "name": "#%%\n"
    }
   }
  },
  {
   "cell_type": "code",
   "execution_count": 10,
   "outputs": [],
   "source": [
    "from keras.models import Sequential\n",
    "from keras.layers import Dense, LSTM, Embedding\n",
    "from keras.regularizers import l2\n",
    "\n",
    "model = Sequential()\n",
    "model.add(Embedding(input_dim=num_words, output_dim=128))\n",
    "model.add(LSTM(units=128, dropout=0.3, kernel_regularizer=l2(0.01), recurrent_regularizer=l2(0.01),\n",
    "               bias_regularizer=l2(0.01)))\n",
    "model.add(Dense(3, activation='softmax'))"
   ],
   "metadata": {
    "collapsed": false,
    "pycharm": {
     "name": "#%%\n"
    }
   }
  },
  {
   "cell_type": "code",
   "execution_count": 11,
   "outputs": [
    {
     "name": "stdout",
     "output_type": "stream",
     "text": [
      "Model: \"sequential\"\n",
      "_________________________________________________________________\n",
      " Layer (type)                Output Shape              Param #   \n",
      "=================================================================\n",
      " embedding (Embedding)       (None, None, 128)         3328000   \n",
      "                                                                 \n",
      " lstm (LSTM)                 (None, 128)               131584    \n",
      "                                                                 \n",
      " dense (Dense)               (None, 3)                 387       \n",
      "                                                                 \n",
      "=================================================================\n",
      "Total params: 3,459,971\n",
      "Trainable params: 3,459,971\n",
      "Non-trainable params: 0\n",
      "_________________________________________________________________\n"
     ]
    }
   ],
   "source": [
    "model.compile(loss=\"categorical_crossentropy\", optimizer=\"adam\", metrics=[\"accuracy\"])\n",
    "model.summary()"
   ],
   "metadata": {
    "collapsed": false,
    "pycharm": {
     "name": "#%%\n"
    }
   }
  },
  {
   "cell_type": "code",
   "execution_count": 12,
   "outputs": [
    {
     "name": "stdout",
     "output_type": "stream",
     "text": [
      "Epoch 1/20\n",
      "499/499 [==============================] - 57s 106ms/step - loss: 1.9487 - accuracy: 0.5468 - val_loss: 1.3635 - val_accuracy: 0.5578\n",
      "Epoch 2/20\n",
      "499/499 [==============================] - 55s 109ms/step - loss: 0.9819 - accuracy: 0.7099 - val_loss: 1.0698 - val_accuracy: 0.5847\n",
      "Epoch 3/20\n",
      "499/499 [==============================] - 49s 98ms/step - loss: 0.5746 - accuracy: 0.7928 - val_loss: 1.2189 - val_accuracy: 0.5989\n",
      "Epoch 4/20\n",
      "499/499 [==============================] - 48s 97ms/step - loss: 0.4053 - accuracy: 0.8775 - val_loss: 1.3049 - val_accuracy: 0.5521\n",
      "Epoch 5/20\n",
      "499/499 [==============================] - 48s 97ms/step - loss: 0.2809 - accuracy: 0.9467 - val_loss: 1.5127 - val_accuracy: 0.5393\n",
      "Epoch 6/20\n",
      "499/499 [==============================] - 49s 99ms/step - loss: 0.2002 - accuracy: 0.9725 - val_loss: 1.6259 - val_accuracy: 0.5436\n"
     ]
    }
   ],
   "source": [
    "from keras.callbacks import EarlyStopping\n",
    "\n",
    "early_stop = EarlyStopping(monitor=\"val_accuracy\", mode=\"max\", patience=3)\n",
    "\n",
    "epochs = 20\n",
    "batch_size = 16\n",
    "history = model.fit(X_train, y_train, epochs=epochs, batch_size=batch_size, validation_data=(X_val, y_val), verbose=1,\n",
    "                    callbacks=[early_stop])"
   ],
   "metadata": {
    "collapsed": false,
    "pycharm": {
     "name": "#%%\n"
    }
   }
  },
  {
   "cell_type": "code",
   "execution_count": 13,
   "outputs": [
    {
     "data": {
      "text/plain": "<Figure size 1296x432 with 2 Axes>",
      "image/png": "[encoded data removed]"
     },
     "metadata": {},
     "output_type": "display_data"
    }
   ],
   "source": [
    "from sena.utils.utils import plot_history\n",
    "\n",
    "plot_history(history)"
   ],
   "metadata": {
    "collapsed": false,
    "pycharm": {
     "name": "#%%\n"
    }
   }
  },
  {
   "cell_type": "code",
   "execution_count": 14,
   "outputs": [
    {
     "name": "stdout",
     "output_type": "stream",
     "text": [
      "37/37 [==============================] - 1s 40ms/step - loss: 1.6057 - accuracy: 0.5461\n",
      "Validation loss: 1.605743646621704\n",
      "Validation accuracy: 0.546147346496582\n"
     ]
    }
   ],
   "source": [
    "val_loss, val_acc = model.evaluate(X_test, y_test, verbose=1)\n",
    "print(\"Validation loss:\", val_loss)\n",
    "print(\"Validation accuracy:\", val_acc)"
   ],
   "metadata": {
    "collapsed": false,
    "pycharm": {
     "name": "#%%\n"
    }
   }
  },
  {
   "cell_type": "code",
   "execution_count": 15,
   "outputs": [],
   "source": [
    "from datetime import datetime\n",
    "\n",
    "if val_acc > 0.8:\n",
    "    model.save(f\"models/SA-LSTM-MULTICLASS-{datetime.now().strftime('%Y%m%d%H%M%S')}.h5\")"
   ],
   "metadata": {
    "collapsed": false,
    "pycharm": {
     "name": "#%%\n"
    }
   }
  }
 ],
 "metadata": {
  "kernelspec": {
   "display_name": "Python 3",
   "language": "python",
   "name": "python3"
  },
  "language_info": {
   "codemirror_mode": {
    "name": "ipython",
    "version": 2
   },
   "file_extension": ".py",
   "mimetype": "text/x-python",
   "name": "python",
   "nbconvert_exporter": "python",
   "pygments_lexer": "ipython2",
   "version": "2.7.6"
  }
 },
 "nbformat": 4,
 "nbformat_minor": 0
}