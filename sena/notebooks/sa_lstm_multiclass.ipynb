{
 "cells": [
  {
   "cell_type": "code",
   "execution_count": 1,
   "outputs": [],
   "source": [
    "from sena.data.norec.dataloader import load_full_dataset\n",
    "import sena.utils.preprocessing as preprocessing\n",
    "import pandas as pd"
   ],
   "metadata": {
    "collapsed": false,
    "pycharm": {
     "name": "#%%\n"
    }
   }
  },
  {
   "cell_type": "code",
   "execution_count": 2,
   "outputs": [
    {
     "name": "stderr",
     "output_type": "stream",
     "text": [
      "Loading multiclass train data: 100%|██████████| 34903/34903 [03:58<00:00, 146.15it/s]\n",
      "Loading multiclass test data: 100%|██████████| 4351/4351 [00:27<00:00, 158.58it/s]\n",
      "Loading multiclass dev data: 100%|██████████| 4360/4360 [00:27<00:00, 158.36it/s]\n"
     ]
    }
   ],
   "source": [
    "# Loading data\n",
    "data = load_full_dataset()\n",
    "\n",
    "train = data[\"train\"]\n",
    "val = data[\"dev\"]\n",
    "test = data[\"test\"]\n",
    "\n",
    "# Shuffling data\n",
    "train = train.sample(frac=1).reset_index(drop=True)\n",
    "val = val.sample(frac=1).reset_index(drop=True)\n",
    "test = test.sample(frac=1).reset_index(drop=True)\n",
    "\n",
    "# Cleaning values in the text column\n",
    "train = preprocessing.clean_text(train, \"text\")\n",
    "val = preprocessing.clean_text(val, \"text\")\n",
    "test = preprocessing.clean_text(test, \"text\")\n",
    "\n",
    "# Combining data for later use\n",
    "combined_data = pd.concat([train, val, test]).reset_index(drop=True)\n",
    "combined_data = preprocessing.clean_text(combined_data, \"text\")"
   ],
   "metadata": {
    "collapsed": false,
    "pycharm": {
     "name": "#%%\n"
    }
   }
  },
  {
   "cell_type": "code",
   "execution_count": 3,
   "outputs": [
    {
     "data": {
      "text/plain": "                                                text  label\n0  windows movie maker vista gratis kommer ferdig...      1\n1  sølvkantet gjenforening grusom lyd vill energi...      1\n2  canon pixma mg overbevisende fotokvalitet lynr...      2\n3  boy striped pyjamas beste intensjoner prestasj...      1\n4  xl playground sikker virkelig trenger kvintett...      1",
      "text/html": "<div>\n<style scoped>\n    .dataframe tbody tr th:only-of-type {\n        vertical-align: middle;\n    }\n\n    .dataframe tbody tr th {\n        vertical-align: top;\n    }\n\n    .dataframe thead th {\n        text-align: right;\n    }\n</style>\n<table border=\"1\" class=\"dataframe\">\n  <thead>\n    <tr style=\"text-align: right;\">\n      <th></th>\n      <th>text</th>\n      <th>label</th>\n    </tr>\n  </thead>\n  <tbody>\n    <tr>\n      <th>0</th>\n      <td>windows movie maker vista gratis kommer ferdig...</td>\n      <td>1</td>\n    </tr>\n    <tr>\n      <th>1</th>\n      <td>sølvkantet gjenforening grusom lyd vill energi...</td>\n      <td>1</td>\n    </tr>\n    <tr>\n      <th>2</th>\n      <td>canon pixma mg overbevisende fotokvalitet lynr...</td>\n      <td>2</td>\n    </tr>\n    <tr>\n      <th>3</th>\n      <td>boy striped pyjamas beste intensjoner prestasj...</td>\n      <td>1</td>\n    </tr>\n    <tr>\n      <th>4</th>\n      <td>xl playground sikker virkelig trenger kvintett...</td>\n      <td>1</td>\n    </tr>\n  </tbody>\n</table>\n</div>"
     },
     "execution_count": 3,
     "metadata": {},
     "output_type": "execute_result"
    }
   ],
   "source": [
    "train.head()"
   ],
   "metadata": {
    "collapsed": false,
    "pycharm": {
     "name": "#%%\n"
    }
   }
  },
  {
   "cell_type": "code",
   "execution_count": 4,
   "outputs": [
    {
     "name": "stdout",
     "output_type": "stream",
     "text": [
      "Number of words: 26000\n"
     ]
    }
   ],
   "source": [
    "from collections import Counter\n",
    "import math\n",
    "\n",
    "num_words = Counter()\n",
    "for review in combined_data[\"text\"]:\n",
    "    for word in review.split(\" \"):\n",
    "        num_words[word] += 1\n",
    "\n",
    "# Deciding the vocabulary size\n",
    "num_words = len(num_words) / 20\n",
    "num_words = math.ceil(num_words / 1000) * 1000\n",
    "print(\"Number of words:\", num_words)"
   ],
   "metadata": {
    "collapsed": false,
    "pycharm": {
     "name": "#%%\n"
    }
   }
  },
  {
   "cell_type": "code",
   "execution_count": 5,
   "outputs": [
    {
     "name": "stdout",
     "output_type": "stream",
     "text": [
      "Average text length: 1623\n",
      "Max text length: 14505\n"
     ]
    }
   ],
   "source": [
    "average_text_length = combined_data[\"text\"].str.len().mean()\n",
    "max_text_length = combined_data[\"text\"].str.len().max()\n",
    "\n",
    "print(\"Average text length:\", int(average_text_length))\n",
    "print(\"Max text length:\", int(max_text_length))"
   ],
   "metadata": {
    "collapsed": false,
    "pycharm": {
     "name": "#%%\n"
    }
   }
  },
  {
   "cell_type": "code",
   "execution_count": 6,
   "outputs": [],
   "source": [
    "from keras.utils.np_utils import to_categorical\n",
    "from keras.preprocessing.text import Tokenizer\n",
    "from keras_preprocessing.sequence import pad_sequences\n",
    "import numpy as np\n",
    "\n",
    "# Separating texts and labels\n",
    "X_train, y_train = train[\"text\"], train[\"label\"]\n",
    "X_val, y_val = val[\"text\"], val[\"label\"]\n",
    "X_test, y_test = test[\"text\"], test[\"label\"]\n",
    "\n",
    "# Fitting a tokenizer to text from the combined data\n",
    "tokenizer = Tokenizer(num_words=num_words, oov_token=\"<OOV>\")\n",
    "tokenizer.fit_on_texts(combined_data[\"text\"].tolist())\n",
    "\n",
    "# Converting texts to sequences\n",
    "X_train = tokenizer.texts_to_sequences(X_train)\n",
    "X_val = tokenizer.texts_to_sequences(X_val)\n",
    "X_test = tokenizer.texts_to_sequences(X_test)"
   ],
   "metadata": {
    "collapsed": false,
    "pycharm": {
     "name": "#%%\n"
    }
   }
  },
  {
   "cell_type": "code",
   "execution_count": 7,
   "outputs": [],
   "source": [
    "# Deciding embedding vector length\n",
    "maxlen = (int(np.ceil(np.mean([len(text.split()) for text in combined_data.text]))))\n",
    "\n",
    "# Padding sequences with zeros until they reach a certain length\n",
    "X_train = pad_sequences(X_train, maxlen=maxlen, padding=\"post\", truncating=\"post\")\n",
    "X_val = pad_sequences(X_val, maxlen=maxlen, padding=\"post\", truncating=\"post\")\n",
    "X_test = pad_sequences(X_test, maxlen=maxlen, padding=\"post\", truncating=\"post\")"
   ],
   "metadata": {
    "collapsed": false,
    "pycharm": {
     "name": "#%%\n"
    }
   }
  },
  {
   "cell_type": "code",
   "execution_count": 8,
   "outputs": [
    {
     "name": "stdout",
     "output_type": "stream",
     "text": [
      "Number of classes: 3\n"
     ]
    }
   ],
   "source": [
    "num_classes = len(np.unique(y_train))\n",
    "print(\"Number of classes:\", num_classes)\n",
    "\n",
    "# One-hot encoding of labels\n",
    "y_train = to_categorical(y_train, num_classes=num_classes)\n",
    "y_val = to_categorical(y_val, num_classes=num_classes)\n",
    "y_test = to_categorical(y_test, num_classes=num_classes)"
   ],
   "metadata": {
    "collapsed": false,
    "pycharm": {
     "name": "#%%\n"
    }
   }
  },
  {
   "cell_type": "code",
   "execution_count": 9,
   "outputs": [
    {
     "name": "stdout",
     "output_type": "stream",
     "text": [
      "X_train shape: (34903, 204)\n",
      "y_train shape: (34903, 3)\n",
      "\n",
      "X_val shape: (4360, 204)\n",
      "y_val shape: (4360, 3)\n",
      "\n",
      "X_test shape: (4351, 204)\n",
      "y_test shape: (4351, 3)\n"
     ]
    }
   ],
   "source": [
    "print(\"X_train shape:\", X_train.shape)\n",
    "print(\"y_train shape:\", y_train.shape, end=\"\\n\\n\")\n",
    "print(\"X_val shape:\", X_val.shape)\n",
    "print(\"y_val shape:\", y_val.shape, end=\"\\n\\n\")\n",
    "print(\"X_test shape:\", X_test.shape)\n",
    "print(\"y_test shape:\", y_test.shape)"
   ],
   "metadata": {
    "collapsed": false,
    "pycharm": {
     "name": "#%%\n"
    }
   }
  },
  {
   "cell_type": "code",
   "execution_count": 10,
   "outputs": [
    {
     "data": {
      "text/plain": "{'<OOV>': 1,\n 'litt': 2,\n 'får': 3,\n 'gjør': 4,\n 'helt': 5,\n 'godt': 6,\n 'filmen': 7,\n 'år': 8,\n 'alt': 9,\n 'nok': 10}"
     },
     "execution_count": 10,
     "metadata": {},
     "output_type": "execute_result"
    }
   ],
   "source": [
    "import itertools\n",
    "\n",
    "# 10 most common words in the vocabulary\n",
    "dict(itertools.islice(tokenizer.word_index.items(), 10))"
   ],
   "metadata": {
    "collapsed": false,
    "pycharm": {
     "name": "#%%\n"
    }
   }
  },
  {
   "cell_type": "code",
   "execution_count": 11,
   "outputs": [],
   "source": [
    "from keras.models import Sequential\n",
    "from keras.layers import Dense, LSTM, Embedding, Dropout, Bidirectional\n",
    "\n",
    "model = Sequential()\n",
    "model.add(Embedding(num_words, 64))\n",
    "model.add(Bidirectional(LSTM(64)))\n",
    "model.add(Dropout(0.3))\n",
    "model.add(Dense(num_classes, activation='softmax'))"
   ],
   "metadata": {
    "collapsed": false,
    "pycharm": {
     "name": "#%%\n"
    }
   }
  },
  {
   "cell_type": "code",
   "execution_count": 12,
   "outputs": [
    {
     "name": "stdout",
     "output_type": "stream",
     "text": [
      "Model: \"sequential\"\n",
      "_________________________________________________________________\n",
      " Layer (type)                Output Shape              Param #   \n",
      "=================================================================\n",
      " embedding (Embedding)       (None, None, 64)          1664000   \n",
      "                                                                 \n",
      " bidirectional (Bidirectiona  (None, 128)              66048     \n",
      " l)                                                              \n",
      "                                                                 \n",
      " dropout (Dropout)           (None, 128)               0         \n",
      "                                                                 \n",
      " dense (Dense)               (None, 3)                 387       \n",
      "                                                                 \n",
      "=================================================================\n",
      "Total params: 1,730,435\n",
      "Trainable params: 1,730,435\n",
      "Non-trainable params: 0\n",
      "_________________________________________________________________\n"
     ]
    }
   ],
   "source": [
    "model.compile(loss=\"categorical_crossentropy\", optimizer=\"adam\", metrics=[\"accuracy\"])\n",
    "model.summary()"
   ],
   "metadata": {
    "collapsed": false,
    "pycharm": {
     "name": "#%%\n"
    }
   }
  },
  {
   "cell_type": "code",
   "execution_count": 13,
   "outputs": [
    {
     "name": "stdout",
     "output_type": "stream",
     "text": [
      "Epoch 1/20\n",
      "1091/1091 [==============================] - 151s 134ms/step - loss: 0.8109 - accuracy: 0.6025 - val_loss: 0.8606 - val_accuracy: 0.5195\n",
      "Epoch 2/20\n",
      "1091/1091 [==============================] - 140s 128ms/step - loss: 0.6009 - accuracy: 0.7390 - val_loss: 0.7205 - val_accuracy: 0.6670\n",
      "Epoch 3/20\n",
      "1091/1091 [==============================] - 140s 128ms/step - loss: 0.3919 - accuracy: 0.8421 - val_loss: 0.8490 - val_accuracy: 0.6633\n",
      "Epoch 4/20\n",
      "1091/1091 [==============================] - 143s 131ms/step - loss: 0.2182 - accuracy: 0.9211 - val_loss: 1.0941 - val_accuracy: 0.6495\n",
      "Epoch 5/20\n",
      "1091/1091 [==============================] - 143s 131ms/step - loss: 0.1151 - accuracy: 0.9606 - val_loss: 1.4448 - val_accuracy: 0.6353\n"
     ]
    }
   ],
   "source": [
    "from keras.callbacks import EarlyStopping\n",
    "\n",
    "callbacks = [EarlyStopping(monitor=\"val_accuracy\", patience=3)]\n",
    "\n",
    "epochs = 20\n",
    "batch_size = 32\n",
    "history = model.fit(X_train, y_train, epochs=epochs, batch_size=batch_size, validation_data=(X_val, y_val), verbose=1,\n",
    "                    callbacks=callbacks)"
   ],
   "metadata": {
    "collapsed": false,
    "pycharm": {
     "name": "#%%\n"
    }
   }
  },
  {
   "cell_type": "code",
   "execution_count": 14,
   "outputs": [
    {
     "data": {
      "text/plain": "<Figure size 1296x432 with 2 Axes>",
      "image/png": "[encoded data removed]"
     },
     "metadata": {},
     "output_type": "display_data"
    }
   ],
   "source": [
    "from sena.utils.visualization import plot_history\n",
    "\n",
    "plot_history(history)"
   ],
   "metadata": {
    "collapsed": false,
    "pycharm": {
     "name": "#%%\n"
    }
   }
  },
  {
   "cell_type": "code",
   "execution_count": 15,
   "outputs": [
    {
     "name": "stdout",
     "output_type": "stream",
     "text": [
      "136/136 [==============================] - 5s 39ms/step - loss: 1.4147 - accuracy: 0.6444\n",
      "Validation loss: 1.4147138595581055\n",
      "Validation accuracy: 0.6444495320320129\n"
     ]
    }
   ],
   "source": [
    "val_loss, val_acc = model.evaluate(X_test, y_test, verbose=1)\n",
    "print(\"Validation loss:\", val_loss)\n",
    "print(\"Validation accuracy:\", val_acc)"
   ],
   "metadata": {
    "collapsed": false,
    "pycharm": {
     "name": "#%%\n"
    }
   }
  },
  {
   "cell_type": "code",
   "execution_count": 16,
   "outputs": [],
   "source": [
    "from datetime import datetime\n",
    "\n",
    "if val_acc > 0.8:\n",
    "    model.save(f\"models/SA-LSTM-MULTICLASS-{datetime.now().strftime('%Y%m%d%H%M%S')}.h5\")"
   ],
   "metadata": {
    "collapsed": false,
    "pycharm": {
     "name": "#%%\n"
    }
   }
  }
 ],
 "metadata": {
  "kernelspec": {
   "display_name": "Python 3",
   "language": "python",
   "name": "python3"
  },
  "language_info": {
   "codemirror_mode": {
    "name": "ipython",
    "version": 2
   },
   "file_extension": ".py",
   "mimetype": "text/x-python",
   "name": "python",
   "nbconvert_exporter": "python",
   "pygments_lexer": "ipython2",
   "version": "2.7.6"
  }
 },
 "nbformat": 4,
 "nbformat_minor": 0
}