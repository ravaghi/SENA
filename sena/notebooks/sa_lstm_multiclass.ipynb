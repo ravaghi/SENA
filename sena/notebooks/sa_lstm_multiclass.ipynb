{
 "cells": [
  {
   "cell_type": "code",
   "execution_count": 1,
   "outputs": [],
   "source": [
    "from sena.data.norec.dataloader import load_full_dataset\n",
    "import sena.utils.preprocessing as preprocessing\n",
    "import pandas as pd"
   ],
   "metadata": {
    "collapsed": false,
    "pycharm": {
     "name": "#%%\n"
    }
   }
  },
  {
   "cell_type": "code",
   "execution_count": 2,
   "outputs": [],
   "source": [
    "data = load_full_dataset()\n",
    "\n",
    "train = data[\"train\"].copy()\n",
    "val = data[\"dev\"].copy()\n",
    "test = data[\"test\"].copy()\n",
    "\n",
    "train[\"label\"] = train[\"label\"].replace({0: \"negative\", 1: \"neutral\", 2: \"positive\"})\n",
    "val[\"label\"] = val[\"label\"].replace({0: \"negative\", 1: \"neutral\", 2: \"positive\"})\n",
    "test[\"label\"] = test[\"label\"].replace({0: \"negative\", 1: \"neutral\", 2: \"positive\"})\n",
    "\n",
    "train = train.sample(frac=1).reset_index(drop=True)\n",
    "val = val.sample(frac=1).reset_index(drop=True)\n",
    "test = test.sample(frac=1).reset_index(drop=True)\n",
    "\n",
    "train = preprocessing.clean_text(train, \"text\")\n",
    "val = preprocessing.clean_text(val, \"text\")\n",
    "test = preprocessing.clean_text(test, \"text\")\n",
    "\n",
    "combined_data = pd.concat([train.copy(), val.copy(), test.copy()]).reset_index(drop=True)"
   ],
   "metadata": {
    "collapsed": false,
    "pycharm": {
     "name": "#%%\n"
    }
   }
  },
  {
   "cell_type": "code",
   "execution_count": 3,
   "outputs": [
    {
     "data": {
      "text/plain": "                                                    text     label\n0      uvanlig tamt hiatt amerikaneren gjentar album ...   neutral\n1      black mass johnny depp bedre filmen johnny dep...   neutral\n2      færreste henger gitarkjøret mikser country fol...  positive\n3      langdryg krigsestetikk kineserne storslåtte sl...   neutral\n4      suggererande psykologisk thrillar rachel hovud...  positive\n...                                                  ...       ...\n43609  kypros minus one alter ego hilser ringreven th...   neutral\n43610  tenk banalt kvinnefribryting åttitallet temati...  positive\n43611  store ponnyporno nrks nye gullrekkereality byr...   neutral\n43612  anmeldelsekarpe diem slottsfjell slottsfjell b...  positive\n43613  hands stone filmen best bokses bokseren robert...   neutral\n\n[43614 rows x 2 columns]",
      "text/html": "<div>\n<style scoped>\n    .dataframe tbody tr th:only-of-type {\n        vertical-align: middle;\n    }\n\n    .dataframe tbody tr th {\n        vertical-align: top;\n    }\n\n    .dataframe thead th {\n        text-align: right;\n    }\n</style>\n<table border=\"1\" class=\"dataframe\">\n  <thead>\n    <tr style=\"text-align: right;\">\n      <th></th>\n      <th>text</th>\n      <th>label</th>\n    </tr>\n  </thead>\n  <tbody>\n    <tr>\n      <th>0</th>\n      <td>uvanlig tamt hiatt amerikaneren gjentar album ...</td>\n      <td>neutral</td>\n    </tr>\n    <tr>\n      <th>1</th>\n      <td>black mass johnny depp bedre filmen johnny dep...</td>\n      <td>neutral</td>\n    </tr>\n    <tr>\n      <th>2</th>\n      <td>færreste henger gitarkjøret mikser country fol...</td>\n      <td>positive</td>\n    </tr>\n    <tr>\n      <th>3</th>\n      <td>langdryg krigsestetikk kineserne storslåtte sl...</td>\n      <td>neutral</td>\n    </tr>\n    <tr>\n      <th>4</th>\n      <td>suggererande psykologisk thrillar rachel hovud...</td>\n      <td>positive</td>\n    </tr>\n    <tr>\n      <th>...</th>\n      <td>...</td>\n      <td>...</td>\n    </tr>\n    <tr>\n      <th>43609</th>\n      <td>kypros minus one alter ego hilser ringreven th...</td>\n      <td>neutral</td>\n    </tr>\n    <tr>\n      <th>43610</th>\n      <td>tenk banalt kvinnefribryting åttitallet temati...</td>\n      <td>positive</td>\n    </tr>\n    <tr>\n      <th>43611</th>\n      <td>store ponnyporno nrks nye gullrekkereality byr...</td>\n      <td>neutral</td>\n    </tr>\n    <tr>\n      <th>43612</th>\n      <td>anmeldelsekarpe diem slottsfjell slottsfjell b...</td>\n      <td>positive</td>\n    </tr>\n    <tr>\n      <th>43613</th>\n      <td>hands stone filmen best bokses bokseren robert...</td>\n      <td>neutral</td>\n    </tr>\n  </tbody>\n</table>\n<p>43614 rows × 2 columns</p>\n</div>"
     },
     "execution_count": 3,
     "metadata": {},
     "output_type": "execute_result"
    }
   ],
   "source": [
    "combined_data"
   ],
   "metadata": {
    "collapsed": false,
    "pycharm": {
     "name": "#%%\n"
    }
   }
  },
  {
   "cell_type": "code",
   "execution_count": 4,
   "outputs": [
    {
     "data": {
      "text/plain": "                                                    text     label\n0      uvanlig tamt hiatt amerikaneren gjentar album ...   neutral\n1      black mass johnny depp bedre filmen johnny dep...   neutral\n2      færreste henger gitarkjøret mikser country fol...  positive\n3      langdryg krigsestetikk kineserne storslåtte sl...   neutral\n4      suggererande psykologisk thrillar rachel hovud...  positive\n...                                                  ...       ...\n34898  minor majoritysjefen skrur tempoet solodebut r...   neutral\n34899  falkevikny jazztrio popteft bringer velfungere...  positive\n34900  mowgli dystrere versjon jungelboken år disneys...   neutral\n34901  kreking brosnan hayek ganske elegant liten dia...   neutral\n34902  jesper jenset tvil største vokalen konkurranse...   neutral\n\n[34903 rows x 2 columns]",
      "text/html": "<div>\n<style scoped>\n    .dataframe tbody tr th:only-of-type {\n        vertical-align: middle;\n    }\n\n    .dataframe tbody tr th {\n        vertical-align: top;\n    }\n\n    .dataframe thead th {\n        text-align: right;\n    }\n</style>\n<table border=\"1\" class=\"dataframe\">\n  <thead>\n    <tr style=\"text-align: right;\">\n      <th></th>\n      <th>text</th>\n      <th>label</th>\n    </tr>\n  </thead>\n  <tbody>\n    <tr>\n      <th>0</th>\n      <td>uvanlig tamt hiatt amerikaneren gjentar album ...</td>\n      <td>neutral</td>\n    </tr>\n    <tr>\n      <th>1</th>\n      <td>black mass johnny depp bedre filmen johnny dep...</td>\n      <td>neutral</td>\n    </tr>\n    <tr>\n      <th>2</th>\n      <td>færreste henger gitarkjøret mikser country fol...</td>\n      <td>positive</td>\n    </tr>\n    <tr>\n      <th>3</th>\n      <td>langdryg krigsestetikk kineserne storslåtte sl...</td>\n      <td>neutral</td>\n    </tr>\n    <tr>\n      <th>4</th>\n      <td>suggererande psykologisk thrillar rachel hovud...</td>\n      <td>positive</td>\n    </tr>\n    <tr>\n      <th>...</th>\n      <td>...</td>\n      <td>...</td>\n    </tr>\n    <tr>\n      <th>34898</th>\n      <td>minor majoritysjefen skrur tempoet solodebut r...</td>\n      <td>neutral</td>\n    </tr>\n    <tr>\n      <th>34899</th>\n      <td>falkevikny jazztrio popteft bringer velfungere...</td>\n      <td>positive</td>\n    </tr>\n    <tr>\n      <th>34900</th>\n      <td>mowgli dystrere versjon jungelboken år disneys...</td>\n      <td>neutral</td>\n    </tr>\n    <tr>\n      <th>34901</th>\n      <td>kreking brosnan hayek ganske elegant liten dia...</td>\n      <td>neutral</td>\n    </tr>\n    <tr>\n      <th>34902</th>\n      <td>jesper jenset tvil største vokalen konkurranse...</td>\n      <td>neutral</td>\n    </tr>\n  </tbody>\n</table>\n<p>34903 rows × 2 columns</p>\n</div>"
     },
     "execution_count": 4,
     "metadata": {},
     "output_type": "execute_result"
    }
   ],
   "source": [
    "train"
   ],
   "metadata": {
    "collapsed": false,
    "pycharm": {
     "name": "#%%\n"
    }
   }
  },
  {
   "cell_type": "code",
   "execution_count": 5,
   "outputs": [
    {
     "data": {
      "text/plain": "                                                   text     label\n0     beethovens niende lag ideologi viser slitestyr...   neutral\n1     oboy kommer mislike filmen norsk svartmetall i...  positive\n2     sovende pengesluk dagen mobilspillene utkonkur...   neutral\n3     resogun best playstation akkurat ironien ta fø...  positive\n4     fleksibel lekkerbisken asus kvalitetsfølelse d...   neutral\n...                                                 ...       ...\n4355  american honey feberaktig roadmovie utrolig ne...  positive\n4356  gjenbruker egen tekst trygve liebok svært bete...  negative\n4357  lett la bevege youtubefenomenet future islands...   neutral\n4358  lyser mørke cubicals frontfigur dan wilson lig...  positive\n4359  lokal langstrømpe fin form nina martine borlau...  positive\n\n[4360 rows x 2 columns]",
      "text/html": "<div>\n<style scoped>\n    .dataframe tbody tr th:only-of-type {\n        vertical-align: middle;\n    }\n\n    .dataframe tbody tr th {\n        vertical-align: top;\n    }\n\n    .dataframe thead th {\n        text-align: right;\n    }\n</style>\n<table border=\"1\" class=\"dataframe\">\n  <thead>\n    <tr style=\"text-align: right;\">\n      <th></th>\n      <th>text</th>\n      <th>label</th>\n    </tr>\n  </thead>\n  <tbody>\n    <tr>\n      <th>0</th>\n      <td>beethovens niende lag ideologi viser slitestyr...</td>\n      <td>neutral</td>\n    </tr>\n    <tr>\n      <th>1</th>\n      <td>oboy kommer mislike filmen norsk svartmetall i...</td>\n      <td>positive</td>\n    </tr>\n    <tr>\n      <th>2</th>\n      <td>sovende pengesluk dagen mobilspillene utkonkur...</td>\n      <td>neutral</td>\n    </tr>\n    <tr>\n      <th>3</th>\n      <td>resogun best playstation akkurat ironien ta fø...</td>\n      <td>positive</td>\n    </tr>\n    <tr>\n      <th>4</th>\n      <td>fleksibel lekkerbisken asus kvalitetsfølelse d...</td>\n      <td>neutral</td>\n    </tr>\n    <tr>\n      <th>...</th>\n      <td>...</td>\n      <td>...</td>\n    </tr>\n    <tr>\n      <th>4355</th>\n      <td>american honey feberaktig roadmovie utrolig ne...</td>\n      <td>positive</td>\n    </tr>\n    <tr>\n      <th>4356</th>\n      <td>gjenbruker egen tekst trygve liebok svært bete...</td>\n      <td>negative</td>\n    </tr>\n    <tr>\n      <th>4357</th>\n      <td>lett la bevege youtubefenomenet future islands...</td>\n      <td>neutral</td>\n    </tr>\n    <tr>\n      <th>4358</th>\n      <td>lyser mørke cubicals frontfigur dan wilson lig...</td>\n      <td>positive</td>\n    </tr>\n    <tr>\n      <th>4359</th>\n      <td>lokal langstrømpe fin form nina martine borlau...</td>\n      <td>positive</td>\n    </tr>\n  </tbody>\n</table>\n<p>4360 rows × 2 columns</p>\n</div>"
     },
     "execution_count": 5,
     "metadata": {},
     "output_type": "execute_result"
    }
   ],
   "source": [
    "val"
   ],
   "metadata": {
    "collapsed": false,
    "pycharm": {
     "name": "#%%\n"
    }
   }
  },
  {
   "cell_type": "code",
   "execution_count": 6,
   "outputs": [
    {
     "name": "stdout",
     "output_type": "stream",
     "text": [
      "Number of words: 26000\n"
     ]
    }
   ],
   "source": [
    "from collections import Counter\n",
    "import math\n",
    "\n",
    "num_words = Counter()\n",
    "for review in combined_data[\"text\"]:\n",
    "    for word in review.split(\" \"):\n",
    "        num_words[word] += 1\n",
    "\n",
    "num_words = len(num_words) / 20\n",
    "num_words = math.ceil(num_words / 1000) * 1000\n",
    "print(\"Number of words:\", num_words)"
   ],
   "metadata": {
    "collapsed": false,
    "pycharm": {
     "name": "#%%\n"
    }
   }
  },
  {
   "cell_type": "code",
   "execution_count": 7,
   "outputs": [
    {
     "data": {
      "text/plain": "<AxesSubplot:>"
     },
     "execution_count": 7,
     "metadata": {},
     "output_type": "execute_result"
    },
    {
     "data": {
      "text/plain": "<Figure size 432x288 with 1 Axes>",
      "image/png": "[encoded data removed]"
     },
     "metadata": {
      "needs_background": "light"
     },
     "output_type": "display_data"
    }
   ],
   "source": [
    "combined_data[\"label\"].value_counts().sort_index().plot.bar()"
   ],
   "metadata": {
    "collapsed": false,
    "pycharm": {
     "name": "#%%\n"
    }
   }
  },
  {
   "cell_type": "code",
   "execution_count": 8,
   "outputs": [
    {
     "data": {
      "text/plain": "<AxesSubplot:ylabel='Frequency'>"
     },
     "execution_count": 8,
     "metadata": {},
     "output_type": "execute_result"
    },
    {
     "data": {
      "text/plain": "<Figure size 432x288 with 1 Axes>",
      "image/png": "[encoded data removed]"
     },
     "metadata": {
      "needs_background": "light"
     },
     "output_type": "display_data"
    }
   ],
   "source": [
    "combined_data[\"text\"].str.len().plot.hist()"
   ],
   "metadata": {
    "collapsed": false,
    "pycharm": {
     "name": "#%%\n"
    }
   }
  },
  {
   "cell_type": "code",
   "execution_count": 9,
   "outputs": [
    {
     "name": "stdout",
     "output_type": "stream",
     "text": [
      "Average text length: 1623\n",
      "Max text length: 14505\n"
     ]
    }
   ],
   "source": [
    "average_text_length = combined_data[\"text\"].str.len().mean()\n",
    "max_text_length = combined_data[\"text\"].str.len().max()\n",
    "print(\"Average text length:\", int(average_text_length))\n",
    "print(\"Max text length:\", int(max_text_length))"
   ],
   "metadata": {
    "collapsed": false,
    "pycharm": {
     "name": "#%%\n"
    }
   }
  },
  {
   "cell_type": "code",
   "execution_count": 10,
   "outputs": [
    {
     "name": "stdout",
     "output_type": "stream",
     "text": [
      "X_train shape: (34903, 204)\n",
      "y_train shape: (34903, 1)\n",
      "\n",
      "X_val shape: (4360, 204)\n",
      "y_val shape: (4360, 1)\n",
      "\n",
      "X_test shape: (4351, 204)\n",
      "y_test shape: (4351, 1)\n"
     ]
    }
   ],
   "source": [
    "from keras.preprocessing.text import Tokenizer\n",
    "from keras_preprocessing.sequence import pad_sequences\n",
    "import numpy as np\n",
    "\n",
    "X_train, y_train = train[\"text\"], train[\"label\"]\n",
    "X_val, y_val = val[\"text\"], val[\"label\"]\n",
    "X_test, y_test = test[\"text\"], test[\"label\"]\n",
    "\n",
    "maxlen = (int(np.ceil(np.mean([len(text.split()) for text in combined_data.text]))))\n",
    "\n",
    "tokenizer = Tokenizer(num_words=num_words, oov_token=\"<OOV>\")\n",
    "tokenizer.fit_on_texts(combined_data[\"text\"].tolist())\n",
    "\n",
    "X_train = tokenizer.texts_to_sequences(X_train)\n",
    "X_train = pad_sequences(X_train, maxlen=maxlen, padding=\"post\", truncating=\"post\")\n",
    "\n",
    "X_val = tokenizer.texts_to_sequences(X_val)\n",
    "X_val = pad_sequences(X_val, maxlen=maxlen, padding=\"post\", truncating=\"post\")\n",
    "\n",
    "X_test = tokenizer.texts_to_sequences(X_test)\n",
    "X_test = pad_sequences(X_test, maxlen=maxlen, padding=\"post\", truncating=\"post\")\n",
    "\n",
    "label_tokenizer = Tokenizer()\n",
    "label_tokenizer.fit_on_texts(combined_data[\"label\"].tolist())\n",
    "\n",
    "y_train = np.array(label_tokenizer.texts_to_sequences(y_train))\n",
    "y_val = np.array(label_tokenizer.texts_to_sequences(y_val))\n",
    "y_test = np.array(label_tokenizer.texts_to_sequences(y_test))\n",
    "\n",
    "print(\"X_train shape:\", X_train.shape)\n",
    "print(\"y_train shape:\", y_train.shape, end=\"\\n\\n\")\n",
    "print(\"X_val shape:\", X_val.shape)\n",
    "print(\"y_val shape:\", y_val.shape, end=\"\\n\\n\")\n",
    "print(\"X_test shape:\", X_test.shape)\n",
    "print(\"y_test shape:\", y_test.shape)"
   ],
   "metadata": {
    "collapsed": false,
    "pycharm": {
     "name": "#%%\n"
    }
   }
  },
  {
   "cell_type": "code",
   "execution_count": 11,
   "outputs": [],
   "source": [
    "from collections import Counter\n",
    "\n",
    "combined_text = tokenizer.texts_to_sequences(combined_data[\"text\"])\n",
    "\n",
    "word_counter = Counter()\n",
    "for review in combined_text:\n",
    "    for word in review:\n",
    "        word_counter[tokenizer.index_word[word]] += 1"
   ],
   "metadata": {
    "collapsed": false,
    "pycharm": {
     "name": "#%%\n"
    }
   }
  },
  {
   "cell_type": "code",
   "execution_count": 12,
   "outputs": [
    {
     "data": {
      "text/plain": "[('<OOV>', 1456494),\n ('litt', 35145),\n ('får', 34541),\n ('gjør', 27955),\n ('helt', 27035),\n ('godt', 26690),\n ('filmen', 26493),\n ('år', 25426),\n ('alt', 23592),\n ('nok', 23554)]"
     },
     "execution_count": 12,
     "metadata": {},
     "output_type": "execute_result"
    }
   ],
   "source": [
    "word_counter.most_common(10)"
   ],
   "metadata": {
    "collapsed": false,
    "pycharm": {
     "name": "#%%\n"
    }
   }
  },
  {
   "cell_type": "code",
   "execution_count": 13,
   "outputs": [],
   "source": [
    "from keras.models import Sequential\n",
    "from keras.layers import Dense, LSTM, Embedding, Dropout, Bidirectional\n",
    "\n",
    "model = Sequential()\n",
    "model.add(Embedding(num_words, 64))\n",
    "model.add(Bidirectional(LSTM(64)))\n",
    "model.add(Dropout(0.2))\n",
    "model.add(Dense(4, activation='softmax'))"
   ],
   "metadata": {
    "collapsed": false,
    "pycharm": {
     "name": "#%%\n"
    }
   }
  },
  {
   "cell_type": "code",
   "execution_count": 14,
   "outputs": [
    {
     "name": "stdout",
     "output_type": "stream",
     "text": [
      "Model: \"sequential\"\n",
      "_________________________________________________________________\n",
      " Layer (type)                Output Shape              Param #   \n",
      "=================================================================\n",
      " embedding (Embedding)       (None, None, 64)          1664000   \n",
      "                                                                 \n",
      " bidirectional (Bidirectiona  (None, 128)              66048     \n",
      " l)                                                              \n",
      "                                                                 \n",
      " dense (Dense)               (None, 4)                 516       \n",
      "                                                                 \n",
      "=================================================================\n",
      "Total params: 1,730,564\n",
      "Trainable params: 1,730,564\n",
      "Non-trainable params: 0\n",
      "_________________________________________________________________\n"
     ]
    }
   ],
   "source": [
    "model.compile(loss=\"sparse_categorical_crossentropy\", optimizer=\"adam\", metrics=[\"accuracy\"])\n",
    "model.summary()"
   ],
   "metadata": {
    "collapsed": false,
    "pycharm": {
     "name": "#%%\n"
    }
   }
  },
  {
   "cell_type": "code",
   "execution_count": 15,
   "outputs": [
    {
     "name": "stdout",
     "output_type": "stream",
     "text": [
      "Epoch 1/20\n",
      "546/546 [==============================] - 1098s 2s/step - loss: 0.8487 - accuracy: 0.5816 - val_loss: 0.7605 - val_accuracy: 0.6388\n",
      "Epoch 2/20\n",
      "546/546 [==============================] - 744s 1s/step - loss: 0.6256 - accuracy: 0.7239 - val_loss: 0.6882 - val_accuracy: 0.6867\n",
      "Epoch 3/20\n",
      "546/546 [==============================] - 572s 1s/step - loss: 0.4421 - accuracy: 0.8202 - val_loss: 0.7552 - val_accuracy: 0.6718\n",
      "Epoch 4/20\n",
      "546/546 [==============================] - 583s 1s/step - loss: 0.2853 - accuracy: 0.8932 - val_loss: 0.9543 - val_accuracy: 0.6589\n",
      "Epoch 5/20\n",
      "546/546 [==============================] - 566s 1s/step - loss: 0.1628 - accuracy: 0.9435 - val_loss: 1.2049 - val_accuracy: 0.6472\n"
     ]
    }
   ],
   "source": [
    "from keras.callbacks import EarlyStopping\n",
    "\n",
    "early_stop = EarlyStopping(monitor=\"val_accuracy\", mode=\"max\", patience=3)\n",
    "\n",
    "epochs = 20\n",
    "batch_size = 64\n",
    "\n",
    "history = model.fit(X_train, y_train, epochs=epochs, batch_size=batch_size, validation_data=(X_val, y_val), verbose=1, callbacks=[early_stop])"
   ],
   "metadata": {
    "collapsed": false,
    "pycharm": {
     "name": "#%%\n"
    }
   }
  },
  {
   "cell_type": "code",
   "execution_count": 16,
   "outputs": [
    {
     "data": {
      "text/plain": "<Figure size 1296x432 with 2 Axes>",
      "image/png": "[encoded data removed]"
     },
     "metadata": {},
     "output_type": "display_data"
    }
   ],
   "source": [
    "from sena.utils.visualization import plot_history\n",
    "\n",
    "plot_history(history)"
   ],
   "metadata": {
    "collapsed": false,
    "pycharm": {
     "name": "#%%\n"
    }
   }
  },
  {
   "cell_type": "code",
   "execution_count": 17,
   "outputs": [
    {
     "name": "stdout",
     "output_type": "stream",
     "text": [
      "136/136 [==============================] - 5s 39ms/step - loss: 1.1849 - accuracy: 0.6553\n",
      "Validation loss: 1.1848549842834473\n",
      "Validation accuracy: 0.655251681804657\n"
     ]
    }
   ],
   "source": [
    "val_loss, val_acc = model.evaluate(X_test, y_test, verbose=1)\n",
    "print(\"Validation loss:\", val_loss)\n",
    "print(\"Validation accuracy:\", val_acc)"
   ],
   "metadata": {
    "collapsed": false,
    "pycharm": {
     "name": "#%%\n"
    }
   }
  },
  {
   "cell_type": "code",
   "execution_count": 18,
   "outputs": [],
   "source": [
    "from datetime import datetime\n",
    "\n",
    "if val_acc > 0.8:\n",
    "    model.save(f\"models/SA-LSTM-MULTICLASS-BALANCED-{datetime.now().strftime('%Y%m%d%H%M%S')}.h5\")"
   ],
   "metadata": {
    "collapsed": false,
    "pycharm": {
     "name": "#%%\n"
    }
   }
  }
 ],
 "metadata": {
  "kernelspec": {
   "display_name": "Python 3",
   "language": "python",
   "name": "python3"
  },
  "language_info": {
   "codemirror_mode": {
    "name": "ipython",
    "version": 2
   },
   "file_extension": ".py",
   "mimetype": "text/x-python",
   "name": "python",
   "nbconvert_exporter": "python",
   "pygments_lexer": "ipython2",
   "version": "2.7.6"
  }
 },
 "nbformat": 4,
 "nbformat_minor": 0
}