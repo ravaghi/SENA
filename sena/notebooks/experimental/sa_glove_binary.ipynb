{
 "cells": [
  {
   "cell_type": "code",
   "execution_count": 17,
   "metadata": {
    "collapsed": true
   },
   "outputs": [],
   "source": [
    "from dataloader import load_balanced_binary_dataset\n",
    "import backend.src.utils.utils as utils\n",
    "\n",
    "data = load_balanced_binary_dataset()\n",
    "data = utils.clean_text(data, \"text\")"
   ]
  },
  {
   "cell_type": "code",
   "execution_count": 18,
   "outputs": [
    {
     "data": {
      "text/plain": "           sent_id                                               text  label\n5060  700798-02-01  american honey skitten betagende film rotløs u...      1\n2115  003576-15-01                glad dyr ta turen festen fortelling      1\n4794  304825-04-01  pixar kvier aldri sette kluter følelsesmessige...      1\n873   102785-04-03  biograf lars ericson wolke argumenterer overbe...      1\n4077  103992-13-01       serien hviler heller lenger enkeltkarakterer      1\n...            ...                                                ...    ...\n4467  601408-03-03  kjent oliver h langeland fikk bok dømmes inndr...      0\n1600  102359-09-06                               bryr nevneverdig alt      0\n3755  702152-11-02    sluttbudskap overflatisk selvfølgelig latterlig      0\n1729  109725-02-01                                         ludderrock      0\n2685  101562-09-03                         tillegg enkelt følge sloss      0\n\n[3326 rows x 3 columns]",
      "text/html": "<div>\n<style scoped>\n    .dataframe tbody tr th:only-of-type {\n        vertical-align: middle;\n    }\n\n    .dataframe tbody tr th {\n        vertical-align: top;\n    }\n\n    .dataframe thead th {\n        text-align: right;\n    }\n</style>\n<table border=\"1\" class=\"dataframe\">\n  <thead>\n    <tr style=\"text-align: right;\">\n      <th></th>\n      <th>sent_id</th>\n      <th>text</th>\n      <th>label</th>\n    </tr>\n  </thead>\n  <tbody>\n    <tr>\n      <th>5060</th>\n      <td>700798-02-01</td>\n      <td>american honey skitten betagende film rotløs u...</td>\n      <td>1</td>\n    </tr>\n    <tr>\n      <th>2115</th>\n      <td>003576-15-01</td>\n      <td>glad dyr ta turen festen fortelling</td>\n      <td>1</td>\n    </tr>\n    <tr>\n      <th>4794</th>\n      <td>304825-04-01</td>\n      <td>pixar kvier aldri sette kluter følelsesmessige...</td>\n      <td>1</td>\n    </tr>\n    <tr>\n      <th>873</th>\n      <td>102785-04-03</td>\n      <td>biograf lars ericson wolke argumenterer overbe...</td>\n      <td>1</td>\n    </tr>\n    <tr>\n      <th>4077</th>\n      <td>103992-13-01</td>\n      <td>serien hviler heller lenger enkeltkarakterer</td>\n      <td>1</td>\n    </tr>\n    <tr>\n      <th>...</th>\n      <td>...</td>\n      <td>...</td>\n      <td>...</td>\n    </tr>\n    <tr>\n      <th>4467</th>\n      <td>601408-03-03</td>\n      <td>kjent oliver h langeland fikk bok dømmes inndr...</td>\n      <td>0</td>\n    </tr>\n    <tr>\n      <th>1600</th>\n      <td>102359-09-06</td>\n      <td>bryr nevneverdig alt</td>\n      <td>0</td>\n    </tr>\n    <tr>\n      <th>3755</th>\n      <td>702152-11-02</td>\n      <td>sluttbudskap overflatisk selvfølgelig latterlig</td>\n      <td>0</td>\n    </tr>\n    <tr>\n      <th>1729</th>\n      <td>109725-02-01</td>\n      <td>ludderrock</td>\n      <td>0</td>\n    </tr>\n    <tr>\n      <th>2685</th>\n      <td>101562-09-03</td>\n      <td>tillegg enkelt følge sloss</td>\n      <td>0</td>\n    </tr>\n  </tbody>\n</table>\n<p>3326 rows × 3 columns</p>\n</div>"
     },
     "execution_count": 18,
     "metadata": {},
     "output_type": "execute_result"
    }
   ],
   "source": [
    "data"
   ],
   "metadata": {
    "collapsed": false,
    "pycharm": {
     "name": "#%%\n"
    }
   }
  },
  {
   "cell_type": "code",
   "execution_count": 19,
   "outputs": [
    {
     "name": "stdout",
     "output_type": "stream",
     "text": [
      "Number of words: 12209\n"
     ]
    }
   ],
   "source": [
    "from collections import Counter\n",
    "\n",
    "num_words = Counter()\n",
    "for review in data[\"text\"]:\n",
    "    for word in review.split(\" \"):\n",
    "        num_words[word] += 1\n",
    "\n",
    "num_words = len(num_words)\n",
    "print(\"Number of words:\", num_words)"
   ],
   "metadata": {
    "collapsed": false,
    "pycharm": {
     "name": "#%%\n"
    }
   }
  },
  {
   "cell_type": "code",
   "execution_count": 20,
   "outputs": [
    {
     "data": {
      "text/plain": "<AxesSubplot:>"
     },
     "execution_count": 20,
     "metadata": {},
     "output_type": "execute_result"
    },
    {
     "data": {
      "text/plain": "<Figure size 432x288 with 1 Axes>",
      "image/png": "[encoded data removed]"
     },
     "metadata": {},
     "output_type": "display_data"
    }
   ],
   "source": [
    "data[\"label\"].replace({0: \"Negative\", 1: \"Positive\"}).value_counts().sort_index().plot.bar()"
   ],
   "metadata": {
    "collapsed": false,
    "pycharm": {
     "name": "#%%\n"
    }
   }
  },
  {
   "cell_type": "code",
   "execution_count": 21,
   "outputs": [
    {
     "data": {
      "text/plain": "<AxesSubplot:ylabel='Frequency'>"
     },
     "execution_count": 21,
     "metadata": {},
     "output_type": "execute_result"
    },
    {
     "data": {
      "text/plain": "<Figure size 432x288 with 1 Axes>",
      "image/png": "[encoded data removed]"
     },
     "metadata": {},
     "output_type": "display_data"
    }
   ],
   "source": [
    "data[\"text\"].str.len().plot.hist()"
   ],
   "metadata": {
    "collapsed": false,
    "pycharm": {
     "name": "#%%\n"
    }
   }
  },
  {
   "cell_type": "code",
   "execution_count": 22,
   "outputs": [
    {
     "name": "stdout",
     "output_type": "stream",
     "text": [
      "Found 12208 unique tokens.\n"
     ]
    }
   ],
   "source": [
    "from keras.preprocessing.text import Tokenizer\n",
    "from keras.preprocessing.sequence import pad_sequences\n",
    "\n",
    "tokenizer = Tokenizer(num_words=num_words)\n",
    "tokenizer.fit_on_texts(data[\"text\"])\n",
    "sequences = tokenizer.texts_to_sequences(data[\"text\"])\n",
    "\n",
    "word_index = tokenizer.word_index\n",
    "print(\"Found %s unique tokens.\" % len(word_index))\n",
    "\n",
    "padded_data = pad_sequences(sequences, maxlen=100)"
   ],
   "metadata": {
    "collapsed": false,
    "pycharm": {
     "name": "#%%\n"
    }
   }
  },
  {
   "cell_type": "code",
   "execution_count": 23,
   "outputs": [],
   "source": [
    "from keras.utils.np_utils import to_categorical\n",
    "from sklearn.preprocessing import LabelEncoder\n",
    "from sklearn.model_selection import train_test_split\n",
    "\n",
    "encoder = LabelEncoder()\n",
    "labels = encoder.fit_transform(data[\"label\"])\n",
    "labels = to_categorical(labels)\n",
    "\n",
    "X_train, X_val, y_train, y_val = train_test_split(padded_data, labels, test_size=0.2, random_state=42, shuffle=True)"
   ],
   "metadata": {
    "collapsed": false,
    "pycharm": {
     "name": "#%%\n"
    }
   }
  },
  {
   "cell_type": "code",
   "execution_count": 24,
   "outputs": [
    {
     "name": "stdout",
     "output_type": "stream",
     "text": [
      "(2660, 100) (2660, 2)\n",
      "(666, 100) (666, 2)\n"
     ]
    }
   ],
   "source": [
    "print(X_train.shape, y_train.shape)\n",
    "print(X_val.shape, y_val.shape)"
   ],
   "metadata": {
    "collapsed": false,
    "pycharm": {
     "name": "#%%\n"
    }
   }
  },
  {
   "cell_type": "code",
   "execution_count": 25,
   "outputs": [
    {
     "name": "stderr",
     "output_type": "stream",
     "text": [
      "Loading embeddings: 100%|██████████| 4031461/4031461 [03:16<00:00, 20525.21it/s]\n"
     ]
    }
   ],
   "source": [
    "from backend.src.utils.embeddings import load_embeddings\n",
    "\n",
    "embeddings_index = load_embeddings()"
   ],
   "metadata": {
    "collapsed": false,
    "pycharm": {
     "name": "#%%\n"
    }
   }
  },
  {
   "cell_type": "code",
   "execution_count": 27,
   "outputs": [],
   "source": [
    "import numpy as np\n",
    "\n",
    "vocab_size = len(word_index) + 1\n",
    "embedding_dim = 100\n",
    "embedding_matrix = np.zeros((vocab_size, embedding_dim))\n",
    "for word, i in word_index.items():\n",
    "    embedding_vector = embeddings_index.get(word)\n",
    "    if embedding_vector is not None:\n",
    "        embedding_matrix[i] = embedding_vector"
   ],
   "metadata": {
    "collapsed": false,
    "pycharm": {
     "name": "#%%\n"
    }
   }
  },
  {
   "cell_type": "code",
   "execution_count": 28,
   "outputs": [],
   "source": [
    "from keras import Input\n",
    "from keras.layers import Embedding, Flatten, Dense\n",
    "from keras.models import Sequential\n",
    "\n",
    "model = Sequential()\n",
    "model.add(Embedding(vocab_size, embedding_dim, input_length=embedding_dim, weights=[embedding_matrix], trainable=False))\n",
    "model.add(Input(shape=(embedding_dim,), dtype=\"float32\"))\n",
    "model.add(Flatten())\n",
    "model.add(Dense(100, activation=\"relu\"))\n",
    "model.add(Dense(32, activation=\"relu\"))\n",
    "model.add(Dense(2, activation=\"softmax\"))"
   ],
   "metadata": {
    "collapsed": false,
    "pycharm": {
     "name": "#%%\n"
    }
   }
  },
  {
   "cell_type": "code",
   "execution_count": 29,
   "outputs": [
    {
     "name": "stdout",
     "output_type": "stream",
     "text": [
      "Model: \"sequential_1\"\n",
      "_________________________________________________________________\n",
      " Layer (type)                Output Shape              Param #   \n",
      "=================================================================\n",
      " embedding_1 (Embedding)     (None, 100, 100)          1220900   \n",
      "                                                                 \n",
      " input_1 (InputLayer)        multiple                  0         \n",
      "                                                                 \n",
      " flatten_1 (Flatten)         (None, 10000)             0         \n",
      "                                                                 \n",
      " dense_3 (Dense)             (None, 100)               1000100   \n",
      "                                                                 \n",
      " dense_4 (Dense)             (None, 32)                3232      \n",
      "                                                                 \n",
      " dense_5 (Dense)             (None, 2)                 66        \n",
      "                                                                 \n",
      "=================================================================\n",
      "Total params: 2,224,298\n",
      "Trainable params: 1,003,398\n",
      "Non-trainable params: 1,220,900\n",
      "_________________________________________________________________\n"
     ]
    }
   ],
   "source": [
    "model.compile(loss=\"categorical_crossentropy\", optimizer=\"adam\", metrics=[\"accuracy\"])\n",
    "model.summary()"
   ],
   "metadata": {
    "collapsed": false,
    "pycharm": {
     "name": "#%%\n"
    }
   }
  },
  {
   "cell_type": "code",
   "execution_count": 30,
   "outputs": [
    {
     "name": "stdout",
     "output_type": "stream",
     "text": [
      "Epoch 1/50\n",
      "84/84 [==============================] - 2s 18ms/step - loss: 0.6771 - accuracy: 0.5782 - val_loss: 0.6586 - val_accuracy: 0.6081\n",
      "Epoch 2/50\n",
      "84/84 [==============================] - 1s 13ms/step - loss: 0.5181 - accuracy: 0.7429 - val_loss: 0.7100 - val_accuracy: 0.5841\n",
      "Epoch 3/50\n",
      "84/84 [==============================] - 1s 12ms/step - loss: 0.3969 - accuracy: 0.8229 - val_loss: 0.8059 - val_accuracy: 0.6141\n",
      "Epoch 4/50\n",
      "84/84 [==============================] - 1s 12ms/step - loss: 0.2576 - accuracy: 0.8989 - val_loss: 1.0061 - val_accuracy: 0.5841\n",
      "Epoch 5/50\n",
      "84/84 [==============================] - 1s 15ms/step - loss: 0.1472 - accuracy: 0.9534 - val_loss: 1.2909 - val_accuracy: 0.5916\n",
      "Epoch 6/50\n",
      "84/84 [==============================] - 1s 12ms/step - loss: 0.0740 - accuracy: 0.9797 - val_loss: 1.5379 - val_accuracy: 0.5931\n"
     ]
    }
   ],
   "source": [
    "from keras.callbacks import EarlyStopping\n",
    "\n",
    "early_stop = EarlyStopping(monitor=\"val_accuracy\", mode=\"max\", patience=3)\n",
    "\n",
    "epochs = 50\n",
    "batch_size = 32\n",
    "\n",
    "history = model.fit(X_train, y_train, epochs=epochs, batch_size=batch_size, validation_data=(X_val, y_val), verbose=1,\n",
    "                    callbacks=[early_stop])"
   ],
   "metadata": {
    "collapsed": false,
    "pycharm": {
     "name": "#%%\n"
    }
   }
  },
  {
   "cell_type": "code",
   "execution_count": 31,
   "outputs": [],
   "source": [
    "from datetime import datetime\n",
    "\n",
    "model.save(f\"models/SA-GLOVE-BINARY-BALANCED-{datetime.now().strftime('%Y%m%d%H%M%S')}.h5\")"
   ],
   "metadata": {
    "collapsed": false,
    "pycharm": {
     "name": "#%%\n"
    }
   }
  },
  {
   "cell_type": "code",
   "execution_count": 32,
   "outputs": [
    {
     "data": {
      "text/plain": "<Figure size 864x432 with 2 Axes>",
      "image/png": "[encoded data removed]"
     },
     "metadata": {},
     "output_type": "display_data"
    }
   ],
   "source": [
    "from backend.src.utils.utils import plot_history\n",
    "\n",
    "plot_history(history)"
   ],
   "metadata": {
    "collapsed": false,
    "pycharm": {
     "name": "#%%\n"
    }
   }
  },
  {
   "cell_type": "code",
   "execution_count": 33,
   "outputs": [
    {
     "name": "stdout",
     "output_type": "stream",
     "text": [
      "21/21 [==============================] - 0s 4ms/step - loss: 1.5379 - accuracy: 0.5931\n",
      "Validation loss: 1.5378650426864624\n",
      "Validation accuracy: 0.5930930972099304\n"
     ]
    }
   ],
   "source": [
    "# Evaluation\n",
    "val_loss, val_acc = model.evaluate(X_val, y_val)\n",
    "print(\"Validation loss:\", val_loss)\n",
    "print(\"Validation accuracy:\", val_acc)"
   ],
   "metadata": {
    "collapsed": false,
    "pycharm": {
     "name": "#%%\n"
    }
   }
  }
 ],
 "metadata": {
  "kernelspec": {
   "display_name": "Python 3",
   "language": "python",
   "name": "python3"
  },
  "language_info": {
   "codemirror_mode": {
    "name": "ipython",
    "version": 2
   },
   "file_extension": ".py",
   "mimetype": "text/x-python",
   "name": "python",
   "nbconvert_exporter": "python",
   "pygments_lexer": "ipython2",
   "version": "2.7.6"
  }
 },
 "nbformat": 4,
 "nbformat_minor": 0
}