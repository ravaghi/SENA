{
 "cells": [
  {
   "cell_type": "code",
   "execution_count": 1,
   "metadata": {
    "collapsed": true
   },
   "outputs": [],
   "source": [
    "from dataloader import load_balanced_binary_dataset\n",
    "import backend.src.utils.utils as utils\n",
    "\n",
    "data = load_balanced_binary_dataset()\n",
    "data = utils.clean_text(data, \"text\")\n",
    "# Shuffle data\n",
    "data = data.sample(frac=1).reset_index(drop=True)"
   ]
  },
  {
   "cell_type": "code",
   "execution_count": 2,
   "outputs": [
    {
     "data": {
      "text/plain": "           sent_id                                               text  label\n0     202601-44-01  verre eksterne høyttaleren spesielt heller spi...      0\n1     004745-16-03                                           får svar      0\n2     200140-26-02  fyrer windows media player spille musikk bakgr...      0\n3     302975-11-02            synd personlig deler syn asylpolitikken      0\n4     200006-37-01                    søvndataene generelt detaljerte      0\n...            ...                                                ...    ...\n3321  100915-14-02  to norske barn oppi hele mona cecilie kristian...      1\n3322  703572-08-01  leseren fryd se hele forløper sofia utvikler t...      1\n3323  304309-06-04  invitert gjøre litt blodfattige varianter rollene      0\n3324  102687-09-02               armer bein alt kameraet leker tivoli      0\n3325  202792-09-02  underholdende jetpackene lar fly lenge energie...      1\n\n[3326 rows x 3 columns]",
      "text/html": "<div>\n<style scoped>\n    .dataframe tbody tr th:only-of-type {\n        vertical-align: middle;\n    }\n\n    .dataframe tbody tr th {\n        vertical-align: top;\n    }\n\n    .dataframe thead th {\n        text-align: right;\n    }\n</style>\n<table border=\"1\" class=\"dataframe\">\n  <thead>\n    <tr style=\"text-align: right;\">\n      <th></th>\n      <th>sent_id</th>\n      <th>text</th>\n      <th>label</th>\n    </tr>\n  </thead>\n  <tbody>\n    <tr>\n      <th>0</th>\n      <td>202601-44-01</td>\n      <td>verre eksterne høyttaleren spesielt heller spi...</td>\n      <td>0</td>\n    </tr>\n    <tr>\n      <th>1</th>\n      <td>004745-16-03</td>\n      <td>får svar</td>\n      <td>0</td>\n    </tr>\n    <tr>\n      <th>2</th>\n      <td>200140-26-02</td>\n      <td>fyrer windows media player spille musikk bakgr...</td>\n      <td>0</td>\n    </tr>\n    <tr>\n      <th>3</th>\n      <td>302975-11-02</td>\n      <td>synd personlig deler syn asylpolitikken</td>\n      <td>0</td>\n    </tr>\n    <tr>\n      <th>4</th>\n      <td>200006-37-01</td>\n      <td>søvndataene generelt detaljerte</td>\n      <td>0</td>\n    </tr>\n    <tr>\n      <th>...</th>\n      <td>...</td>\n      <td>...</td>\n      <td>...</td>\n    </tr>\n    <tr>\n      <th>3321</th>\n      <td>100915-14-02</td>\n      <td>to norske barn oppi hele mona cecilie kristian...</td>\n      <td>1</td>\n    </tr>\n    <tr>\n      <th>3322</th>\n      <td>703572-08-01</td>\n      <td>leseren fryd se hele forløper sofia utvikler t...</td>\n      <td>1</td>\n    </tr>\n    <tr>\n      <th>3323</th>\n      <td>304309-06-04</td>\n      <td>invitert gjøre litt blodfattige varianter rollene</td>\n      <td>0</td>\n    </tr>\n    <tr>\n      <th>3324</th>\n      <td>102687-09-02</td>\n      <td>armer bein alt kameraet leker tivoli</td>\n      <td>0</td>\n    </tr>\n    <tr>\n      <th>3325</th>\n      <td>202792-09-02</td>\n      <td>underholdende jetpackene lar fly lenge energie...</td>\n      <td>1</td>\n    </tr>\n  </tbody>\n</table>\n<p>3326 rows × 3 columns</p>\n</div>"
     },
     "execution_count": 2,
     "metadata": {},
     "output_type": "execute_result"
    }
   ],
   "source": [
    "data"
   ],
   "metadata": {
    "collapsed": false,
    "pycharm": {
     "name": "#%%\n"
    }
   }
  },
  {
   "cell_type": "code",
   "execution_count": 3,
   "outputs": [
    {
     "data": {
      "text/plain": "<AxesSubplot:>"
     },
     "execution_count": 3,
     "metadata": {},
     "output_type": "execute_result"
    },
    {
     "data": {
      "text/plain": "<Figure size 432x288 with 1 Axes>",
      "image/png": "[encoded data removed]"
     },
     "metadata": {
      "needs_background": "light"
     },
     "output_type": "display_data"
    }
   ],
   "source": [
    "data[\"label\"].replace({0: \"Negative\", 1: \"Positive\"}).value_counts().sort_index().plot.bar()"
   ],
   "metadata": {
    "collapsed": false,
    "pycharm": {
     "name": "#%%\n"
    }
   }
  },
  {
   "cell_type": "code",
   "execution_count": 4,
   "outputs": [
    {
     "data": {
      "text/plain": "<AxesSubplot:ylabel='Frequency'>"
     },
     "execution_count": 4,
     "metadata": {},
     "output_type": "execute_result"
    },
    {
     "data": {
      "text/plain": "<Figure size 432x288 with 1 Axes>",
      "image/png": "[encoded data removed]"
     },
     "metadata": {
      "needs_background": "light"
     },
     "output_type": "display_data"
    }
   ],
   "source": [
    "data[\"text\"].str.len().plot.hist()"
   ],
   "metadata": {
    "collapsed": false,
    "pycharm": {
     "name": "#%%\n"
    }
   }
  },
  {
   "cell_type": "code",
   "execution_count": 5,
   "outputs": [
    {
     "name": "stdout",
     "output_type": "stream",
     "text": [
      "Training set size: (2660, 3)\n",
      "Validation set size: (2660, 3)\n"
     ]
    }
   ],
   "source": [
    "from sklearn.model_selection import train_test_split\n",
    "\n",
    "train, val = train_test_split(data, test_size=0.2, random_state=42)\n",
    "\n",
    "print(\"Training set size: {}\".format(train.shape))\n",
    "print(\"Validation set size: {}\".format(train.shape))"
   ],
   "metadata": {
    "collapsed": false,
    "pycharm": {
     "name": "#%%\n"
    }
   }
  },
  {
   "cell_type": "code",
   "execution_count": 6,
   "outputs": [],
   "source": [
    "from transformers import InputExample\n",
    "\n",
    "\n",
    "def convert_data_into_input_example(data):\n",
    "    input_examples = []\n",
    "    for i in range(len(data)):\n",
    "        example = InputExample(\n",
    "            guid=data.iloc[i]['sent_id'],\n",
    "            text_a=data.iloc[i]['text'],\n",
    "            label=data.iloc[i]['label']\n",
    "        )\n",
    "        input_examples.append(example)\n",
    "    return input_examples\n",
    "\n",
    "\n",
    "train = convert_data_into_input_example(train)\n",
    "val = convert_data_into_input_example(val)"
   ],
   "metadata": {
    "collapsed": false,
    "pycharm": {
     "name": "#%%\n"
    }
   }
  },
  {
   "cell_type": "code",
   "execution_count": 7,
   "outputs": [
    {
     "name": "stderr",
     "output_type": "stream",
     "text": [
      "C:\\Users\\Mahdi\\GitProjects\\SENA\\venv\\lib\\site-packages\\transformers\\data\\processors\\glue.py:66: FutureWarning: This function will be removed from the library soon, preprocessing should be handled with the 🤗 Datasets library. You can have a look at this example script for pointers: https://github.com/huggingface/transformers/blob/main/examples/pytorch/text-classification/run_glue.py\n",
      "  warnings.warn(DEPRECATION_WARNING.format(\"function\"), FutureWarning)\n",
      "C:\\Users\\Mahdi\\GitProjects\\SENA\\venv\\lib\\site-packages\\transformers\\data\\processors\\glue.py:174: FutureWarning: This processor will be removed from the library soon, preprocessing should be handled with the 🤗 Datasets library. You can have a look at this example script for pointers: https://github.com/huggingface/transformers/blob/main/examples/pytorch/text-classification/run_glue.py\n",
      "  warnings.warn(DEPRECATION_WARNING.format(\"processor\"), FutureWarning)\n"
     ]
    }
   ],
   "source": [
    "from transformers import BertTokenizer, glue_convert_examples_to_features\n",
    "\n",
    "MAX_SEQ_LENGTH = 128\n",
    "\n",
    "tokenizer = BertTokenizer.from_pretrained('bert-base-multilingual-cased')\n",
    "\n",
    "label_list = [0, 1]\n",
    "\n",
    "train = glue_convert_examples_to_features(examples=train, tokenizer=tokenizer, max_length=MAX_SEQ_LENGTH, task='mrpc',\n",
    "                                          label_list=label_list)\n",
    "val = glue_convert_examples_to_features(examples=val, tokenizer=tokenizer, max_length=MAX_SEQ_LENGTH, task='mrpc',\n",
    "                                        label_list=label_list)"
   ],
   "metadata": {
    "collapsed": false,
    "pycharm": {
     "name": "#%%\n"
    }
   }
  },
  {
   "cell_type": "code",
   "execution_count": 8,
   "outputs": [
    {
     "name": "stdout",
     "output_type": "stream",
     "text": [
      "powerballader typen country duett carrie underwood grøssende fælt musikal another last goodbye\n"
     ]
    }
   ],
   "source": [
    "ex = train[0]\n",
    "in_ids = ex.input_ids\n",
    "decoded_sentence = tokenizer.decode(in_ids, skip_special_tokens=True)\n",
    "print(decoded_sentence)"
   ],
   "metadata": {
    "collapsed": false,
    "pycharm": {
     "name": "#%%\n"
    }
   }
  },
  {
   "cell_type": "code",
   "execution_count": 9,
   "outputs": [
    {
     "ename": "ResourceExhaustedError",
     "evalue": "OOM when allocating tensor with shape[119547,768] and type float on /job:localhost/replica:0/task:0/device:GPU:0 by allocator GPU_0_bfc [Op:AssignVariableOp]",
     "output_type": "error",
     "traceback": [
      "\u001B[1;31m---------------------------------------------------------------------------\u001B[0m",
      "\u001B[1;31mResourceExhaustedError\u001B[0m                    Traceback (most recent call last)",
      "Input \u001B[1;32mIn [9]\u001B[0m, in \u001B[0;36m<cell line: 4>\u001B[1;34m()\u001B[0m\n\u001B[0;32m      1\u001B[0m \u001B[38;5;28;01mfrom\u001B[39;00m \u001B[38;5;21;01mtransformers\u001B[39;00m \u001B[38;5;28;01mimport\u001B[39;00m TFBertForSequenceClassification\n\u001B[0;32m      2\u001B[0m \u001B[38;5;28;01mimport\u001B[39;00m \u001B[38;5;21;01mtensorflow\u001B[39;00m \u001B[38;5;28;01mas\u001B[39;00m \u001B[38;5;21;01mtf\u001B[39;00m\n\u001B[1;32m----> 4\u001B[0m model \u001B[38;5;241m=\u001B[39m \u001B[43mTFBertForSequenceClassification\u001B[49m\u001B[38;5;241;43m.\u001B[39;49m\u001B[43mfrom_pretrained\u001B[49m\u001B[43m(\u001B[49m\u001B[38;5;124;43m'\u001B[39;49m\u001B[38;5;124;43mbert-base-multilingual-cased\u001B[39;49m\u001B[38;5;124;43m'\u001B[39;49m\u001B[43m)\u001B[49m\n\u001B[0;32m      6\u001B[0m optimizer \u001B[38;5;241m=\u001B[39m tf\u001B[38;5;241m.\u001B[39mkeras\u001B[38;5;241m.\u001B[39moptimizers\u001B[38;5;241m.\u001B[39mAdam(learning_rate\u001B[38;5;241m=\u001B[39m\u001B[38;5;241m2e-5\u001B[39m, epsilon\u001B[38;5;241m=\u001B[39m\u001B[38;5;241m1e-08\u001B[39m, clipnorm\u001B[38;5;241m=\u001B[39m\u001B[38;5;241m1.0\u001B[39m)\n\u001B[0;32m      7\u001B[0m loss \u001B[38;5;241m=\u001B[39m tf\u001B[38;5;241m.\u001B[39mkeras\u001B[38;5;241m.\u001B[39mlosses\u001B[38;5;241m.\u001B[39mSparseCategoricalCrossentropy(from_logits\u001B[38;5;241m=\u001B[39m\u001B[38;5;28;01mTrue\u001B[39;00m)\n",
      "File \u001B[1;32m~\\GitProjects\\SENA\\venv\\lib\\site-packages\\transformers\\modeling_tf_utils.py:1809\u001B[0m, in \u001B[0;36mTFPreTrainedModel.from_pretrained\u001B[1;34m(cls, pretrained_model_name_or_path, *model_args, **kwargs)\u001B[0m\n\u001B[0;32m   1806\u001B[0m \u001B[38;5;66;03m# 'by_name' allow us to do transfer learning by skipping/adding layers\u001B[39;00m\n\u001B[0;32m   1807\u001B[0m \u001B[38;5;66;03m# see https://github.com/tensorflow/tensorflow/blob/00fad90125b18b80fe054de1055770cfb8fe4ba3/tensorflow/python/keras/engine/network.py#L1339-L1357\u001B[39;00m\n\u001B[0;32m   1808\u001B[0m \u001B[38;5;28;01mtry\u001B[39;00m:\n\u001B[1;32m-> 1809\u001B[0m     missing_keys, unexpected_keys, mismatched_keys \u001B[38;5;241m=\u001B[39m \u001B[43mload_tf_weights\u001B[49m\u001B[43m(\u001B[49m\n\u001B[0;32m   1810\u001B[0m \u001B[43m        \u001B[49m\u001B[43mmodel\u001B[49m\u001B[43m,\u001B[49m\n\u001B[0;32m   1811\u001B[0m \u001B[43m        \u001B[49m\u001B[43mresolved_archive_file\u001B[49m\u001B[43m,\u001B[49m\n\u001B[0;32m   1812\u001B[0m \u001B[43m        \u001B[49m\u001B[43mignore_mismatched_sizes\u001B[49m\u001B[38;5;241;43m=\u001B[39;49m\u001B[43mignore_mismatched_sizes\u001B[49m\u001B[43m,\u001B[49m\n\u001B[0;32m   1813\u001B[0m \u001B[43m        \u001B[49m\u001B[43m_prefix\u001B[49m\u001B[38;5;241;43m=\u001B[39;49m\u001B[43mload_weight_prefix\u001B[49m\u001B[43m,\u001B[49m\n\u001B[0;32m   1814\u001B[0m \u001B[43m    \u001B[49m\u001B[43m)\u001B[49m\n\u001B[0;32m   1815\u001B[0m \u001B[38;5;28;01mexcept\u001B[39;00m \u001B[38;5;167;01mOSError\u001B[39;00m \u001B[38;5;28;01mas\u001B[39;00m e:\n\u001B[0;32m   1816\u001B[0m     \u001B[38;5;28;01mtry\u001B[39;00m:\n",
      "File \u001B[1;32m~\\GitProjects\\SENA\\venv\\lib\\site-packages\\transformers\\modeling_tf_utils.py:646\u001B[0m, in \u001B[0;36mload_tf_weights\u001B[1;34m(model, resolved_archive_file, ignore_mismatched_sizes, _prefix)\u001B[0m\n\u001B[0;32m    643\u001B[0m                     weight_value_tuples\u001B[38;5;241m.\u001B[39mappend((symbolic_weight, array))\n\u001B[0;32m    645\u001B[0m \u001B[38;5;66;03m# Load all the weights\u001B[39;00m\n\u001B[1;32m--> 646\u001B[0m \u001B[43mK\u001B[49m\u001B[38;5;241;43m.\u001B[39;49m\u001B[43mbatch_set_value\u001B[49m\u001B[43m(\u001B[49m\u001B[43mweight_value_tuples\u001B[49m\u001B[43m)\u001B[49m\n\u001B[0;32m    648\u001B[0m \u001B[38;5;66;03m# Compute the missing and unexpected layers\u001B[39;00m\n\u001B[0;32m    649\u001B[0m missing_layers\u001B[38;5;241m.\u001B[39mextend(\u001B[38;5;28mlist\u001B[39m(symbolic_weights_names \u001B[38;5;241m-\u001B[39m saved_weight_names_set))\n",
      "File \u001B[1;32m~\\GitProjects\\SENA\\venv\\lib\\site-packages\\tensorflow\\python\\util\\traceback_utils.py:153\u001B[0m, in \u001B[0;36mfilter_traceback.<locals>.error_handler\u001B[1;34m(*args, **kwargs)\u001B[0m\n\u001B[0;32m    151\u001B[0m \u001B[38;5;28;01mexcept\u001B[39;00m \u001B[38;5;167;01mException\u001B[39;00m \u001B[38;5;28;01mas\u001B[39;00m e:\n\u001B[0;32m    152\u001B[0m   filtered_tb \u001B[38;5;241m=\u001B[39m _process_traceback_frames(e\u001B[38;5;241m.\u001B[39m__traceback__)\n\u001B[1;32m--> 153\u001B[0m   \u001B[38;5;28;01mraise\u001B[39;00m e\u001B[38;5;241m.\u001B[39mwith_traceback(filtered_tb) \u001B[38;5;28;01mfrom\u001B[39;00m \u001B[38;5;28mNone\u001B[39m\n\u001B[0;32m    154\u001B[0m \u001B[38;5;28;01mfinally\u001B[39;00m:\n\u001B[0;32m    155\u001B[0m   \u001B[38;5;28;01mdel\u001B[39;00m filtered_tb\n",
      "File \u001B[1;32m~\\GitProjects\\SENA\\venv\\lib\\site-packages\\tensorflow\\python\\framework\\ops.py:7186\u001B[0m, in \u001B[0;36mraise_from_not_ok_status\u001B[1;34m(e, name)\u001B[0m\n\u001B[0;32m   7184\u001B[0m \u001B[38;5;28;01mdef\u001B[39;00m \u001B[38;5;21mraise_from_not_ok_status\u001B[39m(e, name):\n\u001B[0;32m   7185\u001B[0m   e\u001B[38;5;241m.\u001B[39mmessage \u001B[38;5;241m+\u001B[39m\u001B[38;5;241m=\u001B[39m (\u001B[38;5;124m\"\u001B[39m\u001B[38;5;124m name: \u001B[39m\u001B[38;5;124m\"\u001B[39m \u001B[38;5;241m+\u001B[39m name \u001B[38;5;28;01mif\u001B[39;00m name \u001B[38;5;129;01mis\u001B[39;00m \u001B[38;5;129;01mnot\u001B[39;00m \u001B[38;5;28;01mNone\u001B[39;00m \u001B[38;5;28;01melse\u001B[39;00m \u001B[38;5;124m\"\u001B[39m\u001B[38;5;124m\"\u001B[39m)\n\u001B[1;32m-> 7186\u001B[0m   \u001B[38;5;28;01mraise\u001B[39;00m core\u001B[38;5;241m.\u001B[39m_status_to_exception(e) \u001B[38;5;28;01mfrom\u001B[39;00m \u001B[38;5;28mNone\u001B[39m\n",
      "\u001B[1;31mResourceExhaustedError\u001B[0m: OOM when allocating tensor with shape[119547,768] and type float on /job:localhost/replica:0/task:0/device:GPU:0 by allocator GPU_0_bfc [Op:AssignVariableOp]"
     ]
    }
   ],
   "source": [
    "from transformers import TFBertForSequenceClassification\n",
    "import tensorflow as tf\n",
    "\n",
    "model = TFBertForSequenceClassification.from_pretrained('bert-base-multilingual-cased')\n",
    "\n",
    "optimizer = tf.keras.optimizers.Adam(learning_rate=2e-5, epsilon=1e-08, clipnorm=1.0)\n",
    "loss = tf.keras.losses.SparseCategoricalCrossentropy(from_logits=True)\n",
    "metric = tf.keras.metrics.SparseCategoricalAccuracy('accuracy')"
   ],
   "metadata": {
    "collapsed": false,
    "pycharm": {
     "name": "#%%\n"
    }
   }
  },
  {
   "cell_type": "code",
   "execution_count": null,
   "outputs": [],
   "source": [
    "model.compile(optimizer=optimizer, loss=loss, metrics=[metric])\n",
    "model.summary()"
   ],
   "metadata": {
    "collapsed": false,
    "pycharm": {
     "name": "#%%\n"
    }
   }
  },
  {
   "cell_type": "code",
   "execution_count": null,
   "outputs": [],
   "source": [
    "import numpy as np\n",
    "\n",
    "\n",
    "def my_solution(bdset):\n",
    "    \"\"\" Create a list of input tensors required to be in the first argument of the\n",
    "        model call function for training. e.g. `model([input_ids, attention_mask, token_type_ids])`.\n",
    "    \"\"\"\n",
    "    input_ids, attention_mask, token_type_ids, label = [], [], [], []\n",
    "    for in_ex in bdset:\n",
    "        input_ids.append(in_ex.input_ids)\n",
    "        attention_mask.append(in_ex.attention_mask)\n",
    "        token_type_ids.append(in_ex.token_type_ids)\n",
    "        label.append(in_ex.label)\n",
    "\n",
    "    input_ids = np.vstack(input_ids)\n",
    "    attention_mask = np.vstack(attention_mask)\n",
    "    token_type_ids = np.vstack(token_type_ids)\n",
    "    label = np.vstack(label)\n",
    "    return ([input_ids, attention_mask, token_type_ids], label)\n",
    "\n",
    "\n",
    "def example_to_features(input_ids, attention_masks, token_type_ids, y):\n",
    "    \"\"\" Convert a training example into the Bert compatible format.\"\"\"\n",
    "    return {\"input_ids\": input_ids,\n",
    "            \"attention_mask\": attention_masks,\n",
    "            \"token_type_ids\": token_type_ids}, y"
   ],
   "metadata": {
    "collapsed": false,
    "pycharm": {
     "name": "#%%\n"
    }
   }
  },
  {
   "cell_type": "code",
   "execution_count": null,
   "outputs": [],
   "source": [
    "X_train, y_train = my_solution(train)\n",
    "X_val, y_val = my_solution(val)\n",
    "\n",
    "train = tf.data.Dataset.from_tensor_slices((X_train[0], X_train[1], X_train[2], y_train)).map(\n",
    "    example_to_features).shuffle(100).batch(32)\n",
    "val = tf.data.Dataset.from_tensor_slices((X_val[0], X_val[1], X_val[2], y_val)).map(example_to_features).batch(64)"
   ],
   "metadata": {
    "collapsed": false,
    "pycharm": {
     "name": "#%%\n"
    }
   }
  },
  {
   "cell_type": "code",
   "execution_count": null,
   "outputs": [],
   "source": [
    "from keras.callbacks import EarlyStopping\n",
    "\n",
    "early_stop = EarlyStopping(monitor=\"val_accuracy\", mode=\"max\", patience=3)\n",
    "\n",
    "epochs = 20\n",
    "\n",
    "history = model.fit(train, validation_data=val, epochs=epochs, verbose=1, callbacks=[early_stop])"
   ],
   "metadata": {
    "collapsed": false,
    "pycharm": {
     "name": "#%%\n"
    }
   }
  },
  {
   "cell_type": "code",
   "execution_count": null,
   "outputs": [],
   "source": [
    "from datetime import datetime\n",
    "\n",
    "model.save(f\"models/SA-BERT-BINARY-BALANCED-{datetime.now().strftime('%Y%m%d%H%M%S')}.h5\")"
   ],
   "metadata": {
    "collapsed": false,
    "pycharm": {
     "name": "#%%\n"
    }
   }
  },
  {
   "cell_type": "code",
   "execution_count": null,
   "outputs": [],
   "source": [
    "from backend.src.utils.utils import plot_history\n",
    "\n",
    "plot_history(history)"
   ],
   "metadata": {
    "collapsed": false,
    "pycharm": {
     "name": "#%%\n"
    }
   }
  }
 ],
 "metadata": {
  "kernelspec": {
   "display_name": "Python 3",
   "language": "python",
   "name": "python3"
  },
  "language_info": {
   "codemirror_mode": {
    "name": "ipython",
    "version": 2
   },
   "file_extension": ".py",
   "mimetype": "text/x-python",
   "name": "python",
   "nbconvert_exporter": "python",
   "pygments_lexer": "ipython2",
   "version": "2.7.6"
  }
 },
 "nbformat": 4,
 "nbformat_minor": 0
}