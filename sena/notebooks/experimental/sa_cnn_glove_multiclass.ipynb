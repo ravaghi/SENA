{
 "cells": [
  {
   "cell_type": "code",
   "execution_count": 1,
   "metadata": {
    "collapsed": true
   },
   "outputs": [],
   "source": [
    "from sena.data.norec.dataloader import load_full_dataset\n",
    "import sena.utils.preprocessing as preprocessing\n",
    "import pandas as pd"
   ]
  },
  {
   "cell_type": "code",
   "execution_count": 2,
   "outputs": [],
   "source": [
    "# Loading data\n",
    "data = load_full_dataset()\n",
    "\n",
    "train = data[\"train\"]\n",
    "val = data[\"dev\"]\n",
    "test = data[\"test\"]\n",
    "\n",
    "# Shuffling data\n",
    "train = train.sample(frac=1).reset_index(drop=True)\n",
    "val = val.sample(frac=1).reset_index(drop=True)\n",
    "test = test.sample(frac=1).reset_index(drop=True)\n",
    "\n",
    "# Cleaning values in the text column\n",
    "train = preprocessing.clean_text(train, \"text\")\n",
    "val = preprocessing.clean_text(val, \"text\")\n",
    "test = preprocessing.clean_text(test, \"text\")\n",
    "\n",
    "# Combining data for later use\n",
    "combined_data = pd.concat([train, val, test]).reset_index(drop=True)"
   ],
   "metadata": {
    "collapsed": false,
    "pycharm": {
     "name": "#%%\n"
    }
   }
  },
  {
   "cell_type": "code",
   "execution_count": 3,
   "outputs": [
    {
     "name": "stdout",
     "output_type": "stream",
     "text": [
      "Number of words: 51000\n"
     ]
    }
   ],
   "source": [
    "from collections import Counter\n",
    "import math\n",
    "\n",
    "num_words = Counter()\n",
    "for review in combined_data[\"text\"]:\n",
    "    for word in review.split(\" \"):\n",
    "        num_words[word] += 1\n",
    "\n",
    "# Deciding the vocabulary size\n",
    "num_words = len(num_words) / 10\n",
    "num_words = math.ceil(num_words / 1000) * 1000\n",
    "print(\"Number of words:\", num_words)"
   ],
   "metadata": {
    "collapsed": false,
    "pycharm": {
     "name": "#%%\n"
    }
   }
  },
  {
   "cell_type": "code",
   "execution_count": 4,
   "outputs": [],
   "source": [
    "from keras.preprocessing.text import Tokenizer\n",
    "\n",
    "# Separating texts and labels\n",
    "X_train, y_train = train[\"text\"], train[\"label\"]\n",
    "X_val, y_val = val[\"text\"], val[\"label\"]\n",
    "X_test, y_test = test[\"text\"], test[\"label\"]\n",
    "\n",
    "# Fitting a tokenizer to text from the combined data\n",
    "tokenizer = Tokenizer(num_words=num_words, oov_token=\"<OOV>\")\n",
    "tokenizer.fit_on_texts(combined_data[\"text\"].tolist())\n",
    "\n",
    "# Converting texts to sequences\n",
    "X_train = tokenizer.texts_to_sequences(X_train)\n",
    "X_val = tokenizer.texts_to_sequences(X_val)\n",
    "X_test = tokenizer.texts_to_sequences(X_test)"
   ],
   "metadata": {
    "collapsed": false,
    "pycharm": {
     "name": "#%%\n"
    }
   }
  },
  {
   "cell_type": "code",
   "execution_count": 5,
   "outputs": [],
   "source": [
    "from keras_preprocessing.sequence import pad_sequences\n",
    "import numpy as np\n",
    "\n",
    "# Deciding embedding vector length\n",
    "maxlen = (int(np.ceil(np.mean([len(text.split()) for text in combined_data.text]))))\n",
    "\n",
    "# Padding sequences with zeros until they reach a certain length\n",
    "X_train = pad_sequences(X_train, maxlen=maxlen, padding=\"post\", truncating=\"post\")\n",
    "X_val = pad_sequences(X_val, maxlen=maxlen, padding=\"post\", truncating=\"post\")\n",
    "X_test = pad_sequences(X_test, maxlen=maxlen, padding=\"post\", truncating=\"post\")"
   ],
   "metadata": {
    "collapsed": false,
    "pycharm": {
     "name": "#%%\n"
    }
   }
  },
  {
   "cell_type": "code",
   "execution_count": 6,
   "outputs": [
    {
     "name": "stdout",
     "output_type": "stream",
     "text": [
      "Number of classes: 3\n"
     ]
    }
   ],
   "source": [
    "from keras.utils.np_utils import to_categorical\n",
    "\n",
    "num_classes = len(np.unique(y_train))\n",
    "print(\"Number of classes:\", num_classes)\n",
    "\n",
    "# One-hot encoding of labels\n",
    "y_train = to_categorical(y_train, num_classes=num_classes)\n",
    "y_val = to_categorical(y_val, num_classes=num_classes)\n",
    "y_test = to_categorical(y_test, num_classes=num_classes)"
   ],
   "metadata": {
    "collapsed": false,
    "pycharm": {
     "name": "#%%\n"
    }
   }
  },
  {
   "cell_type": "code",
   "execution_count": 7,
   "outputs": [
    {
     "name": "stdout",
     "output_type": "stream",
     "text": [
      "X_train shape: (34903, 204)\n",
      "y_train shape: (34903, 3)\n",
      "\n",
      "X_val shape: (4360, 204)\n",
      "y_val shape: (4360, 3)\n",
      "\n",
      "X_test shape: (4351, 204)\n",
      "y_test shape: (4351, 3)\n"
     ]
    }
   ],
   "source": [
    "print(\"X_train shape:\", X_train.shape)\n",
    "print(\"y_train shape:\", y_train.shape, end=\"\\n\\n\")\n",
    "print(\"X_val shape:\", X_val.shape)\n",
    "print(\"y_val shape:\", y_val.shape, end=\"\\n\\n\")\n",
    "print(\"X_test shape:\", X_test.shape)\n",
    "print(\"y_test shape:\", y_test.shape)"
   ],
   "metadata": {
    "collapsed": false,
    "pycharm": {
     "name": "#%%\n"
    }
   }
  },
  {
   "cell_type": "code",
   "execution_count": 8,
   "outputs": [
    {
     "data": {
      "text/plain": "{'<OOV>': 1,\n 'litt': 2,\n 'får': 3,\n 'gjør': 4,\n 'helt': 5,\n 'godt': 6,\n 'filmen': 7,\n 'år': 8,\n 'alt': 9,\n 'nok': 10}"
     },
     "execution_count": 8,
     "metadata": {},
     "output_type": "execute_result"
    }
   ],
   "source": [
    "import itertools\n",
    "\n",
    "# 10 most common words in the vocabulary\n",
    "dict(itertools.islice(tokenizer.word_index.items(), 10))"
   ],
   "metadata": {
    "collapsed": false,
    "pycharm": {
     "name": "#%%\n"
    }
   }
  },
  {
   "cell_type": "code",
   "execution_count": 9,
   "outputs": [],
   "source": [
    "from sena.utils.embeddings import load_embeddings\n",
    "\n",
    "embeddings_index = load_embeddings()"
   ],
   "metadata": {
    "collapsed": false,
    "pycharm": {
     "name": "#%%\n"
    }
   }
  },
  {
   "cell_type": "code",
   "execution_count": 10,
   "outputs": [
    {
     "name": "stderr",
     "output_type": "stream",
     "text": [
      "Creating embedding matrix: 100%|██████████| 506759/506759 [00:01<00:00, 296499.81it/s]\n"
     ]
    }
   ],
   "source": [
    "import numpy as np\n",
    "from tqdm import tqdm\n",
    "\n",
    "word_index = tokenizer.word_index\n",
    "\n",
    "embedding_dim = 100\n",
    "vocab_size = len(word_index) + 1\n",
    "\n",
    "embedding_matrix = np.zeros((vocab_size, embedding_dim))\n",
    "for word, i in tqdm(word_index.items(), desc=\"Creating embedding matrix\"):\n",
    "    embedding_vector = embeddings_index.item().get(word)\n",
    "    if embedding_vector is not None:\n",
    "        embedding_matrix[i] = embedding_vector"
   ],
   "metadata": {
    "collapsed": false,
    "pycharm": {
     "name": "#%%\n"
    }
   }
  },
  {
   "cell_type": "code",
   "execution_count": 11,
   "outputs": [],
   "source": [
    "from keras import Input\n",
    "from keras.layers import Embedding, Flatten, Dense, Conv1D, MaxPooling1D, GlobalMaxPooling1D, Dropout\n",
    "from keras.models import Sequential\n",
    "\n",
    "model = Sequential()\n",
    "\n",
    "model.add(Embedding(vocab_size, embedding_dim, input_length=maxlen, weights=[embedding_matrix], trainable=False))\n",
    "model.add(Input(shape=(maxlen,), dtype=\"float32\"))\n",
    "model.add(Conv1D(256, 5, activation='relu'))\n",
    "model.add(MaxPooling1D(5))\n",
    "model.add(Conv1D(128, 5, activation='relu'))\n",
    "model.add(GlobalMaxPooling1D())\n",
    "model.add(Flatten())\n",
    "model.add(Dense(64, activation='relu'))\n",
    "model.add(Dropout(0.3))\n",
    "model.add(Dense(num_classes, activation='softmax'))"
   ],
   "metadata": {
    "collapsed": false,
    "pycharm": {
     "name": "#%%\n"
    }
   }
  },
  {
   "cell_type": "code",
   "execution_count": 12,
   "outputs": [
    {
     "name": "stdout",
     "output_type": "stream",
     "text": [
      "Model: \"sequential\"\n",
      "_________________________________________________________________\n",
      " Layer (type)                Output Shape              Param #   \n",
      "=================================================================\n",
      " embedding (Embedding)       (None, 204, 100)          50676000  \n",
      "                                                                 \n",
      " input_1 (InputLayer)        multiple                  0         \n",
      "                                                                 \n",
      " conv1d (Conv1D)             (None, 200, 256)          128256    \n",
      "                                                                 \n",
      " max_pooling1d (MaxPooling1D  (None, 40, 256)          0         \n",
      " )                                                               \n",
      "                                                                 \n",
      " conv1d_1 (Conv1D)           (None, 36, 128)           163968    \n",
      "                                                                 \n",
      " global_max_pooling1d (Globa  (None, 128)              0         \n",
      " lMaxPooling1D)                                                  \n",
      "                                                                 \n",
      " flatten (Flatten)           (None, 128)               0         \n",
      "                                                                 \n",
      " dense (Dense)               (None, 64)                8256      \n",
      "                                                                 \n",
      " dropout (Dropout)           (None, 64)                0         \n",
      "                                                                 \n",
      " dense_1 (Dense)             (None, 3)                 195       \n",
      "                                                                 \n",
      "=================================================================\n",
      "Total params: 50,976,675\n",
      "Trainable params: 300,675\n",
      "Non-trainable params: 50,676,000\n",
      "_________________________________________________________________\n"
     ]
    }
   ],
   "source": [
    "model.compile(loss=\"categorical_crossentropy\", optimizer=\"adam\", metrics=[\"accuracy\"])\n",
    "model.summary()"
   ],
   "metadata": {
    "collapsed": false,
    "pycharm": {
     "name": "#%%\n"
    }
   }
  },
  {
   "cell_type": "code",
   "execution_count": 13,
   "outputs": [
    {
     "name": "stdout",
     "output_type": "stream",
     "text": [
      "Epoch 1/20\n",
      "546/546 [==============================] - 62s 112ms/step - loss: 0.8720 - accuracy: 0.5472 - val_loss: 0.7817 - val_accuracy: 0.6213\n",
      "Epoch 2/20\n",
      "546/546 [==============================] - 55s 100ms/step - loss: 0.7849 - accuracy: 0.6138 - val_loss: 0.7363 - val_accuracy: 0.6415\n",
      "Epoch 3/20\n",
      "546/546 [==============================] - 55s 100ms/step - loss: 0.7200 - accuracy: 0.6555 - val_loss: 0.7330 - val_accuracy: 0.6532\n",
      "Epoch 4/20\n",
      "546/546 [==============================] - 54s 100ms/step - loss: 0.6455 - accuracy: 0.7024 - val_loss: 0.7265 - val_accuracy: 0.6626\n",
      "Epoch 5/20\n",
      "546/546 [==============================] - 55s 100ms/step - loss: 0.5467 - accuracy: 0.7568 - val_loss: 0.8997 - val_accuracy: 0.6039\n",
      "Epoch 6/20\n",
      "546/546 [==============================] - 54s 99ms/step - loss: 0.4260 - accuracy: 0.8201 - val_loss: 0.8849 - val_accuracy: 0.6337\n",
      "Epoch 7/20\n",
      "546/546 [==============================] - 55s 101ms/step - loss: 0.3163 - accuracy: 0.8716 - val_loss: 1.1249 - val_accuracy: 0.5904\n"
     ]
    }
   ],
   "source": [
    "from keras.callbacks import EarlyStopping\n",
    "\n",
    "callbacks = [EarlyStopping(monitor=\"val_accuracy\", patience=3),\n",
    "             EarlyStopping(monitor=\"val_loss\", patience=3)]\n",
    "\n",
    "epochs = 20\n",
    "batch_size = 64\n",
    "history = model.fit(X_train, y_train, epochs=epochs, batch_size=batch_size, validation_data=(X_val, y_val), verbose=1,\n",
    "                    callbacks=callbacks)"
   ],
   "metadata": {
    "collapsed": false,
    "pycharm": {
     "name": "#%%\n"
    }
   }
  },
  {
   "cell_type": "code",
   "execution_count": 14,
   "outputs": [
    {
     "data": {
      "text/plain": "<Figure size 1296x432 with 2 Axes>",
      "image/png": "[encoded data removed]"
     },
     "metadata": {},
     "output_type": "display_data"
    }
   ],
   "source": [
    "from sena.utils.visualization import plot_history\n",
    "\n",
    "plot_history(history)"
   ],
   "metadata": {
    "collapsed": false,
    "pycharm": {
     "name": "#%%\n"
    }
   }
  },
  {
   "cell_type": "code",
   "execution_count": 15,
   "outputs": [
    {
     "name": "stdout",
     "output_type": "stream",
     "text": [
      "136/136 [==============================] - 3s 21ms/step - loss: 1.1012 - accuracy: 0.5888\n",
      "Validation loss: 1.1011962890625\n",
      "Validation accuracy: 0.5888301730155945\n"
     ]
    }
   ],
   "source": [
    "val_loss, val_acc = model.evaluate(X_test, y_test)\n",
    "print(\"Validation loss:\", val_loss)\n",
    "print(\"Validation accuracy:\", val_acc)"
   ],
   "metadata": {
    "collapsed": false,
    "pycharm": {
     "name": "#%%\n"
    }
   }
  },
  {
   "cell_type": "code",
   "execution_count": 16,
   "outputs": [],
   "source": [
    "from datetime import datetime\n",
    "\n",
    "if val_acc > 0.8:\n",
    "    print(\"Saving model...\")\n",
    "    model.save(f\"models/SA-CNN-GLOVE-MULTICLASS-{val_acc}-{datetime.now().strftime('%Y%m%d')}.h5\")"
   ],
   "metadata": {
    "collapsed": false,
    "pycharm": {
     "name": "#%%\n"
    }
   }
  }
 ],
 "metadata": {
  "kernelspec": {
   "display_name": "Python 3",
   "language": "python",
   "name": "python3"
  },
  "language_info": {
   "codemirror_mode": {
    "name": "ipython",
    "version": 2
   },
   "file_extension": ".py",
   "mimetype": "text/x-python",
   "name": "python",
   "nbconvert_exporter": "python",
   "pygments_lexer": "ipython2",
   "version": "2.7.6"
  }
 },
 "nbformat": 4,
 "nbformat_minor": 0
}